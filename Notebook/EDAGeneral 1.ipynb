{
 "cells": [
  {
   "cell_type": "code",
   "execution_count": 2,
   "id": "9b43086f",
   "metadata": {},
   "outputs": [
    {
     "name": "stdout",
     "output_type": "stream",
     "text": [
      "Requirement already satisfied: sqlalchemy in c:\\users\\andrei.baidurov\\appdata\\local\\programs\\python\\python312\\lib\\site-packages (2.0.41)\n",
      "Requirement already satisfied: pyodbc in c:\\users\\andrei.baidurov\\appdata\\local\\programs\\python\\python312\\lib\\site-packages (5.2.0)\n",
      "Requirement already satisfied: matplotlib in c:\\users\\andrei.baidurov\\appdata\\local\\programs\\python\\python312\\lib\\site-packages (3.10.1)\n",
      "Requirement already satisfied: seaborn in c:\\users\\andrei.baidurov\\appdata\\local\\programs\\python\\python312\\lib\\site-packages (0.13.2)\n",
      "Requirement already satisfied: plotly in c:\\users\\andrei.baidurov\\appdata\\local\\programs\\python\\python312\\lib\\site-packages (6.0.1)\n",
      "Requirement already satisfied: greenlet>=1 in c:\\users\\andrei.baidurov\\appdata\\local\\programs\\python\\python312\\lib\\site-packages (from sqlalchemy) (3.2.3)\n",
      "Requirement already satisfied: typing-extensions>=4.6.0 in c:\\users\\andrei.baidurov\\appdata\\local\\programs\\python\\python312\\lib\\site-packages (from sqlalchemy) (4.13.2)\n",
      "Requirement already satisfied: contourpy>=1.0.1 in c:\\users\\andrei.baidurov\\appdata\\local\\programs\\python\\python312\\lib\\site-packages (from matplotlib) (1.3.2)\n",
      "Requirement already satisfied: cycler>=0.10 in c:\\users\\andrei.baidurov\\appdata\\local\\programs\\python\\python312\\lib\\site-packages (from matplotlib) (0.12.1)\n",
      "Requirement already satisfied: fonttools>=4.22.0 in c:\\users\\andrei.baidurov\\appdata\\local\\programs\\python\\python312\\lib\\site-packages (from matplotlib) (4.57.0)\n",
      "Requirement already satisfied: kiwisolver>=1.3.1 in c:\\users\\andrei.baidurov\\appdata\\local\\programs\\python\\python312\\lib\\site-packages (from matplotlib) (1.4.8)\n",
      "Requirement already satisfied: numpy>=1.23 in c:\\users\\andrei.baidurov\\appdata\\local\\programs\\python\\python312\\lib\\site-packages (from matplotlib) (2.2.5)\n",
      "Requirement already satisfied: packaging>=20.0 in c:\\users\\andrei.baidurov\\appdata\\local\\programs\\python\\python312\\lib\\site-packages (from matplotlib) (24.2)\n",
      "Requirement already satisfied: pillow>=8 in c:\\users\\andrei.baidurov\\appdata\\local\\programs\\python\\python312\\lib\\site-packages (from matplotlib) (11.2.1)\n",
      "Requirement already satisfied: pyparsing>=2.3.1 in c:\\users\\andrei.baidurov\\appdata\\local\\programs\\python\\python312\\lib\\site-packages (from matplotlib) (3.2.3)\n",
      "Requirement already satisfied: python-dateutil>=2.7 in c:\\users\\andrei.baidurov\\appdata\\roaming\\python\\python312\\site-packages (from matplotlib) (2.9.0.post0)\n",
      "Requirement already satisfied: pandas>=1.2 in c:\\users\\andrei.baidurov\\appdata\\local\\programs\\python\\python312\\lib\\site-packages (from seaborn) (2.2.3)\n",
      "Requirement already satisfied: narwhals>=1.15.1 in c:\\users\\andrei.baidurov\\appdata\\local\\programs\\python\\python312\\lib\\site-packages (from plotly) (1.36.0)\n",
      "Requirement already satisfied: pytz>=2020.1 in c:\\users\\andrei.baidurov\\appdata\\local\\programs\\python\\python312\\lib\\site-packages (from pandas>=1.2->seaborn) (2025.2)\n",
      "Requirement already satisfied: tzdata>=2022.7 in c:\\users\\andrei.baidurov\\appdata\\local\\programs\\python\\python312\\lib\\site-packages (from pandas>=1.2->seaborn) (2025.2)\n",
      "Requirement already satisfied: six>=1.5 in c:\\users\\andrei.baidurov\\appdata\\roaming\\python\\python312\\site-packages (from python-dateutil>=2.7->matplotlib) (1.17.0)\n",
      "Note: you may need to restart the kernel to use updated packages.\n"
     ]
    }
   ],
   "source": [
    "%pip install sqlalchemy pyodbc matplotlib seaborn plotly"
   ]
  },
  {
   "cell_type": "code",
   "execution_count": 4,
   "id": "da3a58df",
   "metadata": {},
   "outputs": [
    {
     "name": "stdout",
     "output_type": "stream",
     "text": [
      "Available ODBC drivers: ['SQL Server']\n",
      "Successfully connected using driver: SQL Server\n",
      "=== DATABASE CONNECTION ESTABLISHED ===\n",
      "Connected to: Upgrade_Abnb\n",
      "DataFrame shape: (1630091, 63)\n",
      "Columns: ['listing_id', 'id_x', 'date', 'reviewer_id', 'reviewer_name', 'id_y', 'name', 'host_id', 'host_name', 'host_since', 'host_location', 'host_response_time', 'host_response_rate', 'host_acceptance_rate', 'host_is_superhost', 'host_has_profile_pic', 'host_identity_verified', 'neighbourhood', 'neighbourhood_cleansed', 'neighbourhood_group_cleansed', 'latitude', 'longitude', 'property_type', 'room_type', 'accommodates', 'bathrooms', 'bathrooms_text', 'bedrooms', 'beds', 'price', 'minimum_nights', 'maximum_nights', 'has_availability', 'availability_30', 'availability_60', 'availability_90', 'availability_365', 'calendar_last_scraped', 'number_of_reviews', 'number_of_reviews_ltm', 'number_of_reviews_l30d', 'availability_eoy', 'number_of_reviews_ly', 'estimated_occupancy_l365d', 'estimated_revenue_l365d', 'first_review', 'last_review', 'review_scores_rating', 'review_scores_accuracy', 'review_scores_cleanliness', 'review_scores_checkin', 'review_scores_communication', 'review_scores_location', 'review_scores_value', 'license', 'instant_bookable', 'calculated_host_listings_count', 'calculated_host_listings_count_entire_homes', 'calculated_host_listings_count_private_rooms', 'calculated_host_listings_count_shared_rooms', 'reviews_per_month', 'origen', 'neighbourhood_origen']\n",
      "\n",
      "=== FIRST 5 ROWS ===\n",
      "            listing_id                 id_x                 date reviewer_id  \\\n",
      "0  1254922720418483052  1373180989604786480  Mar  9 2025 12:00AM   230836956   \n",
      "1  1254922720418483052  1376087681095623483  Mar 13 2025 12:00AM    35004442   \n",
      "2  1254941047534159154  1341997543177317637  Jan 25 2025 12:00AM   674764477   \n",
      "3  1254964367047263129  1266567753744312655  Oct 13 2024 12:00AM   652709444   \n",
      "4  1254964367047263129  1268762558029427404  Oct 16 2024 12:00AM    22893303   \n",
      "\n",
      "     reviewer_name                 id_y  \\\n",
      "0         Patricia  1254922720418483052   \n",
      "1          Perrian  1254922720418483052   \n",
      "2           Carmen  1254941047534159154   \n",
      "3  Maria Esmeralda  1254964367047263129   \n",
      "4            Gyuri  1254964367047263129   \n",
      "\n",
      "                                         name    host_id  host_name  \\\n",
      "0                             Ruzafa Tropical  653594668  Juan Luis   \n",
      "1                             Ruzafa Tropical  653594668  Juan Luis   \n",
      "2                    Apartamento Miramar RD A  654101026    Esteban   \n",
      "3  Dúplex con vistas al mar y parking privado  572767607     Adrian   \n",
      "4  Dúplex con vistas al mar y parking privado  572767607     Adrian   \n",
      "\n",
      "            host_since     host_location host_response_time  \\\n",
      "0  Sep 23 2024 12:00AM   Valencia, Spain     within an hour   \n",
      "1  Sep 23 2024 12:00AM   Valencia, Spain     within an hour   \n",
      "2  Sep 26 2024 12:00AM   Valencia, Spain     within an hour   \n",
      "3  Apr 17 2024 12:00AM  Sin_localización     within an hour   \n",
      "4  Apr 17 2024 12:00AM  Sin_localización     within an hour   \n",
      "\n",
      "   host_response_rate  host_acceptance_rate host_is_superhost  \\\n",
      "0                 100                    99                 t   \n",
      "1                 100                    99                 t   \n",
      "2                 100                    75       Not_defined   \n",
      "3                 100                   100                 t   \n",
      "4                 100                   100                 t   \n",
      "\n",
      "  host_has_profile_pic host_identity_verified  \\\n",
      "0                    t                      t   \n",
      "1                    t                      t   \n",
      "2                    t                      t   \n",
      "3                    t                      t   \n",
      "4                    t                      t   \n",
      "\n",
      "                           neighbourhood neighbourhood_cleansed  \\\n",
      "0  València, Comunidad Valenciana, Spain               EN CORTS   \n",
      "1  València, Comunidad Valenciana, Spain               EN CORTS   \n",
      "2                             Sin_barrio            LA CARRASCA   \n",
      "3                             Sin_barrio           SANT LLORENS   \n",
      "4                             Sin_barrio           SANT LLORENS   \n",
      "\n",
      "  neighbourhood_group_cleansed   latitude  longitude       property_type  \\\n",
      "0              QUATRE CARRERES  39.455345  -0.370261         Entire loft   \n",
      "1              QUATRE CARRERES  39.455345  -0.370261         Entire loft   \n",
      "2                      ALGIROS  39.478474  -0.351597  Entire rental unit   \n",
      "3                     RASCANYA  39.493229  -0.358270  Entire rental unit   \n",
      "4                     RASCANYA  39.493229  -0.358270  Entire rental unit   \n",
      "\n",
      "         room_type  accommodates  bathrooms bathrooms_text  bedrooms  beds  \\\n",
      "0  Entire home/apt             4        1.0         1 bath         1     2   \n",
      "1  Entire home/apt             4        1.0         1 bath         1     2   \n",
      "2  Entire home/apt             4        1.0         1 bath         1     2   \n",
      "3  Entire home/apt             2        1.0         1 bath         1     1   \n",
      "4  Entire home/apt             2        1.0         1 bath         1     1   \n",
      "\n",
      "   price  minimum_nights  maximum_nights has_availability  availability_30  \\\n",
      "0  126.0               1              60                t               25   \n",
      "1  126.0               1              60                t               25   \n",
      "2  128.0               1             365                t               18   \n",
      "3   58.0               1              30                t                2   \n",
      "4   58.0               1              30                t                2   \n",
      "\n",
      "   availability_60  availability_90  availability_365 calendar_last_scraped  \\\n",
      "0               45               72               166   Mar 15 2025 12:00AM   \n",
      "1               45               72               166   Mar 15 2025 12:00AM   \n",
      "2               38               56               118   Mar 15 2025 12:00AM   \n",
      "3               32               62                63   Mar 15 2025 12:00AM   \n",
      "4               32               62                63   Mar 15 2025 12:00AM   \n",
      "\n",
      "   number_of_reviews  number_of_reviews_ltm  number_of_reviews_l30d  \\\n",
      "0                 15                     15                       6   \n",
      "1                 15                     15                       6   \n",
      "2                  1                      1                       0   \n",
      "3                 27                     27                       4   \n",
      "4                 27                     27                       4   \n",
      "\n",
      "   availability_eoy  number_of_reviews_ly  estimated_occupancy_l365d  \\\n",
      "0               166                     6                         90   \n",
      "1               166                     6                         90   \n",
      "2               118                     0                          6   \n",
      "3                63                    14                        162   \n",
      "4                63                    14                        162   \n",
      "\n",
      "   estimated_revenue_l365d         first_review          last_review  \\\n",
      "0                  11340.0  Oct  3 2024 12:00AM  2025-03-13 00:00:00   \n",
      "1                  11340.0  Oct  3 2024 12:00AM  2025-03-13 00:00:00   \n",
      "2                    768.0  Jan 25 2025 12:00AM  2025-01-25 00:00:00   \n",
      "3                   9396.0  Oct 13 2024 12:00AM  2025-03-04 00:00:00   \n",
      "4                   9396.0  Oct 13 2024 12:00AM  2025-03-04 00:00:00   \n",
      "\n",
      "   review_scores_rating  review_scores_accuracy  review_scores_cleanliness  \\\n",
      "0                  4.93                    4.80                       4.93   \n",
      "1                  4.93                    4.80                       4.93   \n",
      "2                  5.00                    5.00                       5.00   \n",
      "3                  4.85                    4.81                       4.93   \n",
      "4                  4.85                    4.81                       4.93   \n",
      "\n",
      "   review_scores_checkin  review_scores_communication  review_scores_location  \\\n",
      "0                   4.93                         4.93                    4.53   \n",
      "1                   4.93                         4.93                    4.53   \n",
      "2                   5.00                         5.00                    5.00   \n",
      "3                   4.78                         4.89                    4.81   \n",
      "4                   4.78                         4.89                    4.81   \n",
      "\n",
      "   review_scores_value       license instant_bookable  \\\n",
      "0                 4.73  Sin_licencia                t   \n",
      "1                 4.73  Sin_licencia                t   \n",
      "2                 5.00  Sin_licencia                t   \n",
      "3                 4.93  Sin_licencia                t   \n",
      "4                 4.93  Sin_licencia                t   \n",
      "\n",
      "   calculated_host_listings_count  \\\n",
      "0                               4   \n",
      "1                               4   \n",
      "2                               5   \n",
      "3                               4   \n",
      "4                               4   \n",
      "\n",
      "   calculated_host_listings_count_entire_homes  \\\n",
      "0                                            4   \n",
      "1                                            4   \n",
      "2                                            5   \n",
      "3                                            4   \n",
      "4                                            4   \n",
      "\n",
      "   calculated_host_listings_count_private_rooms  \\\n",
      "0                                             0   \n",
      "1                                             0   \n",
      "2                                             0   \n",
      "3                                             0   \n",
      "4                                             0   \n",
      "\n",
      "   calculated_host_listings_count_shared_rooms  reviews_per_month    origen  \\\n",
      "0                                            0               2.74  Valencia   \n",
      "1                                            0               2.74  Valencia   \n",
      "2                                            0               0.60  Valencia   \n",
      "3                                            0               5.26  Valencia   \n",
      "4                                            0               5.26  Valencia   \n",
      "\n",
      "      neighbourhood_origen  \n",
      "0      EN CORTS (Valencia)  \n",
      "1      EN CORTS (Valencia)  \n",
      "2   LA CARRASCA (Valencia)  \n",
      "3  SANT LLORENS (Valencia)  \n",
      "4  SANT LLORENS (Valencia)  \n",
      "\n",
      "=== DATA TYPES ===\n",
      "listing_id                                       object\n",
      "id_x                                             object\n",
      "date                                             object\n",
      "reviewer_id                                      object\n",
      "reviewer_name                                    object\n",
      "                                                 ...   \n",
      "calculated_host_listings_count_private_rooms      int64\n",
      "calculated_host_listings_count_shared_rooms       int64\n",
      "reviews_per_month                               float64\n",
      "origen                                           object\n",
      "neighbourhood_origen                             object\n",
      "Length: 63, dtype: object\n",
      "\n",
      "=== MISSING VALUES ===\n",
      "listing_id                                      0\n",
      "id_x                                            0\n",
      "date                                            0\n",
      "reviewer_id                                     0\n",
      "reviewer_name                                   0\n",
      "                                               ..\n",
      "calculated_host_listings_count_private_rooms    0\n",
      "calculated_host_listings_count_shared_rooms     0\n",
      "reviews_per_month                               0\n",
      "origen                                          0\n",
      "neighbourhood_origen                            0\n",
      "Length: 63, dtype: int64\n"
     ]
    }
   ],
   "source": [
    "import pandas as pd\n",
    "import sqlalchemy\n",
    "from sqlalchemy import create_engine\n",
    "import pyodbc\n",
    "import matplotlib.pyplot as plt\n",
    "import seaborn as sns\n",
    "import plotly.express as px\n",
    "import plotly.graph_objects as go\n",
    "from plotly.subplots import make_subplots\n",
    "import numpy as np\n",
    "\n",
    "# Database connection configuration\n",
    "# Replace with your actual credentials\n",
    "server = 'upgrade-abnb-server.database.windows.net'\n",
    "database = 'Upgrade_Abnb'\n",
    "username = 'vmabnbserver'  # Replace with actual username\n",
    "password = 'JWkWW8Bg%>jy,Xj!'  # Replace with actual password\n",
    "\n",
    "# Function to test ODBC drivers and create connection\n",
    "def create_db_connection():\n",
    "    \"\"\"Create database connection with fallback driver options\"\"\"\n",
    "    drivers = [\n",
    "        'ODBC Driver 18 for SQL Server',\n",
    "        'ODBC Driver 17 for SQL Server',\n",
    "        'ODBC Driver 13 for SQL Server',\n",
    "        'SQL Server Native Client 11.0',\n",
    "        'SQL Server'\n",
    "    ]\n",
    "    \n",
    "    # Test available drivers\n",
    "    available_drivers = [driver for driver in pyodbc.drivers() if any(d in driver for d in ['SQL Server', 'ODBC'])]\n",
    "    print(f\"Available ODBC drivers: {available_drivers}\")\n",
    "    \n",
    "    for driver in drivers:\n",
    "        if driver in available_drivers:\n",
    "            try:\n",
    "                connection_string = f'mssql+pyodbc://{username}:{password}@{server}/{database}?driver={driver}&TrustServerCertificate=yes&Encrypt=yes'\n",
    "                engine = create_engine(connection_string)\n",
    "                # Test connection\n",
    "                with engine.connect() as conn:\n",
    "                    conn.execute(sqlalchemy.text(\"SELECT 1\"))\n",
    "                print(f\"Successfully connected using driver: {driver}\")\n",
    "                return engine, connection_string\n",
    "            except Exception as e:\n",
    "                print(f\"Failed with driver {driver}: {str(e)}\")\n",
    "                continue\n",
    "    \n",
    "    # If all drivers fail, try without encryption\n",
    "    for driver in drivers:\n",
    "        if driver in available_drivers:\n",
    "            try:\n",
    "                connection_string = f'mssql+pyodbc://{username}:{password}@{server}/{database}?driver={driver}&TrustServerCertificate=yes'\n",
    "                engine = create_engine(connection_string)\n",
    "                # Test connection\n",
    "                with engine.connect() as conn:\n",
    "                    conn.execute(sqlalchemy.text(\"SELECT 1\"))\n",
    "                print(f\"Successfully connected using driver (no encryption): {driver}\")\n",
    "                return engine, connection_string\n",
    "            except Exception as e:\n",
    "                print(f\"Failed with driver {driver} (no encryption): {str(e)}\")\n",
    "                continue\n",
    "    \n",
    "    raise Exception(\"Could not establish database connection with any available driver\")\n",
    "\n",
    "# Create connection engine\n",
    "engine, connection_string = create_db_connection()\n",
    "\n",
    "# Function to execute queries and return DataFrames\n",
    "def query_to_df(query, engine=engine):\n",
    "    \"\"\"Execute SQL query and return DataFrame\"\"\"\n",
    "    return pd.read_sql(query, engine)\n",
    "\n",
    "# Load main dataset\n",
    "query = \"SELECT * FROM [dbo].[listings_completo]\"\n",
    "df_listings = query_to_df(query)\n",
    "\n",
    "# Configure matplotlib and seaborn for better visualizations\n",
    "plt.style.use('default')\n",
    "sns.set_palette(\"husl\")\n",
    "pd.set_option('display.max_columns', None)\n",
    "pd.set_option('display.width', None)\n",
    "\n",
    "# Display basic information\n",
    "print(\"=== DATABASE CONNECTION ESTABLISHED ===\")\n",
    "print(f\"Connected to: {database}\")\n",
    "print(f\"DataFrame shape: {df_listings.shape}\")\n",
    "print(f\"Columns: {list(df_listings.columns)}\")\n",
    "print(\"\\n=== FIRST 5 ROWS ===\")\n",
    "print(df_listings.head())\n",
    "print(\"\\n=== DATA TYPES ===\")\n",
    "print(df_listings.dtypes)\n",
    "print(\"\\n=== MISSING VALUES ===\")\n",
    "print(df_listings.isnull().sum())"
   ]
  },
  {
   "cell_type": "code",
   "execution_count": 11,
   "id": "3daf4091",
   "metadata": {},
   "outputs": [
    {
     "data": {
      "application/vnd.plotly.v1+json": {
       "config": {
        "plotlyServerURL": "https://plot.ly"
       },
       "data": [
        {
         "hovertemplate": "<b>%{x}</b><br>Precio: €%{y:.0f}<extra></extra>",
         "marker": {
          "color": [
           "#FF6B6B",
           "#4ECDC4",
           "#45B7D1"
          ]
         },
         "name": "Precio Promedio",
         "text": [
          "€396",
          "€115",
          "€145"
         ],
         "textposition": "outside",
         "type": "bar",
         "x": [
          "Mallorca",
          "Málaga",
          "Valencia"
         ],
         "xaxis": "x",
         "y": {
          "bdata": "w/UoXI+6eEAUrkfhesRcQHE9CtejKGJA",
          "dtype": "f8"
         },
         "yaxis": "y"
        },
        {
         "domain": {
          "x": [
           0.35,
           0.6499999999999999
          ],
          "y": [
           0.72,
           1
          ]
         },
         "hovertemplate": "<b>%{label}</b><br>Anuncios: %{value:,}<br>Cuota: %{percent}<extra></extra>",
         "labels": [
          "Mallorca",
          "Málaga",
          "Valencia"
         ],
         "marker": {
          "colors": [
           "#FF6B6B",
           "#4ECDC4",
           "#45B7D1"
          ]
         },
         "name": "Cuota de Mercado",
         "textinfo": "label+percent",
         "type": "pie",
         "values": {
          "bdata": "P1gGAOnFCwBjwQYA",
          "dtype": "i4"
         }
        },
        {
         "hovertemplate": "<b>%{x}</b><br>Puntuación: %{y:.2f}/5<extra></extra>",
         "marker": {
          "color": [
           "#FF6B6B",
           "#4ECDC4",
           "#45B7D1"
          ]
         },
         "name": "Satisfacción",
         "text": [
          "4.77",
          "4.74",
          "4.74"
         ],
         "textposition": "outside",
         "type": "bar",
         "x": [
          "Mallorca",
          "Málaga",
          "Valencia"
         ],
         "xaxis": "x2",
         "y": {
          "bdata": "FK5H4XoUE0D2KFyPwvUSQPYoXI/C9RJA",
          "dtype": "f8"
         },
         "yaxis": "y2"
        },
        {
         "hovertemplate": "<b>%{text}</b><br>Ocupación: %{x:.0f}%<br>Ingresos: €%{y:.0f}<extra></extra>",
         "marker": {
          "color": [
           "#FF6B6B",
           "#4ECDC4",
           "#45B7D1"
          ],
          "line": {
           "color": "white",
           "width": 2
          },
          "size": {
           "bdata": "w2SqYFTKRED1udqK/UlTQLRZ9bnaIkZA",
           "dtype": "f8"
          }
         },
         "mode": "markers+text",
         "name": "Rendimiento",
         "text": [
          "Mallorca",
          "Málaga",
          "Valencia"
         ],
         "textposition": "top center",
         "type": "scatter",
         "x": {
          "bdata": "w/UoXI+iS0AzMzMzMxNOQD0K16Nw3UxA",
          "dtype": "f8"
         },
         "xaxis": "x3",
         "y": {
          "bdata": "IV7Xr6p880Dtnjws1avYQLwd4bSf5N1A",
          "dtype": "f8"
         },
         "yaxis": "y3"
        },
        {
         "hovertemplate": "<b>%{text}</b><br>Precio: €%{x:.0f}<br>Puntuación: %{y:.2f}/5<extra></extra>",
         "marker": {
          "color": [
           "#FF6B6B",
           "#4ECDC4",
           "#45B7D1"
          ],
          "line": {
           "color": "white",
           "width": 2
          },
          "size": {
           "bdata": "w2SqYFTKRED1udqK/UlTQLRZ9bnaIkZA",
           "dtype": "f8"
          }
         },
         "mode": "markers+text",
         "name": "Precio vs Calidad",
         "text": [
          "Mallorca",
          "Málaga",
          "Valencia"
         ],
         "textposition": "top center",
         "type": "scatter",
         "x": {
          "bdata": "w/UoXI+6eEAUrkfhesRcQHE9CtejKGJA",
          "dtype": "f8"
         },
         "xaxis": "x4",
         "y": {
          "bdata": "FK5H4XoUE0D2KFyPwvUSQPYoXI/C9RJA",
          "dtype": "f8"
         },
         "yaxis": "y4"
        },
        {
         "hovertemplate": "<b>%{x}</b><br>Ingresos: €%{y:.0f}<extra></extra>",
         "marker": {
          "color": [
           "#FF6B6B",
           "#4ECDC4",
           "#45B7D1"
          ]
         },
         "name": "Ingresos",
         "text": [
          "€79819",
          "€25263",
          "€30610"
         ],
         "textposition": "outside",
         "type": "bar",
         "x": [
          "Mallorca",
          "Málaga",
          "Valencia"
         ],
         "xaxis": "x5",
         "y": {
          "bdata": "IV7Xr6p880Dtnjws1avYQLwd4bSf5N1A",
          "dtype": "f8"
         },
         "yaxis": "y5"
        },
        {
         "hovertemplate": "<b>%{x}</b><br>Precio Promedio: €%{y:.0f}<extra></extra>",
         "marker": {
          "color": [
           "#96CEB4",
           "#FFEAA7",
           "#DDA0DD"
          ]
         },
         "name": "Precios Regionales",
         "type": "bar",
         "x": [
          "Norte España",
          "Este España",
          "Sur España"
         ],
         "xaxis": "x6",
         "y": [
          145.27,
          145.27,
          115.07
         ],
         "yaxis": "y6"
        },
        {
         "cells": {
          "fill": {
           "color": "#f8f9fa"
          },
          "font": {
           "size": 11
          },
          "values": [
           [
            "Total Mercados",
            "Total Anuncios",
            "Precio Promedio",
            "Puntuación Promedio",
            "Ocupación Promedio"
           ],
           [
            "3",
            "1,630,091",
            "€219",
            "4.75/5",
            "58%"
           ]
          ]
         },
         "domain": {
          "x": [
           0.35,
           0.6499999999999999
          ],
          "y": [
           0,
           0.27999999999999997
          ]
         },
         "header": {
          "fill": {
           "color": "#FF6B6B"
          },
          "font": {
           "color": "white",
           "size": 12
          },
          "values": [
           "Métrica",
           "Valor"
          ]
         },
         "type": "table"
        },
        {
         "hovertemplate": "<b>%{x}</b><br>Puntuación: %{y:.1f}%<extra></extra>",
         "marker": {
          "color": [
           "#FF6B6B",
           "#4ECDC4",
           "#45B7D1"
          ]
         },
         "name": "Puntuación de Rendimiento",
         "text": [
          "96.2%",
          "71.1%",
          "72.6%"
         ],
         "textposition": "outside",
         "type": "bar",
         "x": [
          "Mallorca",
          "Málaga",
          "Valencia"
         ],
         "xaxis": "x7",
         "y": {
          "bdata": "ybcr0OgLWEBBkeBUbMZRQBECop2sJFJA",
          "dtype": "f8"
         },
         "yaxis": "y7"
        }
       ],
       "layout": {
        "annotations": [
         {
          "font": {
           "size": 16
          },
          "showarrow": false,
          "text": "💰 Análisis de Precios",
          "x": 0.15,
          "xanchor": "center",
          "xref": "paper",
          "y": 1,
          "yanchor": "bottom",
          "yref": "paper"
         },
         {
          "font": {
           "size": 16
          },
          "showarrow": false,
          "text": "🏠 Tamaño del Mercado",
          "x": 0.49999999999999994,
          "xanchor": "center",
          "xref": "paper",
          "y": 1,
          "yanchor": "bottom",
          "yref": "paper"
         },
         {
          "font": {
           "size": 16
          },
          "showarrow": false,
          "text": "⭐ Métricas de Calidad",
          "x": 0.85,
          "xanchor": "center",
          "xref": "paper",
          "y": 1,
          "yanchor": "bottom",
          "yref": "paper"
         },
         {
          "font": {
           "size": 16
          },
          "showarrow": false,
          "text": "📊 Ocupación vs Ingresos",
          "x": 0.15,
          "xanchor": "center",
          "xref": "paper",
          "y": 0.6399999999999999,
          "yanchor": "bottom",
          "yref": "paper"
         },
         {
          "font": {
           "size": 16
          },
          "showarrow": false,
          "text": "🎯 Matriz de Rendimiento",
          "x": 0.49999999999999994,
          "xanchor": "center",
          "xref": "paper",
          "y": 0.6399999999999999,
          "yanchor": "bottom",
          "yref": "paper"
         },
         {
          "font": {
           "size": 16
          },
          "showarrow": false,
          "text": "📈 Distribución de Ingresos",
          "x": 0.85,
          "xanchor": "center",
          "xref": "paper",
          "y": 0.6399999999999999,
          "yanchor": "bottom",
          "yref": "paper"
         },
         {
          "font": {
           "size": 16
          },
          "showarrow": false,
          "text": "🌍 Vista Geográfica",
          "x": 0.15,
          "xanchor": "center",
          "xref": "paper",
          "y": 0.27999999999999997,
          "yanchor": "bottom",
          "yref": "paper"
         },
         {
          "font": {
           "size": 16
          },
          "showarrow": false,
          "text": "📋 Resumen del Mercado",
          "x": 0.49999999999999994,
          "xanchor": "center",
          "xref": "paper",
          "y": 0.27999999999999997,
          "yanchor": "bottom",
          "yref": "paper"
         },
         {
          "font": {
           "size": 16
          },
          "showarrow": false,
          "text": "🏆 Mejores Rendimientos",
          "x": 0.85,
          "xanchor": "center",
          "xref": "paper",
          "y": 0.27999999999999997,
          "yanchor": "bottom",
          "yref": "paper"
         }
        ],
        "font": {
         "family": "Arial",
         "size": 10
        },
        "height": 1200,
        "showlegend": false,
        "template": {
         "data": {
          "bar": [
           {
            "error_x": {
             "color": "#2a3f5f"
            },
            "error_y": {
             "color": "#2a3f5f"
            },
            "marker": {
             "line": {
              "color": "white",
              "width": 0.5
             },
             "pattern": {
              "fillmode": "overlay",
              "size": 10,
              "solidity": 0.2
             }
            },
            "type": "bar"
           }
          ],
          "barpolar": [
           {
            "marker": {
             "line": {
              "color": "white",
              "width": 0.5
             },
             "pattern": {
              "fillmode": "overlay",
              "size": 10,
              "solidity": 0.2
             }
            },
            "type": "barpolar"
           }
          ],
          "carpet": [
           {
            "aaxis": {
             "endlinecolor": "#2a3f5f",
             "gridcolor": "#C8D4E3",
             "linecolor": "#C8D4E3",
             "minorgridcolor": "#C8D4E3",
             "startlinecolor": "#2a3f5f"
            },
            "baxis": {
             "endlinecolor": "#2a3f5f",
             "gridcolor": "#C8D4E3",
             "linecolor": "#C8D4E3",
             "minorgridcolor": "#C8D4E3",
             "startlinecolor": "#2a3f5f"
            },
            "type": "carpet"
           }
          ],
          "choropleth": [
           {
            "colorbar": {
             "outlinewidth": 0,
             "ticks": ""
            },
            "type": "choropleth"
           }
          ],
          "contour": [
           {
            "colorbar": {
             "outlinewidth": 0,
             "ticks": ""
            },
            "colorscale": [
             [
              0,
              "#0d0887"
             ],
             [
              0.1111111111111111,
              "#46039f"
             ],
             [
              0.2222222222222222,
              "#7201a8"
             ],
             [
              0.3333333333333333,
              "#9c179e"
             ],
             [
              0.4444444444444444,
              "#bd3786"
             ],
             [
              0.5555555555555556,
              "#d8576b"
             ],
             [
              0.6666666666666666,
              "#ed7953"
             ],
             [
              0.7777777777777778,
              "#fb9f3a"
             ],
             [
              0.8888888888888888,
              "#fdca26"
             ],
             [
              1,
              "#f0f921"
             ]
            ],
            "type": "contour"
           }
          ],
          "contourcarpet": [
           {
            "colorbar": {
             "outlinewidth": 0,
             "ticks": ""
            },
            "type": "contourcarpet"
           }
          ],
          "heatmap": [
           {
            "colorbar": {
             "outlinewidth": 0,
             "ticks": ""
            },
            "colorscale": [
             [
              0,
              "#0d0887"
             ],
             [
              0.1111111111111111,
              "#46039f"
             ],
             [
              0.2222222222222222,
              "#7201a8"
             ],
             [
              0.3333333333333333,
              "#9c179e"
             ],
             [
              0.4444444444444444,
              "#bd3786"
             ],
             [
              0.5555555555555556,
              "#d8576b"
             ],
             [
              0.6666666666666666,
              "#ed7953"
             ],
             [
              0.7777777777777778,
              "#fb9f3a"
             ],
             [
              0.8888888888888888,
              "#fdca26"
             ],
             [
              1,
              "#f0f921"
             ]
            ],
            "type": "heatmap"
           }
          ],
          "histogram": [
           {
            "marker": {
             "pattern": {
              "fillmode": "overlay",
              "size": 10,
              "solidity": 0.2
             }
            },
            "type": "histogram"
           }
          ],
          "histogram2d": [
           {
            "colorbar": {
             "outlinewidth": 0,
             "ticks": ""
            },
            "colorscale": [
             [
              0,
              "#0d0887"
             ],
             [
              0.1111111111111111,
              "#46039f"
             ],
             [
              0.2222222222222222,
              "#7201a8"
             ],
             [
              0.3333333333333333,
              "#9c179e"
             ],
             [
              0.4444444444444444,
              "#bd3786"
             ],
             [
              0.5555555555555556,
              "#d8576b"
             ],
             [
              0.6666666666666666,
              "#ed7953"
             ],
             [
              0.7777777777777778,
              "#fb9f3a"
             ],
             [
              0.8888888888888888,
              "#fdca26"
             ],
             [
              1,
              "#f0f921"
             ]
            ],
            "type": "histogram2d"
           }
          ],
          "histogram2dcontour": [
           {
            "colorbar": {
             "outlinewidth": 0,
             "ticks": ""
            },
            "colorscale": [
             [
              0,
              "#0d0887"
             ],
             [
              0.1111111111111111,
              "#46039f"
             ],
             [
              0.2222222222222222,
              "#7201a8"
             ],
             [
              0.3333333333333333,
              "#9c179e"
             ],
             [
              0.4444444444444444,
              "#bd3786"
             ],
             [
              0.5555555555555556,
              "#d8576b"
             ],
             [
              0.6666666666666666,
              "#ed7953"
             ],
             [
              0.7777777777777778,
              "#fb9f3a"
             ],
             [
              0.8888888888888888,
              "#fdca26"
             ],
             [
              1,
              "#f0f921"
             ]
            ],
            "type": "histogram2dcontour"
           }
          ],
          "mesh3d": [
           {
            "colorbar": {
             "outlinewidth": 0,
             "ticks": ""
            },
            "type": "mesh3d"
           }
          ],
          "parcoords": [
           {
            "line": {
             "colorbar": {
              "outlinewidth": 0,
              "ticks": ""
             }
            },
            "type": "parcoords"
           }
          ],
          "pie": [
           {
            "automargin": true,
            "type": "pie"
           }
          ],
          "scatter": [
           {
            "fillpattern": {
             "fillmode": "overlay",
             "size": 10,
             "solidity": 0.2
            },
            "type": "scatter"
           }
          ],
          "scatter3d": [
           {
            "line": {
             "colorbar": {
              "outlinewidth": 0,
              "ticks": ""
             }
            },
            "marker": {
             "colorbar": {
              "outlinewidth": 0,
              "ticks": ""
             }
            },
            "type": "scatter3d"
           }
          ],
          "scattercarpet": [
           {
            "marker": {
             "colorbar": {
              "outlinewidth": 0,
              "ticks": ""
             }
            },
            "type": "scattercarpet"
           }
          ],
          "scattergeo": [
           {
            "marker": {
             "colorbar": {
              "outlinewidth": 0,
              "ticks": ""
             }
            },
            "type": "scattergeo"
           }
          ],
          "scattergl": [
           {
            "marker": {
             "colorbar": {
              "outlinewidth": 0,
              "ticks": ""
             }
            },
            "type": "scattergl"
           }
          ],
          "scattermap": [
           {
            "marker": {
             "colorbar": {
              "outlinewidth": 0,
              "ticks": ""
             }
            },
            "type": "scattermap"
           }
          ],
          "scattermapbox": [
           {
            "marker": {
             "colorbar": {
              "outlinewidth": 0,
              "ticks": ""
             }
            },
            "type": "scattermapbox"
           }
          ],
          "scatterpolar": [
           {
            "marker": {
             "colorbar": {
              "outlinewidth": 0,
              "ticks": ""
             }
            },
            "type": "scatterpolar"
           }
          ],
          "scatterpolargl": [
           {
            "marker": {
             "colorbar": {
              "outlinewidth": 0,
              "ticks": ""
             }
            },
            "type": "scatterpolargl"
           }
          ],
          "scatterternary": [
           {
            "marker": {
             "colorbar": {
              "outlinewidth": 0,
              "ticks": ""
             }
            },
            "type": "scatterternary"
           }
          ],
          "surface": [
           {
            "colorbar": {
             "outlinewidth": 0,
             "ticks": ""
            },
            "colorscale": [
             [
              0,
              "#0d0887"
             ],
             [
              0.1111111111111111,
              "#46039f"
             ],
             [
              0.2222222222222222,
              "#7201a8"
             ],
             [
              0.3333333333333333,
              "#9c179e"
             ],
             [
              0.4444444444444444,
              "#bd3786"
             ],
             [
              0.5555555555555556,
              "#d8576b"
             ],
             [
              0.6666666666666666,
              "#ed7953"
             ],
             [
              0.7777777777777778,
              "#fb9f3a"
             ],
             [
              0.8888888888888888,
              "#fdca26"
             ],
             [
              1,
              "#f0f921"
             ]
            ],
            "type": "surface"
           }
          ],
          "table": [
           {
            "cells": {
             "fill": {
              "color": "#EBF0F8"
             },
             "line": {
              "color": "white"
             }
            },
            "header": {
             "fill": {
              "color": "#C8D4E3"
             },
             "line": {
              "color": "white"
             }
            },
            "type": "table"
           }
          ]
         },
         "layout": {
          "annotationdefaults": {
           "arrowcolor": "#2a3f5f",
           "arrowhead": 0,
           "arrowwidth": 1
          },
          "autotypenumbers": "strict",
          "coloraxis": {
           "colorbar": {
            "outlinewidth": 0,
            "ticks": ""
           }
          },
          "colorscale": {
           "diverging": [
            [
             0,
             "#8e0152"
            ],
            [
             0.1,
             "#c51b7d"
            ],
            [
             0.2,
             "#de77ae"
            ],
            [
             0.3,
             "#f1b6da"
            ],
            [
             0.4,
             "#fde0ef"
            ],
            [
             0.5,
             "#f7f7f7"
            ],
            [
             0.6,
             "#e6f5d0"
            ],
            [
             0.7,
             "#b8e186"
            ],
            [
             0.8,
             "#7fbc41"
            ],
            [
             0.9,
             "#4d9221"
            ],
            [
             1,
             "#276419"
            ]
           ],
           "sequential": [
            [
             0,
             "#0d0887"
            ],
            [
             0.1111111111111111,
             "#46039f"
            ],
            [
             0.2222222222222222,
             "#7201a8"
            ],
            [
             0.3333333333333333,
             "#9c179e"
            ],
            [
             0.4444444444444444,
             "#bd3786"
            ],
            [
             0.5555555555555556,
             "#d8576b"
            ],
            [
             0.6666666666666666,
             "#ed7953"
            ],
            [
             0.7777777777777778,
             "#fb9f3a"
            ],
            [
             0.8888888888888888,
             "#fdca26"
            ],
            [
             1,
             "#f0f921"
            ]
           ],
           "sequentialminus": [
            [
             0,
             "#0d0887"
            ],
            [
             0.1111111111111111,
             "#46039f"
            ],
            [
             0.2222222222222222,
             "#7201a8"
            ],
            [
             0.3333333333333333,
             "#9c179e"
            ],
            [
             0.4444444444444444,
             "#bd3786"
            ],
            [
             0.5555555555555556,
             "#d8576b"
            ],
            [
             0.6666666666666666,
             "#ed7953"
            ],
            [
             0.7777777777777778,
             "#fb9f3a"
            ],
            [
             0.8888888888888888,
             "#fdca26"
            ],
            [
             1,
             "#f0f921"
            ]
           ]
          },
          "colorway": [
           "#636efa",
           "#EF553B",
           "#00cc96",
           "#ab63fa",
           "#FFA15A",
           "#19d3f3",
           "#FF6692",
           "#B6E880",
           "#FF97FF",
           "#FECB52"
          ],
          "font": {
           "color": "#2a3f5f"
          },
          "geo": {
           "bgcolor": "white",
           "lakecolor": "white",
           "landcolor": "white",
           "showlakes": true,
           "showland": true,
           "subunitcolor": "#C8D4E3"
          },
          "hoverlabel": {
           "align": "left"
          },
          "hovermode": "closest",
          "mapbox": {
           "style": "light"
          },
          "paper_bgcolor": "white",
          "plot_bgcolor": "white",
          "polar": {
           "angularaxis": {
            "gridcolor": "#EBF0F8",
            "linecolor": "#EBF0F8",
            "ticks": ""
           },
           "bgcolor": "white",
           "radialaxis": {
            "gridcolor": "#EBF0F8",
            "linecolor": "#EBF0F8",
            "ticks": ""
           }
          },
          "scene": {
           "xaxis": {
            "backgroundcolor": "white",
            "gridcolor": "#DFE8F3",
            "gridwidth": 2,
            "linecolor": "#EBF0F8",
            "showbackground": true,
            "ticks": "",
            "zerolinecolor": "#EBF0F8"
           },
           "yaxis": {
            "backgroundcolor": "white",
            "gridcolor": "#DFE8F3",
            "gridwidth": 2,
            "linecolor": "#EBF0F8",
            "showbackground": true,
            "ticks": "",
            "zerolinecolor": "#EBF0F8"
           },
           "zaxis": {
            "backgroundcolor": "white",
            "gridcolor": "#DFE8F3",
            "gridwidth": 2,
            "linecolor": "#EBF0F8",
            "showbackground": true,
            "ticks": "",
            "zerolinecolor": "#EBF0F8"
           }
          },
          "shapedefaults": {
           "line": {
            "color": "#2a3f5f"
           }
          },
          "ternary": {
           "aaxis": {
            "gridcolor": "#DFE8F3",
            "linecolor": "#A2B1C6",
            "ticks": ""
           },
           "baxis": {
            "gridcolor": "#DFE8F3",
            "linecolor": "#A2B1C6",
            "ticks": ""
           },
           "bgcolor": "white",
           "caxis": {
            "gridcolor": "#DFE8F3",
            "linecolor": "#A2B1C6",
            "ticks": ""
           }
          },
          "title": {
           "x": 0.05
          },
          "xaxis": {
           "automargin": true,
           "gridcolor": "#EBF0F8",
           "linecolor": "#EBF0F8",
           "ticks": "",
           "title": {
            "standoff": 15
           },
           "zerolinecolor": "#EBF0F8",
           "zerolinewidth": 2
          },
          "yaxis": {
           "automargin": true,
           "gridcolor": "#EBF0F8",
           "linecolor": "#EBF0F8",
           "ticks": "",
           "title": {
            "standoff": 15
           },
           "zerolinecolor": "#EBF0F8",
           "zerolinewidth": 2
          }
         }
        },
        "title": {
         "font": {
          "family": "Arial Black",
          "size": 24
         },
         "text": "🏠 Dashboard Integral de Análisis del Mercado Airbnb",
         "x": 0.5
        },
        "xaxis": {
         "anchor": "y",
         "domain": [
          0,
          0.3
         ],
         "title": {
          "text": "Ciudad"
         }
        },
        "xaxis2": {
         "anchor": "y2",
         "domain": [
          0.7,
          1
         ]
        },
        "xaxis3": {
         "anchor": "y3",
         "domain": [
          0,
          0.3
         ],
         "title": {
          "text": "Ocupación (%)"
         }
        },
        "xaxis4": {
         "anchor": "y4",
         "domain": [
          0.35,
          0.6499999999999999
         ],
         "title": {
          "text": "Precio (€)"
         }
        },
        "xaxis5": {
         "anchor": "y5",
         "domain": [
          0.7,
          1
         ],
         "title": {
          "text": "Ciudad"
         }
        },
        "xaxis6": {
         "anchor": "y6",
         "domain": [
          0,
          0.3
         ],
         "title": {
          "text": "Región"
         }
        },
        "xaxis7": {
         "anchor": "y7",
         "domain": [
          0.7,
          1
         ],
         "title": {
          "text": "Ciudad"
         }
        },
        "yaxis": {
         "anchor": "x",
         "domain": [
          0.72,
          1
         ],
         "title": {
          "text": "Precio (€)"
         }
        },
        "yaxis2": {
         "anchor": "x2",
         "domain": [
          0.72,
          1
         ],
         "title": {
          "text": "Puntuación (1-5)"
         }
        },
        "yaxis3": {
         "anchor": "x3",
         "domain": [
          0.36,
          0.6399999999999999
         ],
         "title": {
          "text": "Ingresos (€)"
         }
        },
        "yaxis4": {
         "anchor": "x4",
         "domain": [
          0.36,
          0.6399999999999999
         ],
         "title": {
          "text": "Satisfacción"
         }
        },
        "yaxis5": {
         "anchor": "x5",
         "domain": [
          0.36,
          0.6399999999999999
         ],
         "title": {
          "text": "Ingresos (€)"
         }
        },
        "yaxis6": {
         "anchor": "x6",
         "domain": [
          0,
          0.27999999999999997
         ],
         "title": {
          "text": "Precio (€)"
         }
        },
        "yaxis7": {
         "anchor": "x7",
         "domain": [
          0,
          0.27999999999999997
         ],
         "title": {
          "text": "Puntuación (%)"
         }
        }
       }
      }
     },
     "metadata": {},
     "output_type": "display_data"
    },
    {
     "name": "stdout",
     "output_type": "stream",
     "text": [
      "====================================================================================================\n",
      "🌍 ANÁLISIS INTEGRAL DEL MERCADO AIRBNB - PERSPECTIVAS GEOGRÁFICAS\n",
      "====================================================================================================\n",
      "📊 Mercados Analizados: 3 destinos principales españoles\n",
      "🏠 Total Propiedades: 1,630,091 anuncios activos\n",
      "💰 Precio Promedio del Mercado: €219 por noche\n",
      "⭐ Satisfacción General de Huéspedes: 4.75/5.0\n",
      "📈 Ocupación Promedio del Mercado: 58%\n",
      "💸 Ingresos Totales del Mercado: €135,692\n",
      "====================================================================================================\n",
      "🗺️ DISTRIBUCIÓN GEOGRÁFICA:\n",
      "   📍 Mallorca (Isla Mediterránea)\n",
      "      🎯 Posición en el Mercado: 415,807 anuncios | €396/noche\n",
      "      📊 Rendimiento: 4.77★ | 55% ocupación\n",
      "\n",
      "   📍 Málaga (Costa Mediterránea)\n",
      "      🎯 Posición en el Mercado: 771,561 anuncios | €115/noche\n",
      "      📊 Rendimiento: 4.74★ | 60% ocupación\n",
      "\n",
      "   📍 Valencia (Costa Mediterránea)\n",
      "      🎯 Posición en el Mercado: 442,723 anuncios | €145/noche\n",
      "      📊 Rendimiento: 4.74★ | 58% ocupación\n",
      "\n",
      "🏆 LÍDERES DEL MERCADO POR CATEGORÍA:\n",
      "💎 Líder Mercado Premium: Mallorca (€396/noche)\n",
      "⭐ Líder Satisfacción Huéspedes: Mallorca (4.77/5.0)\n",
      "📊 Líder Tamaño del Mercado: Málaga (771,561 anuncios)\n",
      "📈 Líder Ocupación: Málaga (60%)\n",
      "💸 Líder Ingresos: Mallorca (€79819)\n",
      "====================================================================================================\n",
      "📈 PERSPECTIVAS CLAVE DEL MERCADO:\n",
      "   💰 Variación de Precios: €281 diferencia entre mercados\n",
      "   🎯 Concentración del Mercado: 47.3% de anuncios en el mercado más grande\n",
      "   ⭐ Consistencia de Calidad: 0.02 desviación estándar en satisfacción\n",
      "   📊 Eficiencia de Rendimiento: 58% tasa de utilización promedio\n",
      "====================================================================================================\n"
     ]
    }
   ],
   "source": [
    "import folium\n",
    "from folium import plugins\n",
    "import plotly.graph_objects as go\n",
    "from plotly.subplots import make_subplots\n",
    "import matplotlib.pyplot as plt\n",
    "import seaborn as sns\n",
    "\n",
    "# Crear un mapa interactivo mostrando ciudades con métricas clave\n",
    "def create_interactive_map(city_stats):\n",
    "    # Calcular el centro del mapa basado en coordenadas promedio\n",
    "    center_lat = city_stats['latitude'].mean()\n",
    "    center_lon = city_stats['longitude'].mean()\n",
    "    \n",
    "    # Crear mapa base\n",
    "    m = folium.Map(\n",
    "        location=[center_lat, center_lon],\n",
    "        zoom_start=6,\n",
    "        tiles='CartoDB positron'\n",
    "    )\n",
    "    \n",
    "    # Añadir marcadores para cada ciudad\n",
    "    for idx, row in city_stats.iterrows():\n",
    "        # Crear contenido popup con métricas clave\n",
    "        popup_content = f\"\"\"\n",
    "        <div style=\"font-family: Arial; width: 250px;\">\n",
    "            <h4 style=\"color: #FF6B6B; margin-bottom: 10px;\">🏠 {row['origen']}</h4>\n",
    "            <hr style=\"margin: 5px 0;\">\n",
    "            <p><b>💰 Precio Promedio:</b> €{row['avg_price']:.0f}</p>\n",
    "            <p><b>🏘️ Total Anuncios:</b> {row['total_listings']:,}</p>\n",
    "            <p><b>⭐ Satisfacción:</b> {row['avg_satisfaction']:.2f}/5.0</p>\n",
    "            <p><b>📈 Ocupación:</b> {row['avg_occupancy']:.0f}%</p>\n",
    "            <p><b>💸 Ingresos Promedio:</b> €{row['avg_revenue']:.0f}</p>\n",
    "        </div>\n",
    "        \"\"\"\n",
    "        \n",
    "        # Codificación de colores basada en nivel de precio\n",
    "        if row['avg_price'] > 300:\n",
    "            color = '#FF6B6B'  # Rojo para caro\n",
    "        elif row['avg_price'] > 150:\n",
    "            color = '#45B7D1'  # Azul para medio\n",
    "        else:\n",
    "            color = '#4ECDC4'  # Verde azulado para asequible\n",
    "        \n",
    "        # Añadir marcador circular con tamaño basado en número de anuncios\n",
    "        folium.CircleMarker(\n",
    "            location=[row['latitude'], row['longitude']],\n",
    "            radius=max(10, row['total_listings'] / 500),  # Escalar tamaño del marcador\n",
    "            popup=folium.Popup(popup_content, max_width=300),\n",
    "            color='white',\n",
    "            weight=3,\n",
    "            fillColor=color,\n",
    "            fillOpacity=0.8,\n",
    "            tooltip=f\"{row['origen']} - €{row['avg_price']:.0f}\"\n",
    "        ).add_to(m)\n",
    "    \n",
    "    # Añadir leyenda\n",
    "    legend_html = '''\n",
    "    <div style=\"position: fixed; \n",
    "                top: 10px; right: 10px; width: 200px; height: 120px; \n",
    "                background-color: white; border:2px solid grey; z-index:9999; \n",
    "                font-size:14px; font-family: Arial; padding: 10px;\">\n",
    "    <h4 style=\"margin-top:0; color: #333;\">Niveles de Precio</h4>\n",
    "    <p><span style=\"color:#FF6B6B;\">●</span> Premium (>€300)</p>\n",
    "    <p><span style=\"color:#45B7D1;\">●</span> Medio (€150-300)</p>\n",
    "    <p><span style=\"color:#4ECDC4;\">●</span> Asequible (<€150)</p>\n",
    "    <p><i>Tamaño marcador = # anuncios</i></p>\n",
    "    </div>\n",
    "    '''\n",
    "    m.get_root().html.add_child(folium.Element(legend_html))\n",
    "    \n",
    "    return m\n",
    "\n",
    "# Crear y mostrar el mapa\n",
    "map_viz = create_interactive_map(city_stats)\n",
    "map_viz\n",
    "\n",
    "# Crear un dashboard moderno integral con mejor organización\n",
    "fig = make_subplots(\n",
    "    rows=3, cols=3,\n",
    "    subplot_titles=[\n",
    "        '💰 Análisis de Precios', '🏠 Tamaño del Mercado', '⭐ Métricas de Calidad',\n",
    "        '📊 Ocupación vs Ingresos', '🎯 Matriz de Rendimiento', '📈 Distribución de Ingresos',\n",
    "        '🌍 Vista Geográfica', '📋 Resumen del Mercado', '🏆 Mejores Rendimientos'\n",
    "    ],\n",
    "    specs=[\n",
    "        [{\"type\": \"bar\"}, {\"type\": \"pie\"}, {\"type\": \"bar\"}],\n",
    "        [{\"type\": \"scatter\"}, {\"type\": \"scatter\"}, {\"type\": \"histogram\"}],\n",
    "        [{\"type\": \"bar\"}, {\"type\": \"table\"}, {\"type\": \"bar\"}]\n",
    "    ],\n",
    "    vertical_spacing=0.08,\n",
    "    horizontal_spacing=0.05\n",
    ")\n",
    "\n",
    "# Esquema de colores\n",
    "colors = ['#FF6B6B', '#4ECDC4', '#45B7D1']\n",
    "\n",
    "# 1. Análisis de Precios (Fila 1, Col 1)\n",
    "fig.add_trace(\n",
    "    go.Bar(\n",
    "        x=city_stats['origen'],\n",
    "        y=city_stats['avg_price'],\n",
    "        name='Precio Promedio',\n",
    "        marker_color=colors,\n",
    "        text=[f'€{price:.0f}' for price in city_stats['avg_price']],\n",
    "        textposition='outside',\n",
    "        hovertemplate='<b>%{x}</b><br>Precio: €%{y:.0f}<extra></extra>'\n",
    "    ),\n",
    "    row=1, col=1\n",
    ")\n",
    "\n",
    "# 2. Gráfico de Pastel Tamaño del Mercado (Fila 1, Col 2)\n",
    "fig.add_trace(\n",
    "    go.Pie(\n",
    "        labels=city_stats['origen'],\n",
    "        values=city_stats['total_listings'],\n",
    "        name=\"Cuota de Mercado\",\n",
    "        marker_colors=colors,\n",
    "        textinfo='label+percent',\n",
    "        hovertemplate='<b>%{label}</b><br>Anuncios: %{value:,}<br>Cuota: %{percent}<extra></extra>'\n",
    "    ),\n",
    "    row=1, col=2\n",
    ")\n",
    "\n",
    "# 3. Métricas de Calidad (Fila 1, Col 3)\n",
    "fig.add_trace(\n",
    "    go.Bar(\n",
    "        x=city_stats['origen'],\n",
    "        y=city_stats['avg_satisfaction'],\n",
    "        name='Satisfacción',\n",
    "        marker_color=colors,\n",
    "        text=[f'{rating:.2f}' for rating in city_stats['avg_satisfaction']],\n",
    "        textposition='outside',\n",
    "        hovertemplate='<b>%{x}</b><br>Puntuación: %{y:.2f}/5<extra></extra>'\n",
    "    ),\n",
    "    row=1, col=3\n",
    ")\n",
    "\n",
    "# 4. Ocupación vs Ingresos (Fila 2, Col 1)\n",
    "fig.add_trace(\n",
    "    go.Scatter(\n",
    "        x=city_stats['avg_occupancy'],\n",
    "        y=city_stats['avg_revenue'],\n",
    "        mode='markers+text',\n",
    "        marker=dict(\n",
    "            size=city_stats['total_listings']/10000,  # Reduced divisor for better visibility\n",
    "            color=colors,\n",
    "            line=dict(width=2, color='white')\n",
    "        ),\n",
    "        text=city_stats['origen'],\n",
    "        textposition='top center',\n",
    "        name='Rendimiento',\n",
    "        hovertemplate='<b>%{text}</b><br>Ocupación: %{x:.0f}%<br>Ingresos: €%{y:.0f}<extra></extra>'\n",
    "    ),\n",
    "    row=2, col=1\n",
    ")\n",
    "\n",
    "# 5. Matriz de Rendimiento - Precio vs Satisfacción (Fila 2, Col 2)\n",
    "fig.add_trace(\n",
    "    go.Scatter(\n",
    "        x=city_stats['avg_price'],\n",
    "        y=city_stats['avg_satisfaction'],\n",
    "        mode='markers+text',\n",
    "        marker=dict(\n",
    "            size=city_stats['total_listings']/10000,  # Reduced divisor for better visibility\n",
    "            color=colors,\n",
    "            line=dict(width=2, color='white')\n",
    "        ),\n",
    "        text=city_stats['origen'],\n",
    "        textposition='top center',\n",
    "        name='Precio vs Calidad',\n",
    "        hovertemplate='<b>%{text}</b><br>Precio: €%{x:.0f}<br>Puntuación: %{y:.2f}/5<extra></extra>'\n",
    "    ),\n",
    "    row=2, col=2\n",
    ")\n",
    "\n",
    "# 6. Distribución de Ingresos (Fila 2, Col 3)\n",
    "fig.add_trace(\n",
    "    go.Bar(\n",
    "        x=city_stats['origen'],\n",
    "        y=city_stats['avg_revenue'],\n",
    "        name='Ingresos',\n",
    "        marker_color=colors,\n",
    "        text=[f'€{rev:.0f}' for rev in city_stats['avg_revenue']],\n",
    "        textposition='outside',\n",
    "        hovertemplate='<b>%{x}</b><br>Ingresos: €%{y:.0f}<extra></extra>'\n",
    "    ),\n",
    "    row=2, col=3\n",
    ")\n",
    "\n",
    "# 7. Distribución Geográfica de Precios (Fila 3, Col 1)\n",
    "fig.add_trace(\n",
    "    go.Bar(\n",
    "        x=['Norte España', 'Este España', 'Sur España'],\n",
    "        y=[city_stats.iloc[2]['avg_price'], city_stats.iloc[2]['avg_price'], city_stats.iloc[1]['avg_price']],\n",
    "        name='Precios Regionales',\n",
    "        marker_color=['#96CEB4', '#FFEAA7', '#DDA0DD'],\n",
    "        hovertemplate='<b>%{x}</b><br>Precio Promedio: €%{y:.0f}<extra></extra>'\n",
    "    ),\n",
    "    row=3, col=1\n",
    ")\n",
    "\n",
    "# 8. Tabla Resumen del Mercado (Fila 3, Col 2)\n",
    "summary_data = [\n",
    "    ['Total Mercados', f'{len(city_stats)}'],\n",
    "    ['Total Anuncios', f'{city_stats[\"total_listings\"].sum():,}'],\n",
    "    ['Precio Promedio', f'€{city_stats[\"avg_price\"].mean():.0f}'],\n",
    "    ['Puntuación Promedio', f'{city_stats[\"avg_satisfaction\"].mean():.2f}/5'],\n",
    "    ['Ocupación Promedio', f'{city_stats[\"avg_occupancy\"].mean():.0f}%']\n",
    "]\n",
    "\n",
    "fig.add_trace(\n",
    "    go.Table(\n",
    "        header=dict(values=['Métrica', 'Valor'],\n",
    "                   fill_color='#FF6B6B',\n",
    "                   font=dict(color='white', size=12)),\n",
    "        cells=dict(values=[[row[0] for row in summary_data],\n",
    "                          [row[1] for row in summary_data]],\n",
    "                  fill_color='#f8f9fa',\n",
    "                  font=dict(size=11))\n",
    "    ),\n",
    "    row=3, col=2\n",
    ")\n",
    "\n",
    "# 9. Mejores Rendimientos (Fila 3, Col 3)\n",
    "performance_score = (\n",
    "    (city_stats['avg_satisfaction'] / 5) * 0.3 +\n",
    "    (city_stats['avg_occupancy'] / city_stats['avg_occupancy'].max()) * 0.3 +\n",
    "    (city_stats['avg_revenue'] / city_stats['avg_revenue'].max()) * 0.4\n",
    ") * 100\n",
    "\n",
    "fig.add_trace(\n",
    "    go.Bar(\n",
    "        x=city_stats['origen'],\n",
    "        y=performance_score,\n",
    "        name='Puntuación de Rendimiento',\n",
    "        marker_color=colors,\n",
    "        text=[f'{score:.1f}%' for score in performance_score],\n",
    "        textposition='outside',\n",
    "        hovertemplate='<b>%{x}</b><br>Puntuación: %{y:.1f}%<extra></extra>'\n",
    "    ),\n",
    "    row=3, col=3\n",
    ")\n",
    "\n",
    "# Actualizar diseño\n",
    "fig.update_layout(\n",
    "    title=dict(\n",
    "        text=\"🏠 Dashboard Integral de Análisis del Mercado Airbnb\",\n",
    "        x=0.5,\n",
    "        font=dict(size=24, family=\"Arial Black\")\n",
    "    ),\n",
    "    height=1200,\n",
    "    showlegend=False,\n",
    "    template=\"plotly_white\",\n",
    "    font=dict(family=\"Arial\", size=10)\n",
    ")\n",
    "\n",
    "# Actualizar ejes específicos\n",
    "fig.update_xaxes(title_text=\"Ciudad\", row=1, col=1)\n",
    "fig.update_yaxes(title_text=\"Precio (€)\", row=1, col=1)\n",
    "fig.update_yaxes(title_text=\"Puntuación (1-5)\", row=1, col=3)\n",
    "fig.update_xaxes(title_text=\"Ocupación (%)\", row=2, col=1)\n",
    "fig.update_yaxes(title_text=\"Ingresos (€)\", row=2, col=1)\n",
    "fig.update_xaxes(title_text=\"Precio (€)\", row=2, col=2)\n",
    "fig.update_yaxes(title_text=\"Satisfacción\", row=2, col=2)\n",
    "fig.update_xaxes(title_text=\"Ciudad\", row=2, col=3)\n",
    "fig.update_yaxes(title_text=\"Ingresos (€)\", row=2, col=3)\n",
    "fig.update_xaxes(title_text=\"Región\", row=3, col=1)\n",
    "fig.update_yaxes(title_text=\"Precio (€)\", row=3, col=1)\n",
    "fig.update_xaxes(title_text=\"Ciudad\", row=3, col=3)\n",
    "fig.update_yaxes(title_text=\"Puntuación (%)\", row=3, col=3)\n",
    "\n",
    "fig.show()\n",
    "\n",
    "# Resumen ejecutivo mejorado con perspectivas geográficas\n",
    "print(\"=\" * 100)\n",
    "print(\"🌍 ANÁLISIS INTEGRAL DEL MERCADO AIRBNB - PERSPECTIVAS GEOGRÁFICAS\")\n",
    "print(\"=\" * 100)\n",
    "print(f\"📊 Mercados Analizados: {len(city_stats)} destinos principales españoles\")\n",
    "print(f\"🏠 Total Propiedades: {city_stats['total_listings'].sum():,} anuncios activos\")\n",
    "print(f\"💰 Precio Promedio del Mercado: €{city_stats['avg_price'].mean():.0f} por noche\")\n",
    "print(f\"⭐ Satisfacción General de Huéspedes: {city_stats['avg_satisfaction'].mean():.2f}/5.0\")\n",
    "print(f\"📈 Ocupación Promedio del Mercado: {city_stats['avg_occupancy'].mean():.0f}%\")\n",
    "print(f\"💸 Ingresos Totales del Mercado: €{city_stats['avg_revenue'].sum():,.0f}\")\n",
    "print(\"=\" * 100)\n",
    "\n",
    "print(\"🗺️ DISTRIBUCIÓN GEOGRÁFICA:\")\n",
    "for idx, row in city_stats.iterrows():\n",
    "    region = \"Isla Mediterránea\" if row['origen'] == \"Mallorca\" else \"Costa Mediterránea\"\n",
    "    print(f\"   📍 {row['origen']} ({region})\")\n",
    "    print(f\"      🎯 Posición en el Mercado: {row['total_listings']:,} anuncios | €{row['avg_price']:.0f}/noche\")\n",
    "    print(f\"      📊 Rendimiento: {row['avg_satisfaction']:.2f}★ | {row['avg_occupancy']:.0f}% ocupación\")\n",
    "    print()\n",
    "\n",
    "print(\"🏆 LÍDERES DEL MERCADO POR CATEGORÍA:\")\n",
    "print(f\"💎 Líder Mercado Premium: {city_stats.loc[city_stats['avg_price'].idxmax(), 'origen']} (€{city_stats['avg_price'].max():.0f}/noche)\")\n",
    "print(f\"⭐ Líder Satisfacción Huéspedes: {city_stats.loc[city_stats['avg_satisfaction'].idxmax(), 'origen']} ({city_stats['avg_satisfaction'].max():.2f}/5.0)\")\n",
    "print(f\"📊 Líder Tamaño del Mercado: {city_stats.loc[city_stats['total_listings'].idxmax(), 'origen']} ({city_stats['total_listings'].max():,} anuncios)\")\n",
    "print(f\"📈 Líder Ocupación: {city_stats.loc[city_stats['avg_occupancy'].idxmax(), 'origen']} ({city_stats['avg_occupancy'].max():.0f}%)\")\n",
    "print(f\"💸 Líder Ingresos: {city_stats.loc[city_stats['avg_revenue'].idxmax(), 'origen']} (€{city_stats['avg_revenue'].max():.0f})\")\n",
    "print(\"=\" * 100)\n",
    "\n",
    "# Perspectivas del mercado\n",
    "price_range = city_stats['avg_price'].max() - city_stats['avg_price'].min()\n",
    "print(\"📈 PERSPECTIVAS CLAVE DEL MERCADO:\")\n",
    "print(f\"   💰 Variación de Precios: €{price_range:.0f} diferencia entre mercados\")\n",
    "print(f\"   🎯 Concentración del Mercado: {(city_stats['total_listings'].max()/city_stats['total_listings'].sum()*100):.1f}% de anuncios en el mercado más grande\")\n",
    "print(f\"   ⭐ Consistencia de Calidad: {city_stats['avg_satisfaction'].std():.2f} desviación estándar en satisfacción\")\n",
    "print(f\"   📊 Eficiencia de Rendimiento: {city_stats['avg_occupancy'].mean():.0f}% tasa de utilización promedio\")\n",
    "print(\"=\" * 100)"
   ]
  },
  {
   "cell_type": "code",
   "execution_count": 7,
   "id": "c82bc667",
   "metadata": {},
   "outputs": [
    {
     "name": "stdout",
     "output_type": "stream",
     "text": [
      "🗺️ Creando mapa interactivo de España con datos reales de Airbnb...\n"
     ]
    },
    {
     "data": {
      "text/html": [
       "<div style=\"width:100%;\"><div style=\"position:relative;width:100%;height:0;padding-bottom:60%;\"><span style=\"color:#565656\">Make this Notebook Trusted to load map: File -> Trust Notebook</span><iframe srcdoc=\"&lt;!DOCTYPE html&gt;\n",
       "&lt;html&gt;\n",
       "&lt;head&gt;\n",
       "    \n",
       "    &lt;meta http-equiv=&quot;content-type&quot; content=&quot;text/html; charset=UTF-8&quot; /&gt;\n",
       "    \n",
       "        &lt;script&gt;\n",
       "            L_NO_TOUCH = false;\n",
       "            L_DISABLE_3D = false;\n",
       "        &lt;/script&gt;\n",
       "    \n",
       "    &lt;style&gt;html, body {width: 100%;height: 100%;margin: 0;padding: 0;}&lt;/style&gt;\n",
       "    &lt;style&gt;#map {position:absolute;top:0;bottom:0;right:0;left:0;}&lt;/style&gt;\n",
       "    &lt;script src=&quot;https://cdn.jsdelivr.net/npm/leaflet@1.9.3/dist/leaflet.js&quot;&gt;&lt;/script&gt;\n",
       "    &lt;script src=&quot;https://code.jquery.com/jquery-3.7.1.min.js&quot;&gt;&lt;/script&gt;\n",
       "    &lt;script src=&quot;https://cdn.jsdelivr.net/npm/bootstrap@5.2.2/dist/js/bootstrap.bundle.min.js&quot;&gt;&lt;/script&gt;\n",
       "    &lt;script src=&quot;https://cdnjs.cloudflare.com/ajax/libs/Leaflet.awesome-markers/2.0.2/leaflet.awesome-markers.js&quot;&gt;&lt;/script&gt;\n",
       "    &lt;link rel=&quot;stylesheet&quot; href=&quot;https://cdn.jsdelivr.net/npm/leaflet@1.9.3/dist/leaflet.css&quot;/&gt;\n",
       "    &lt;link rel=&quot;stylesheet&quot; href=&quot;https://cdn.jsdelivr.net/npm/bootstrap@5.2.2/dist/css/bootstrap.min.css&quot;/&gt;\n",
       "    &lt;link rel=&quot;stylesheet&quot; href=&quot;https://netdna.bootstrapcdn.com/bootstrap/3.0.0/css/bootstrap-glyphicons.css&quot;/&gt;\n",
       "    &lt;link rel=&quot;stylesheet&quot; href=&quot;https://cdn.jsdelivr.net/npm/@fortawesome/fontawesome-free@6.2.0/css/all.min.css&quot;/&gt;\n",
       "    &lt;link rel=&quot;stylesheet&quot; href=&quot;https://cdnjs.cloudflare.com/ajax/libs/Leaflet.awesome-markers/2.0.2/leaflet.awesome-markers.css&quot;/&gt;\n",
       "    &lt;link rel=&quot;stylesheet&quot; href=&quot;https://cdn.jsdelivr.net/gh/python-visualization/folium/folium/templates/leaflet.awesome.rotate.min.css&quot;/&gt;\n",
       "    \n",
       "            &lt;meta name=&quot;viewport&quot; content=&quot;width=device-width,\n",
       "                initial-scale=1.0, maximum-scale=1.0, user-scalable=no&quot; /&gt;\n",
       "            &lt;style&gt;\n",
       "                #map_6bebdd6f198430e1453a9f4fb3785b1d {\n",
       "                    position: relative;\n",
       "                    width: 100.0%;\n",
       "                    height: 100.0%;\n",
       "                    left: 0.0%;\n",
       "                    top: 0.0%;\n",
       "                }\n",
       "                .leaflet-container { font-size: 1rem; }\n",
       "            &lt;/style&gt;\n",
       "        \n",
       "    &lt;script src=&quot;https://cdn.jsdelivr.net/npm/leaflet.fullscreen@3.0.0/Control.FullScreen.min.js&quot;&gt;&lt;/script&gt;\n",
       "    &lt;link rel=&quot;stylesheet&quot; href=&quot;https://cdn.jsdelivr.net/npm/leaflet.fullscreen@3.0.0/Control.FullScreen.css&quot;/&gt;\n",
       "    &lt;script src=&quot;https://cdn.jsdelivr.net/gh/ljagis/leaflet-measure@2.1.7/dist/leaflet-measure.min.js&quot;&gt;&lt;/script&gt;\n",
       "    &lt;link rel=&quot;stylesheet&quot; href=&quot;https://cdn.jsdelivr.net/gh/ljagis/leaflet-measure@2.1.7/dist/leaflet-measure.min.css&quot;/&gt;\n",
       "&lt;/head&gt;\n",
       "&lt;body&gt;\n",
       "    \n",
       "    \n",
       "    &lt;div style=&quot;position: fixed; \n",
       "                top: 10px; right: 10px; width: 280px; \n",
       "                background-color: white; border: 3px solid #2C3E50; z-index: 9999; \n",
       "                font-size: 14px; font-family: &#x27;Segoe UI&#x27;, Arial; \n",
       "                padding: 15px; border-radius: 10px; box-shadow: 0 4px 8px rgba(0,0,0,0.3);&quot;&gt;\n",
       "\n",
       "        &lt;h3 style=&quot;margin: 0 0 15px 0; color: #2C3E50; text-align: center; border-bottom: 2px solid #3498DB; padding-bottom: 5px;&quot;&gt;\n",
       "            🗺️ Mapa del Mercado Airbnb España\n",
       "        &lt;/h3&gt;\n",
       "\n",
       "        &lt;h4 style=&quot;margin: 10px 0 5px 0; color: #34495E;&quot;&gt;💰 Niveles de Precio:&lt;/h4&gt;\n",
       "        &lt;p style=&quot;margin: 3px 0;&quot;&gt;&lt;span style=&quot;color: #FF4444; font-size: 18px;&quot;&gt;●&lt;/span&gt; Premium: &gt;€317&lt;/p&gt;\n",
       "        &lt;p style=&quot;margin: 3px 0;&quot;&gt;&lt;span style=&quot;color: #FF8C00; font-size: 18px;&quot;&gt;●&lt;/span&gt; Alto: €237-317&lt;/p&gt;\n",
       "        &lt;p style=&quot;margin: 3px 0;&quot;&gt;&lt;span style=&quot;color: #FFD700; font-size: 18px;&quot;&gt;●&lt;/span&gt; Medio: €158-237&lt;/p&gt;\n",
       "        &lt;p style=&quot;margin: 3px 0;&quot;&gt;&lt;span style=&quot;color: #32CD32; font-size: 18px;&quot;&gt;●&lt;/span&gt; Asequible: &lt;€158&lt;/p&gt;\n",
       "\n",
       "        &lt;hr style=&quot;margin: 10px 0; border: 1px solid #BDC3C7;&quot;&gt;\n",
       "\n",
       "        &lt;h4 style=&quot;margin: 10px 0 5px 0; color: #34495E;&quot;&gt;📊 Información:&lt;/h4&gt;\n",
       "        &lt;p style=&quot;margin: 3px 0; font-size: 12px;&quot;&gt;🔵 Tamaño = Volumen de mercado&lt;/p&gt;\n",
       "        &lt;p style=&quot;margin: 3px 0; font-size: 12px;&quot;&gt;📍 Click para detalles completos&lt;/p&gt;\n",
       "        &lt;p style=&quot;margin: 3px 0; font-size: 12px;&quot;&gt;🗺️ Múltiples capas disponibles&lt;/p&gt;\n",
       "\n",
       "        &lt;div style=&quot;margin-top: 10px; padding: 8px; background-color: #ECF0F1; border-radius: 5px; text-align: center;&quot;&gt;\n",
       "            &lt;strong style=&quot;color: #2C3E50;&quot;&gt;Total: 3 ciudades&lt;/strong&gt;&lt;br&gt;\n",
       "            &lt;span style=&quot;font-size: 12px; color: #7F8C8D;&quot;&gt;1,630,091 propiedades&lt;/span&gt;\n",
       "        &lt;/div&gt;\n",
       "    &lt;/div&gt;\n",
       "    \n",
       "    \n",
       "            &lt;div class=&quot;folium-map&quot; id=&quot;map_6bebdd6f198430e1453a9f4fb3785b1d&quot; &gt;&lt;/div&gt;\n",
       "        \n",
       "&lt;/body&gt;\n",
       "&lt;script&gt;\n",
       "    \n",
       "    \n",
       "            var map_6bebdd6f198430e1453a9f4fb3785b1d = L.map(\n",
       "                &quot;map_6bebdd6f198430e1453a9f4fb3785b1d&quot;,\n",
       "                {\n",
       "                    center: [40.0, -4.0],\n",
       "                    crs: L.CRS.EPSG3857,\n",
       "                    ...{\n",
       "  &quot;zoom&quot;: 6,\n",
       "  &quot;zoomControl&quot;: true,\n",
       "  &quot;preferCanvas&quot;: false,\n",
       "}\n",
       "\n",
       "                }\n",
       "            );\n",
       "\n",
       "            \n",
       "\n",
       "        \n",
       "    \n",
       "            var tile_layer_02b065f21854e38efa334d5476430990 = L.tileLayer(\n",
       "                &quot;https://tile.openstreetmap.org/{z}/{x}/{y}.png&quot;,\n",
       "                {\n",
       "  &quot;minZoom&quot;: 0,\n",
       "  &quot;maxZoom&quot;: 19,\n",
       "  &quot;maxNativeZoom&quot;: 19,\n",
       "  &quot;noWrap&quot;: false,\n",
       "  &quot;attribution&quot;: &quot;\\u0026copy; \\u003ca href=\\&quot;https://www.openstreetmap.org/copyright\\&quot;\\u003eOpenStreetMap\\u003c/a\\u003e contributors&quot;,\n",
       "  &quot;subdomains&quot;: &quot;abc&quot;,\n",
       "  &quot;detectRetina&quot;: false,\n",
       "  &quot;tms&quot;: false,\n",
       "  &quot;opacity&quot;: 1,\n",
       "}\n",
       "\n",
       "            );\n",
       "        \n",
       "    \n",
       "            tile_layer_02b065f21854e38efa334d5476430990.addTo(map_6bebdd6f198430e1453a9f4fb3785b1d);\n",
       "        \n",
       "    \n",
       "            var tile_layer_f846db99358a39963c6ad204ba0653f1 = L.tileLayer(\n",
       "                &quot;https://{s}.basemaps.cartocdn.com/light_all/{z}/{x}/{y}{r}.png&quot;,\n",
       "                {\n",
       "  &quot;minZoom&quot;: 0,\n",
       "  &quot;maxZoom&quot;: 20,\n",
       "  &quot;maxNativeZoom&quot;: 20,\n",
       "  &quot;noWrap&quot;: false,\n",
       "  &quot;attribution&quot;: &quot;\\u0026copy; \\u003ca href=\\&quot;https://www.openstreetmap.org/copyright\\&quot;\\u003eOpenStreetMap\\u003c/a\\u003e contributors \\u0026copy; \\u003ca href=\\&quot;https://carto.com/attributions\\&quot;\\u003eCARTO\\u003c/a\\u003e&quot;,\n",
       "  &quot;subdomains&quot;: &quot;abcd&quot;,\n",
       "  &quot;detectRetina&quot;: false,\n",
       "  &quot;tms&quot;: false,\n",
       "  &quot;opacity&quot;: 1,\n",
       "}\n",
       "\n",
       "            );\n",
       "        \n",
       "    \n",
       "            tile_layer_f846db99358a39963c6ad204ba0653f1.addTo(map_6bebdd6f198430e1453a9f4fb3785b1d);\n",
       "        \n",
       "    \n",
       "            var tile_layer_26d662d0ca285fddd66283895ed21302 = L.tileLayer(\n",
       "                &quot;https://{s}.basemaps.cartocdn.com/dark_all/{z}/{x}/{y}{r}.png&quot;,\n",
       "                {\n",
       "  &quot;minZoom&quot;: 0,\n",
       "  &quot;maxZoom&quot;: 20,\n",
       "  &quot;maxNativeZoom&quot;: 20,\n",
       "  &quot;noWrap&quot;: false,\n",
       "  &quot;attribution&quot;: &quot;\\u0026copy; \\u003ca href=\\&quot;https://www.openstreetmap.org/copyright\\&quot;\\u003eOpenStreetMap\\u003c/a\\u003e contributors \\u0026copy; \\u003ca href=\\&quot;https://carto.com/attributions\\&quot;\\u003eCARTO\\u003c/a\\u003e&quot;,\n",
       "  &quot;subdomains&quot;: &quot;abcd&quot;,\n",
       "  &quot;detectRetina&quot;: false,\n",
       "  &quot;tms&quot;: false,\n",
       "  &quot;opacity&quot;: 1,\n",
       "}\n",
       "\n",
       "            );\n",
       "        \n",
       "    \n",
       "            tile_layer_26d662d0ca285fddd66283895ed21302.addTo(map_6bebdd6f198430e1453a9f4fb3785b1d);\n",
       "        \n",
       "    \n",
       "            var circle_marker_89d8afb968e4b1e0e2f2bf53ccc5b363 = L.circleMarker(\n",
       "                [39.6953, 2.9603],\n",
       "                {&quot;bubblingMouseEvents&quot;: true, &quot;color&quot;: &quot;white&quot;, &quot;dashArray&quot;: null, &quot;dashOffset&quot;: null, &quot;fill&quot;: true, &quot;fillColor&quot;: &quot;#FF4444&quot;, &quot;fillOpacity&quot;: 0.8, &quot;fillRule&quot;: &quot;evenodd&quot;, &quot;lineCap&quot;: &quot;round&quot;, &quot;lineJoin&quot;: &quot;round&quot;, &quot;opacity&quot;: 1.0, &quot;radius&quot;: 40, &quot;stroke&quot;: true, &quot;weight&quot;: 3}\n",
       "            ).addTo(map_6bebdd6f198430e1453a9f4fb3785b1d);\n",
       "        \n",
       "    \n",
       "        var popup_868258ea7a32c0762ae25fe76c85b816 = L.popup({\n",
       "  &quot;maxWidth&quot;: 350,\n",
       "});\n",
       "\n",
       "        \n",
       "            \n",
       "                var html_d24085d3f6f593aa474e465ce3368d5c = $(`&lt;div id=&quot;html_d24085d3f6f593aa474e465ce3368d5c&quot; style=&quot;width: 100.0%; height: 100.0%;&quot;&gt;         &lt;div style=&quot;font-family: &#x27;Segoe UI&#x27;, Arial, sans-serif; width: 300px; padding: 15px;&quot;&gt;             &lt;h3 style=&quot;color: #2C3E50; margin: 0 0 15px 0; text-align: center; border-bottom: 2px solid #3498DB;&quot;&gt;                 🏛️ Mallorca             &lt;/h3&gt;              &lt;div style=&quot;background: linear-gradient(135deg, #667eea 0%, #764ba2 100%);                          color: white; padding: 10px; border-radius: 8px; margin-bottom: 15px;&quot;&gt;                 &lt;h4 style=&quot;margin: 0; text-align: center;&quot;&gt;💰 €396 por noche&lt;/h4&gt;             &lt;/div&gt;              &lt;table style=&quot;width: 100%; border-collapse: collapse;&quot;&gt;                 &lt;tr style=&quot;background-color: #f8f9fa;&quot;&gt;                     &lt;td style=&quot;padding: 8px; border: 1px solid #dee2e6;&quot;&gt;&lt;strong&gt;🏠 Propiedades:&lt;/strong&gt;&lt;/td&gt;                     &lt;td style=&quot;padding: 8px; border: 1px solid #dee2e6;&quot;&gt;415,807&lt;/td&gt;                 &lt;/tr&gt;                 &lt;tr&gt;                     &lt;td style=&quot;padding: 8px; border: 1px solid #dee2e6;&quot;&gt;&lt;strong&gt;⭐ Satisfacción:&lt;/strong&gt;&lt;/td&gt;                     &lt;td style=&quot;padding: 8px; border: 1px solid #dee2e6;&quot;&gt;4.77/5.0&lt;/td&gt;                 &lt;/tr&gt;                 &lt;tr style=&quot;background-color: #f8f9fa;&quot;&gt;                     &lt;td style=&quot;padding: 8px; border: 1px solid #dee2e6;&quot;&gt;&lt;strong&gt;📈 Ocupación:&lt;/strong&gt;&lt;/td&gt;                     &lt;td style=&quot;padding: 8px; border: 1px solid #dee2e6;&quot;&gt;55%&lt;/td&gt;                 &lt;/tr&gt;                 &lt;tr&gt;                     &lt;td style=&quot;padding: 8px; border: 1px solid #dee2e6;&quot;&gt;&lt;strong&gt;💸 Ingresos Anuales:&lt;/strong&gt;&lt;/td&gt;                     &lt;td style=&quot;padding: 8px; border: 1px solid #dee2e6;&quot;&gt;€79819&lt;/td&gt;                 &lt;/tr&gt;                 &lt;tr style=&quot;background-color: #f8f9fa;&quot;&gt;                     &lt;td style=&quot;padding: 8px; border: 1px solid #dee2e6;&quot;&gt;&lt;strong&gt;📍 Coordenadas:&lt;/strong&gt;&lt;/td&gt;                     &lt;td style=&quot;padding: 8px; border: 1px solid #dee2e6;&quot;&gt;39.695, 2.960&lt;/td&gt;                 &lt;/tr&gt;             &lt;/table&gt;              &lt;div style=&quot;margin-top: 15px; text-align: center; font-size: 12px; color: #7f8c8d;&quot;&gt;                 💡 Tamaño del marcador = Volumen de mercado             &lt;/div&gt;         &lt;/div&gt;         &lt;/div&gt;`)[0];\n",
       "                popup_868258ea7a32c0762ae25fe76c85b816.setContent(html_d24085d3f6f593aa474e465ce3368d5c);\n",
       "            \n",
       "        \n",
       "\n",
       "        circle_marker_89d8afb968e4b1e0e2f2bf53ccc5b363.bindPopup(popup_868258ea7a32c0762ae25fe76c85b816)\n",
       "        ;\n",
       "\n",
       "        \n",
       "    \n",
       "    \n",
       "            circle_marker_89d8afb968e4b1e0e2f2bf53ccc5b363.bindTooltip(\n",
       "                `&lt;div&gt;\n",
       "                     Mallorca - €396/noche - 415807 propiedades\n",
       "                 &lt;/div&gt;`,\n",
       "                {\n",
       "  &quot;sticky&quot;: true,\n",
       "}\n",
       "            );\n",
       "        \n",
       "    \n",
       "            var marker_88142174869473fe5406998ab5dcd25e = L.marker(\n",
       "                [39.6953, 2.9603],\n",
       "                {\n",
       "}\n",
       "            ).addTo(map_6bebdd6f198430e1453a9f4fb3785b1d);\n",
       "        \n",
       "    \n",
       "            var div_icon_375dae9c1962d4dd0e9633d7e44175df = L.divIcon({\n",
       "  &quot;html&quot;: &quot;\\n                \\u003cdiv style=\\&quot;background-color: rgba(255,255,255,0.9); \\n                           border: 2px solid #FF4444; \\n                           border-radius: 5px; \\n                           padding: 2px 6px; \\n                           font-weight: bold; \\n                           font-size: 12px; \\n                           color: #2C3E50;\\n                           box-shadow: 0 2px 4px rgba(0,0,0,0.3);\\&quot;\\u003e\\n                    Mallorca\\n                \\u003c/div\\u003e\\n                &quot;,\n",
       "  &quot;iconSize&quot;: [80, 20],\n",
       "  &quot;iconAnchor&quot;: [40, 35],\n",
       "  &quot;className&quot;: &quot;empty&quot;,\n",
       "});\n",
       "            marker_88142174869473fe5406998ab5dcd25e.setIcon(div_icon_375dae9c1962d4dd0e9633d7e44175df);\n",
       "        \n",
       "    \n",
       "                marker_88142174869473fe5406998ab5dcd25e.setIcon(div_icon_375dae9c1962d4dd0e9633d7e44175df);\n",
       "            \n",
       "    \n",
       "            var circle_marker_f28dc85c5cedf26e771248d98849a2ce = L.circleMarker(\n",
       "                [36.7213, -4.4214],\n",
       "                {&quot;bubblingMouseEvents&quot;: true, &quot;color&quot;: &quot;white&quot;, &quot;dashArray&quot;: null, &quot;dashOffset&quot;: null, &quot;fill&quot;: true, &quot;fillColor&quot;: &quot;#32CD32&quot;, &quot;fillOpacity&quot;: 0.8, &quot;fillRule&quot;: &quot;evenodd&quot;, &quot;lineCap&quot;: &quot;round&quot;, &quot;lineJoin&quot;: &quot;round&quot;, &quot;opacity&quot;: 1.0, &quot;radius&quot;: 40, &quot;stroke&quot;: true, &quot;weight&quot;: 3}\n",
       "            ).addTo(map_6bebdd6f198430e1453a9f4fb3785b1d);\n",
       "        \n",
       "    \n",
       "        var popup_a55c13ae68207a6c4bb6ee319f1eb279 = L.popup({\n",
       "  &quot;maxWidth&quot;: 350,\n",
       "});\n",
       "\n",
       "        \n",
       "            \n",
       "                var html_ae7c6d684f6e62ca6f1a30f993ae3dae = $(`&lt;div id=&quot;html_ae7c6d684f6e62ca6f1a30f993ae3dae&quot; style=&quot;width: 100.0%; height: 100.0%;&quot;&gt;         &lt;div style=&quot;font-family: &#x27;Segoe UI&#x27;, Arial, sans-serif; width: 300px; padding: 15px;&quot;&gt;             &lt;h3 style=&quot;color: #2C3E50; margin: 0 0 15px 0; text-align: center; border-bottom: 2px solid #3498DB;&quot;&gt;                 🏛️ Málaga             &lt;/h3&gt;              &lt;div style=&quot;background: linear-gradient(135deg, #667eea 0%, #764ba2 100%);                          color: white; padding: 10px; border-radius: 8px; margin-bottom: 15px;&quot;&gt;                 &lt;h4 style=&quot;margin: 0; text-align: center;&quot;&gt;💰 €115 por noche&lt;/h4&gt;             &lt;/div&gt;              &lt;table style=&quot;width: 100%; border-collapse: collapse;&quot;&gt;                 &lt;tr style=&quot;background-color: #f8f9fa;&quot;&gt;                     &lt;td style=&quot;padding: 8px; border: 1px solid #dee2e6;&quot;&gt;&lt;strong&gt;🏠 Propiedades:&lt;/strong&gt;&lt;/td&gt;                     &lt;td style=&quot;padding: 8px; border: 1px solid #dee2e6;&quot;&gt;771,561&lt;/td&gt;                 &lt;/tr&gt;                 &lt;tr&gt;                     &lt;td style=&quot;padding: 8px; border: 1px solid #dee2e6;&quot;&gt;&lt;strong&gt;⭐ Satisfacción:&lt;/strong&gt;&lt;/td&gt;                     &lt;td style=&quot;padding: 8px; border: 1px solid #dee2e6;&quot;&gt;4.74/5.0&lt;/td&gt;                 &lt;/tr&gt;                 &lt;tr style=&quot;background-color: #f8f9fa;&quot;&gt;                     &lt;td style=&quot;padding: 8px; border: 1px solid #dee2e6;&quot;&gt;&lt;strong&gt;📈 Ocupación:&lt;/strong&gt;&lt;/td&gt;                     &lt;td style=&quot;padding: 8px; border: 1px solid #dee2e6;&quot;&gt;60%&lt;/td&gt;                 &lt;/tr&gt;                 &lt;tr&gt;                     &lt;td style=&quot;padding: 8px; border: 1px solid #dee2e6;&quot;&gt;&lt;strong&gt;💸 Ingresos Anuales:&lt;/strong&gt;&lt;/td&gt;                     &lt;td style=&quot;padding: 8px; border: 1px solid #dee2e6;&quot;&gt;€25263&lt;/td&gt;                 &lt;/tr&gt;                 &lt;tr style=&quot;background-color: #f8f9fa;&quot;&gt;                     &lt;td style=&quot;padding: 8px; border: 1px solid #dee2e6;&quot;&gt;&lt;strong&gt;📍 Coordenadas:&lt;/strong&gt;&lt;/td&gt;                     &lt;td style=&quot;padding: 8px; border: 1px solid #dee2e6;&quot;&gt;36.721, -4.421&lt;/td&gt;                 &lt;/tr&gt;             &lt;/table&gt;              &lt;div style=&quot;margin-top: 15px; text-align: center; font-size: 12px; color: #7f8c8d;&quot;&gt;                 💡 Tamaño del marcador = Volumen de mercado             &lt;/div&gt;         &lt;/div&gt;         &lt;/div&gt;`)[0];\n",
       "                popup_a55c13ae68207a6c4bb6ee319f1eb279.setContent(html_ae7c6d684f6e62ca6f1a30f993ae3dae);\n",
       "            \n",
       "        \n",
       "\n",
       "        circle_marker_f28dc85c5cedf26e771248d98849a2ce.bindPopup(popup_a55c13ae68207a6c4bb6ee319f1eb279)\n",
       "        ;\n",
       "\n",
       "        \n",
       "    \n",
       "    \n",
       "            circle_marker_f28dc85c5cedf26e771248d98849a2ce.bindTooltip(\n",
       "                `&lt;div&gt;\n",
       "                     Málaga - €115/noche - 771561 propiedades\n",
       "                 &lt;/div&gt;`,\n",
       "                {\n",
       "  &quot;sticky&quot;: true,\n",
       "}\n",
       "            );\n",
       "        \n",
       "    \n",
       "            var marker_781da31dc358d354465239c441ffeec5 = L.marker(\n",
       "                [36.7213, -4.4214],\n",
       "                {\n",
       "}\n",
       "            ).addTo(map_6bebdd6f198430e1453a9f4fb3785b1d);\n",
       "        \n",
       "    \n",
       "            var div_icon_8f56a49196c56b10feff39315497c5d3 = L.divIcon({\n",
       "  &quot;html&quot;: &quot;\\n                \\u003cdiv style=\\&quot;background-color: rgba(255,255,255,0.9); \\n                           border: 2px solid #32CD32; \\n                           border-radius: 5px; \\n                           padding: 2px 6px; \\n                           font-weight: bold; \\n                           font-size: 12px; \\n                           color: #2C3E50;\\n                           box-shadow: 0 2px 4px rgba(0,0,0,0.3);\\&quot;\\u003e\\n                    M\\u00e1laga\\n                \\u003c/div\\u003e\\n                &quot;,\n",
       "  &quot;iconSize&quot;: [80, 20],\n",
       "  &quot;iconAnchor&quot;: [40, 35],\n",
       "  &quot;className&quot;: &quot;empty&quot;,\n",
       "});\n",
       "            marker_781da31dc358d354465239c441ffeec5.setIcon(div_icon_8f56a49196c56b10feff39315497c5d3);\n",
       "        \n",
       "    \n",
       "                marker_781da31dc358d354465239c441ffeec5.setIcon(div_icon_8f56a49196c56b10feff39315497c5d3);\n",
       "            \n",
       "    \n",
       "            var circle_marker_5a9612137ba4ea60a2aa382cb34349b3 = L.circleMarker(\n",
       "                [39.4699, -0.3763],\n",
       "                {&quot;bubblingMouseEvents&quot;: true, &quot;color&quot;: &quot;white&quot;, &quot;dashArray&quot;: null, &quot;dashOffset&quot;: null, &quot;fill&quot;: true, &quot;fillColor&quot;: &quot;#32CD32&quot;, &quot;fillOpacity&quot;: 0.8, &quot;fillRule&quot;: &quot;evenodd&quot;, &quot;lineCap&quot;: &quot;round&quot;, &quot;lineJoin&quot;: &quot;round&quot;, &quot;opacity&quot;: 1.0, &quot;radius&quot;: 40, &quot;stroke&quot;: true, &quot;weight&quot;: 3}\n",
       "            ).addTo(map_6bebdd6f198430e1453a9f4fb3785b1d);\n",
       "        \n",
       "    \n",
       "        var popup_927ac83a1bc20e2e1cea0197856cdea9 = L.popup({\n",
       "  &quot;maxWidth&quot;: 350,\n",
       "});\n",
       "\n",
       "        \n",
       "            \n",
       "                var html_6cbab8f50b6429419c4351964e38216a = $(`&lt;div id=&quot;html_6cbab8f50b6429419c4351964e38216a&quot; style=&quot;width: 100.0%; height: 100.0%;&quot;&gt;         &lt;div style=&quot;font-family: &#x27;Segoe UI&#x27;, Arial, sans-serif; width: 300px; padding: 15px;&quot;&gt;             &lt;h3 style=&quot;color: #2C3E50; margin: 0 0 15px 0; text-align: center; border-bottom: 2px solid #3498DB;&quot;&gt;                 🏛️ Valencia             &lt;/h3&gt;              &lt;div style=&quot;background: linear-gradient(135deg, #667eea 0%, #764ba2 100%);                          color: white; padding: 10px; border-radius: 8px; margin-bottom: 15px;&quot;&gt;                 &lt;h4 style=&quot;margin: 0; text-align: center;&quot;&gt;💰 €145 por noche&lt;/h4&gt;             &lt;/div&gt;              &lt;table style=&quot;width: 100%; border-collapse: collapse;&quot;&gt;                 &lt;tr style=&quot;background-color: #f8f9fa;&quot;&gt;                     &lt;td style=&quot;padding: 8px; border: 1px solid #dee2e6;&quot;&gt;&lt;strong&gt;🏠 Propiedades:&lt;/strong&gt;&lt;/td&gt;                     &lt;td style=&quot;padding: 8px; border: 1px solid #dee2e6;&quot;&gt;442,723&lt;/td&gt;                 &lt;/tr&gt;                 &lt;tr&gt;                     &lt;td style=&quot;padding: 8px; border: 1px solid #dee2e6;&quot;&gt;&lt;strong&gt;⭐ Satisfacción:&lt;/strong&gt;&lt;/td&gt;                     &lt;td style=&quot;padding: 8px; border: 1px solid #dee2e6;&quot;&gt;4.74/5.0&lt;/td&gt;                 &lt;/tr&gt;                 &lt;tr style=&quot;background-color: #f8f9fa;&quot;&gt;                     &lt;td style=&quot;padding: 8px; border: 1px solid #dee2e6;&quot;&gt;&lt;strong&gt;📈 Ocupación:&lt;/strong&gt;&lt;/td&gt;                     &lt;td style=&quot;padding: 8px; border: 1px solid #dee2e6;&quot;&gt;58%&lt;/td&gt;                 &lt;/tr&gt;                 &lt;tr&gt;                     &lt;td style=&quot;padding: 8px; border: 1px solid #dee2e6;&quot;&gt;&lt;strong&gt;💸 Ingresos Anuales:&lt;/strong&gt;&lt;/td&gt;                     &lt;td style=&quot;padding: 8px; border: 1px solid #dee2e6;&quot;&gt;€30610&lt;/td&gt;                 &lt;/tr&gt;                 &lt;tr style=&quot;background-color: #f8f9fa;&quot;&gt;                     &lt;td style=&quot;padding: 8px; border: 1px solid #dee2e6;&quot;&gt;&lt;strong&gt;📍 Coordenadas:&lt;/strong&gt;&lt;/td&gt;                     &lt;td style=&quot;padding: 8px; border: 1px solid #dee2e6;&quot;&gt;39.470, -0.376&lt;/td&gt;                 &lt;/tr&gt;             &lt;/table&gt;              &lt;div style=&quot;margin-top: 15px; text-align: center; font-size: 12px; color: #7f8c8d;&quot;&gt;                 💡 Tamaño del marcador = Volumen de mercado             &lt;/div&gt;         &lt;/div&gt;         &lt;/div&gt;`)[0];\n",
       "                popup_927ac83a1bc20e2e1cea0197856cdea9.setContent(html_6cbab8f50b6429419c4351964e38216a);\n",
       "            \n",
       "        \n",
       "\n",
       "        circle_marker_5a9612137ba4ea60a2aa382cb34349b3.bindPopup(popup_927ac83a1bc20e2e1cea0197856cdea9)\n",
       "        ;\n",
       "\n",
       "        \n",
       "    \n",
       "    \n",
       "            circle_marker_5a9612137ba4ea60a2aa382cb34349b3.bindTooltip(\n",
       "                `&lt;div&gt;\n",
       "                     Valencia - €145/noche - 442723 propiedades\n",
       "                 &lt;/div&gt;`,\n",
       "                {\n",
       "  &quot;sticky&quot;: true,\n",
       "}\n",
       "            );\n",
       "        \n",
       "    \n",
       "            var marker_09adaba254a65ad46570ab0409a4f6c2 = L.marker(\n",
       "                [39.4699, -0.3763],\n",
       "                {\n",
       "}\n",
       "            ).addTo(map_6bebdd6f198430e1453a9f4fb3785b1d);\n",
       "        \n",
       "    \n",
       "            var div_icon_b296cb5c7e458a65cb31333625c7ad85 = L.divIcon({\n",
       "  &quot;html&quot;: &quot;\\n                \\u003cdiv style=\\&quot;background-color: rgba(255,255,255,0.9); \\n                           border: 2px solid #32CD32; \\n                           border-radius: 5px; \\n                           padding: 2px 6px; \\n                           font-weight: bold; \\n                           font-size: 12px; \\n                           color: #2C3E50;\\n                           box-shadow: 0 2px 4px rgba(0,0,0,0.3);\\&quot;\\u003e\\n                    Valencia\\n                \\u003c/div\\u003e\\n                &quot;,\n",
       "  &quot;iconSize&quot;: [80, 20],\n",
       "  &quot;iconAnchor&quot;: [40, 35],\n",
       "  &quot;className&quot;: &quot;empty&quot;,\n",
       "});\n",
       "            marker_09adaba254a65ad46570ab0409a4f6c2.setIcon(div_icon_b296cb5c7e458a65cb31333625c7ad85);\n",
       "        \n",
       "    \n",
       "                marker_09adaba254a65ad46570ab0409a4f6c2.setIcon(div_icon_b296cb5c7e458a65cb31333625c7ad85);\n",
       "            \n",
       "    \n",
       "            var layer_control_d73c1d14005eb3d528257b0d2a49ee74_layers = {\n",
       "                base_layers : {\n",
       "                    &quot;openstreetmap&quot; : tile_layer_02b065f21854e38efa334d5476430990,\n",
       "                    &quot;cartodbpositron&quot; : tile_layer_f846db99358a39963c6ad204ba0653f1,\n",
       "                    &quot;cartodbdarkmatter&quot; : tile_layer_26d662d0ca285fddd66283895ed21302,\n",
       "                },\n",
       "                overlays :  {\n",
       "                },\n",
       "            };\n",
       "            let layer_control_d73c1d14005eb3d528257b0d2a49ee74 = L.control.layers(\n",
       "                layer_control_d73c1d14005eb3d528257b0d2a49ee74_layers.base_layers,\n",
       "                layer_control_d73c1d14005eb3d528257b0d2a49ee74_layers.overlays,\n",
       "                {\n",
       "  &quot;position&quot;: &quot;topright&quot;,\n",
       "  &quot;collapsed&quot;: true,\n",
       "  &quot;autoZIndex&quot;: true,\n",
       "}\n",
       "            ).addTo(map_6bebdd6f198430e1453a9f4fb3785b1d);\n",
       "\n",
       "        \n",
       "    \n",
       "            L.control.fullscreen(\n",
       "                {\n",
       "  &quot;position&quot;: &quot;topleft&quot;,\n",
       "  &quot;title&quot;: &quot;Full Screen&quot;,\n",
       "  &quot;titleCancel&quot;: &quot;Exit Full Screen&quot;,\n",
       "  &quot;forceSeparateButton&quot;: false,\n",
       "}\n",
       "            ).addTo(map_6bebdd6f198430e1453a9f4fb3785b1d);\n",
       "        \n",
       "    \n",
       "            var measure_control_41dfd4e7ec99ff3b8740a420352f3101 = new L.Control.Measure(\n",
       "                {\n",
       "  &quot;position&quot;: &quot;topright&quot;,\n",
       "  &quot;primaryLengthUnit&quot;: &quot;meters&quot;,\n",
       "  &quot;secondaryLengthUnit&quot;: &quot;miles&quot;,\n",
       "  &quot;primaryAreaUnit&quot;: &quot;sqmeters&quot;,\n",
       "  &quot;secondaryAreaUnit&quot;: &quot;acres&quot;,\n",
       "});\n",
       "            map_6bebdd6f198430e1453a9f4fb3785b1d.addControl(measure_control_41dfd4e7ec99ff3b8740a420352f3101);\n",
       "\n",
       "            // Workaround for using this plugin with Leaflet&gt;=1.8.0\n",
       "            // https://github.com/ljagis/leaflet-measure/issues/171\n",
       "            L.Control.Measure.include({\n",
       "                _setCaptureMarkerIcon: function () {\n",
       "                    // disable autopan\n",
       "                    this._captureMarker.options.autoPanOnFocus = false;\n",
       "                    // default function\n",
       "                    this._captureMarker.setIcon(\n",
       "                        L.divIcon({\n",
       "                            iconSize: this._map.getSize().multiplyBy(2)\n",
       "                        })\n",
       "                    );\n",
       "                },\n",
       "            });\n",
       "\n",
       "        \n",
       "&lt;/script&gt;\n",
       "&lt;/html&gt;\" style=\"position:absolute;width:100%;height:100%;left:0;top:0;border:none !important;\" allowfullscreen webkitallowfullscreen mozallowfullscreen></iframe></div></div>"
      ],
      "text/plain": [
       "<folium.folium.Map at 0x18d946c8dd0>"
      ]
     },
     "execution_count": 7,
     "metadata": {},
     "output_type": "execute_result"
    }
   ],
   "source": [
    "# First, let's calculate city statistics if not already available\n",
    "try:\n",
    "    city_stats\n",
    "except NameError:\n",
    "    # Calculate city statistics from the listings data\n",
    "    city_stats = df_listings.groupby('origen').agg({\n",
    "        'price': 'mean',\n",
    "        'id_y': 'count',\n",
    "        'review_scores_rating': 'mean',\n",
    "        'availability_365': lambda x: ((365 - x.mean()) / 365 * 100),\n",
    "        'latitude': 'mean',\n",
    "        'longitude': 'mean'\n",
    "    }).round(2)\n",
    "    \n",
    "    city_stats.columns = ['avg_price', 'total_listings', 'avg_satisfaction', 'avg_occupancy', 'latitude', 'longitude']\n",
    "    city_stats['avg_revenue'] = city_stats['avg_price'] * (city_stats['avg_occupancy'] / 100) * 365\n",
    "    city_stats = city_stats.reset_index()\n",
    "    # No need to rename since we're already grouping by 'origen'\n",
    "\n",
    "# Get coordinates for major Spanish cities if not in data\n",
    "city_coordinates = {\n",
    "    'Barcelona': (41.3851, 2.1734),\n",
    "    'Madrid': (40.4168, -3.7038),\n",
    "    'Valencia': (39.4699, -0.3763),\n",
    "    'Sevilla': (37.3891, -5.9845),\n",
    "    'Málaga': (36.7213, -4.4214),\n",
    "    'Mallorca': (39.6953, 2.9603),\n",
    "    'Bilbao': (43.2627, -2.9253),\n",
    "    'San Sebastián': (43.3183, -1.9812),\n",
    "    'Granada': (37.1773, -3.5986),\n",
    "    'Córdoba': (37.8882, -4.7794)\n",
    "}\n",
    "\n",
    "# Update coordinates if missing or incorrect\n",
    "for idx, row in city_stats.iterrows():\n",
    "    city = row['origen']\n",
    "    if city in city_coordinates:\n",
    "        city_stats.loc[idx, 'latitude'] = city_coordinates[city][0]\n",
    "        city_stats.loc[idx, 'longitude'] = city_coordinates[city][1]\n",
    "\n",
    "# Create interactive map with real Spanish geography\n",
    "def create_real_spain_map(city_stats):\n",
    "    # Center map on Spain\n",
    "    spain_center = [40.0, -4.0]\n",
    "    \n",
    "    # Create map focused on Spain\n",
    "    m = folium.Map(\n",
    "        location=spain_center,\n",
    "        zoom_start=6,\n",
    "        tiles='OpenStreetMap'\n",
    "    )\n",
    "    \n",
    "    # Add different tile layers for better visualization\n",
    "    folium.TileLayer('CartoDB Positron').add_to(m)\n",
    "    folium.TileLayer('CartoDB Dark_Matter').add_to(m)\n",
    "    \n",
    "    # Create color scale based on price levels\n",
    "    max_price = city_stats['avg_price'].max()\n",
    "    min_price = city_stats['avg_price'].min()\n",
    "    \n",
    "    def get_color(price):\n",
    "        if price > max_price * 0.8:\n",
    "            return '#FF4444'  # Red for expensive\n",
    "        elif price > max_price * 0.6:\n",
    "            return '#FF8C00'  # Orange for medium-high\n",
    "        elif price > max_price * 0.4:\n",
    "            return '#FFD700'  # Gold for medium\n",
    "        else:\n",
    "            return '#32CD32'  # Green for affordable\n",
    "    \n",
    "    # Add markers for each city\n",
    "    for idx, row in city_stats.iterrows():\n",
    "        # Create detailed popup with all metrics\n",
    "        popup_html = f\"\"\"\n",
    "        <div style=\"font-family: 'Segoe UI', Arial, sans-serif; width: 300px; padding: 15px;\">\n",
    "            <h3 style=\"color: #2C3E50; margin: 0 0 15px 0; text-align: center; border-bottom: 2px solid #3498DB;\">\n",
    "                🏛️ {row['origen']}\n",
    "            </h3>\n",
    "            \n",
    "            <div style=\"background: linear-gradient(135deg, #667eea 0%, #764ba2 100%); \n",
    "                        color: white; padding: 10px; border-radius: 8px; margin-bottom: 15px;\">\n",
    "                <h4 style=\"margin: 0; text-align: center;\">💰 €{row['avg_price']:.0f} por noche</h4>\n",
    "            </div>\n",
    "            \n",
    "            <table style=\"width: 100%; border-collapse: collapse;\">\n",
    "                <tr style=\"background-color: #f8f9fa;\">\n",
    "                    <td style=\"padding: 8px; border: 1px solid #dee2e6;\"><strong>🏠 Propiedades:</strong></td>\n",
    "                    <td style=\"padding: 8px; border: 1px solid #dee2e6;\">{row['total_listings']:,}</td>\n",
    "                </tr>\n",
    "                <tr>\n",
    "                    <td style=\"padding: 8px; border: 1px solid #dee2e6;\"><strong>⭐ Satisfacción:</strong></td>\n",
    "                    <td style=\"padding: 8px; border: 1px solid #dee2e6;\">{row['avg_satisfaction']:.2f}/5.0</td>\n",
    "                </tr>\n",
    "                <tr style=\"background-color: #f8f9fa;\">\n",
    "                    <td style=\"padding: 8px; border: 1px solid #dee2e6;\"><strong>📈 Ocupación:</strong></td>\n",
    "                    <td style=\"padding: 8px; border: 1px solid #dee2e6;\">{row['avg_occupancy']:.0f}%</td>\n",
    "                </tr>\n",
    "                <tr>\n",
    "                    <td style=\"padding: 8px; border: 1px solid #dee2e6;\"><strong>💸 Ingresos Anuales:</strong></td>\n",
    "                    <td style=\"padding: 8px; border: 1px solid #dee2e6;\">€{row['avg_revenue']:.0f}</td>\n",
    "                </tr>\n",
    "                <tr style=\"background-color: #f8f9fa;\">\n",
    "                    <td style=\"padding: 8px; border: 1px solid #dee2e6;\"><strong>📍 Coordenadas:</strong></td>\n",
    "                    <td style=\"padding: 8px; border: 1px solid #dee2e6;\">{row['latitude']:.3f}, {row['longitude']:.3f}</td>\n",
    "                </tr>\n",
    "            </table>\n",
    "            \n",
    "            <div style=\"margin-top: 15px; text-align: center; font-size: 12px; color: #7f8c8d;\">\n",
    "                💡 Tamaño del marcador = Volumen de mercado\n",
    "            </div>\n",
    "        </div>\n",
    "        \"\"\"\n",
    "        \n",
    "        # Calculate marker size based on market volume\n",
    "        marker_size = max(15, min(40, row['total_listings'] / 100))\n",
    "        \n",
    "        # Add circle marker\n",
    "        folium.CircleMarker(\n",
    "            location=[row['latitude'], row['longitude']],\n",
    "            radius=marker_size,\n",
    "            popup=folium.Popup(popup_html, max_width=350),\n",
    "            tooltip=f\"{row['origen']} - €{row['avg_price']:.0f}/noche - {row['total_listings']} propiedades\",\n",
    "            color='white',\n",
    "            weight=3,\n",
    "            fillColor=get_color(row['avg_price']),\n",
    "            fillOpacity=0.8\n",
    "        ).add_to(m)\n",
    "        \n",
    "        # Add city label\n",
    "        folium.Marker(\n",
    "            location=[row['latitude'], row['longitude']],\n",
    "            icon=folium.DivIcon(\n",
    "                html=f\"\"\"\n",
    "                <div style=\"background-color: rgba(255,255,255,0.9); \n",
    "                           border: 2px solid {get_color(row['avg_price'])}; \n",
    "                           border-radius: 5px; \n",
    "                           padding: 2px 6px; \n",
    "                           font-weight: bold; \n",
    "                           font-size: 12px; \n",
    "                           color: #2C3E50;\n",
    "                           box-shadow: 0 2px 4px rgba(0,0,0,0.3);\">\n",
    "                    {row['origen']}\n",
    "                </div>\n",
    "                \"\"\",\n",
    "                icon_size=(80, 20),\n",
    "                icon_anchor=(40, 35)\n",
    "            )\n",
    "        ).add_to(m)\n",
    "    \n",
    "    # Add comprehensive legend\n",
    "    legend_html = f\"\"\"\n",
    "    <div style=\"position: fixed; \n",
    "                top: 10px; right: 10px; width: 280px; \n",
    "                background-color: white; border: 3px solid #2C3E50; z-index: 9999; \n",
    "                font-size: 14px; font-family: 'Segoe UI', Arial; \n",
    "                padding: 15px; border-radius: 10px; box-shadow: 0 4px 8px rgba(0,0,0,0.3);\">\n",
    "        \n",
    "        <h3 style=\"margin: 0 0 15px 0; color: #2C3E50; text-align: center; border-bottom: 2px solid #3498DB; padding-bottom: 5px;\">\n",
    "            🗺️ Mapa del Mercado Airbnb España\n",
    "        </h3>\n",
    "        \n",
    "        <h4 style=\"margin: 10px 0 5px 0; color: #34495E;\">💰 Niveles de Precio:</h4>\n",
    "        <p style=\"margin: 3px 0;\"><span style=\"color: #FF4444; font-size: 18px;\">●</span> Premium: >€{max_price * 0.8:.0f}</p>\n",
    "        <p style=\"margin: 3px 0;\"><span style=\"color: #FF8C00; font-size: 18px;\">●</span> Alto: €{max_price * 0.6:.0f}-{max_price * 0.8:.0f}</p>\n",
    "        <p style=\"margin: 3px 0;\"><span style=\"color: #FFD700; font-size: 18px;\">●</span> Medio: €{max_price * 0.4:.0f}-{max_price * 0.6:.0f}</p>\n",
    "        <p style=\"margin: 3px 0;\"><span style=\"color: #32CD32; font-size: 18px;\">●</span> Asequible: <€{max_price * 0.4:.0f}</p>\n",
    "        \n",
    "        <hr style=\"margin: 10px 0; border: 1px solid #BDC3C7;\">\n",
    "        \n",
    "        <h4 style=\"margin: 10px 0 5px 0; color: #34495E;\">📊 Información:</h4>\n",
    "        <p style=\"margin: 3px 0; font-size: 12px;\">🔵 Tamaño = Volumen de mercado</p>\n",
    "        <p style=\"margin: 3px 0; font-size: 12px;\">📍 Click para detalles completos</p>\n",
    "        <p style=\"margin: 3px 0; font-size: 12px;\">🗺️ Múltiples capas disponibles</p>\n",
    "        \n",
    "        <div style=\"margin-top: 10px; padding: 8px; background-color: #ECF0F1; border-radius: 5px; text-align: center;\">\n",
    "            <strong style=\"color: #2C3E50;\">Total: {len(city_stats)} ciudades</strong><br>\n",
    "            <span style=\"font-size: 12px; color: #7F8C8D;\">{city_stats['total_listings'].sum():,} propiedades</span>\n",
    "        </div>\n",
    "    </div>\n",
    "    \"\"\"\n",
    "    \n",
    "    m.get_root().html.add_child(folium.Element(legend_html))\n",
    "    \n",
    "    # Add layer control\n",
    "    folium.LayerControl().add_to(m)\n",
    "    \n",
    "    # Add fullscreen button\n",
    "    plugins.Fullscreen().add_to(m)\n",
    "    \n",
    "    # Add measure control\n",
    "    plugins.MeasureControl().add_to(m)\n",
    "    \n",
    "    return m\n",
    "\n",
    "# Import required libraries for the map\n",
    "import folium\n",
    "from folium import plugins\n",
    "\n",
    "# Create and display the real Spain map\n",
    "print(\"🗺️ Creando mapa interactivo de España con datos reales de Airbnb...\")\n",
    "spain_map = create_real_spain_map(city_stats)\n",
    "\n",
    "# Display the map\n",
    "spain_map"
   ]
  }
 ],
 "metadata": {
  "kernelspec": {
   "display_name": "Python 3",
   "language": "python",
   "name": "python3"
  },
  "language_info": {
   "codemirror_mode": {
    "name": "ipython",
    "version": 3
   },
   "file_extension": ".py",
   "mimetype": "text/x-python",
   "name": "python",
   "nbconvert_exporter": "python",
   "pygments_lexer": "ipython3",
   "version": "3.12.10"
  }
 },
 "nbformat": 4,
 "nbformat_minor": 5
}
