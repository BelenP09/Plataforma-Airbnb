{
 "cells": [
  {
   "cell_type": "code",
   "execution_count": 54,
   "id": "99304b67",
   "metadata": {},
   "outputs": [],
   "source": [
    "import pandas as pd\n",
    "import sqlalchemy\n",
    "from sqlalchemy import create_engine\n",
    "import pyodbc\n",
    "import matplotlib.pyplot as plt\n",
    "import seaborn as sns\n",
    "import plotly.express as px\n",
    "import plotly.graph_objects as go\n",
    "from plotly.subplots import make_subplots\n",
    "import numpy as np\n",
    "import warnings\n",
    "warnings.filterwarnings('ignore')"
   ]
  },
  {
   "cell_type": "code",
   "execution_count": 8,
   "id": "3ead8af0",
   "metadata": {},
   "outputs": [
    {
     "name": "stdout",
     "output_type": "stream",
     "text": [
      "Available ODBC drivers: ['SQL Server', 'ODBC Driver 18 for SQL Server', 'ODBC Driver 17 for SQL Server']\n",
      "Successfully connected using driver: ODBC Driver 18 for SQL Server\n"
     ]
    }
   ],
   "source": [
    " \n",
    "# Database connection configuration\n",
    "# Replace with your actual credentials\n",
    "server = 'upgrade-abnb-server.database.windows.net'\n",
    "database = 'Upgrade_Abnb'\n",
    "username = 'vmabnbserver'\n",
    "password = 'JWkWW8Bg%>jy,Xj!'\n",
    " \n",
    "# Function to test ODBC drivers and create connection\n",
    "def create_db_connection():\n",
    "    \"\"\"Create database connection with fallback driver options\"\"\"\n",
    "    drivers = [\n",
    "        'ODBC Driver 18 for SQL Server',\n",
    "        'ODBC Driver 17 for SQL Server',\n",
    "        'ODBC Driver 13 for SQL Server',\n",
    "        'SQL Server Native Client 11.0',\n",
    "        'SQL Server'\n",
    "    ]\n",
    "    # Test available drivers\n",
    "    available_drivers = [driver for driver in pyodbc.drivers() if any(d in driver for d in ['SQL Server', 'ODBC'])]\n",
    "    print(f\"Available ODBC drivers: {available_drivers}\")\n",
    "    for driver in drivers:\n",
    "        if driver in available_drivers:\n",
    "            try:\n",
    "                connection_string = f'mssql+pyodbc://{username}:{password}@{server}/{database}?driver={driver}&TrustServerCertificate=yes&Encrypt=yes'\n",
    "                engine = create_engine(connection_string)\n",
    "                # Test connection\n",
    "                with engine.connect() as conn:\n",
    "                    conn.execute(sqlalchemy.text(\"SELECT 1\"))\n",
    "                print(f\"Successfully connected using driver: {driver}\")\n",
    "                return engine, connection_string\n",
    "            except Exception as e:\n",
    "                print(f\"Failed with driver {driver}: {str(e)}\")\n",
    "                continue\n",
    "    # If all drivers fail, try without encryption\n",
    "    for driver in drivers:\n",
    "        if driver in available_drivers:\n",
    "            try:\n",
    "                connection_string = f'mssql+pyodbc://{username}:{password}@{server}/{database}?driver={driver}&TrustServerCertificate=yes'\n",
    "                engine = create_engine(connection_string)\n",
    "                # Test connection\n",
    "                with engine.connect() as conn:\n",
    "                    conn.execute(sqlalchemy.text(\"SELECT 1\"))\n",
    "                print(f\"Successfully connected using driver (no encryption): {driver}\")\n",
    "                return engine, connection_string\n",
    "            except Exception as e:\n",
    "                print(f\"Failed with driver {driver} (no encryption): {str(e)}\")\n",
    "                continue\n",
    "    raise Exception(\"Could not establish database connection with any available driver\")\n",
    " \n",
    "# Create connection engine\n",
    "engine, connection_string = create_db_connection()\n",
    " \n"
   ]
  },
  {
   "cell_type": "code",
   "execution_count": 9,
   "id": "727e63d4",
   "metadata": {},
   "outputs": [
    {
     "name": "stdout",
     "output_type": "stream",
     "text": [
      "=== DATABASE CONNECTION ESTABLISHED ===\n",
      "Connected to: Upgrade_Abnb\n",
      "DataFrame shape: (1630091, 63)\n",
      "Columns: ['listing_id', 'id_x', 'date', 'reviewer_id', 'reviewer_name', 'id_y', 'name', 'host_id', 'host_name', 'host_since', 'host_location', 'host_response_time', 'host_response_rate', 'host_acceptance_rate', 'host_is_superhost', 'host_has_profile_pic', 'host_identity_verified', 'neighbourhood', 'neighbourhood_cleansed', 'neighbourhood_group_cleansed', 'latitude', 'longitude', 'property_type', 'room_type', 'accommodates', 'bathrooms', 'bathrooms_text', 'bedrooms', 'beds', 'price', 'minimum_nights', 'maximum_nights', 'has_availability', 'availability_30', 'availability_60', 'availability_90', 'availability_365', 'calendar_last_scraped', 'number_of_reviews', 'number_of_reviews_ltm', 'number_of_reviews_l30d', 'availability_eoy', 'number_of_reviews_ly', 'estimated_occupancy_l365d', 'estimated_revenue_l365d', 'first_review', 'last_review', 'review_scores_rating', 'review_scores_accuracy', 'review_scores_cleanliness', 'review_scores_checkin', 'review_scores_communication', 'review_scores_location', 'review_scores_value', 'license', 'instant_bookable', 'calculated_host_listings_count', 'calculated_host_listings_count_entire_homes', 'calculated_host_listings_count_private_rooms', 'calculated_host_listings_count_shared_rooms', 'reviews_per_month', 'origen', 'neighbourhood_origen']\n",
      "\n",
      "=== FIRST 5 ROWS ===\n",
      "            listing_id                 id_x                 date reviewer_id  \\\n",
      "0  1254922720418483052  1373180989604786480  Mar  9 2025 12:00AM   230836956   \n",
      "1  1254922720418483052  1376087681095623483  Mar 13 2025 12:00AM    35004442   \n",
      "2  1254941047534159154  1341997543177317637  Jan 25 2025 12:00AM   674764477   \n",
      "3  1254964367047263129  1266567753744312655  Oct 13 2024 12:00AM   652709444   \n",
      "4  1254964367047263129  1268762558029427404  Oct 16 2024 12:00AM    22893303   \n",
      "\n",
      "     reviewer_name                 id_y  \\\n",
      "0         Patricia  1254922720418483052   \n",
      "1          Perrian  1254922720418483052   \n",
      "2           Carmen  1254941047534159154   \n",
      "3  Maria Esmeralda  1254964367047263129   \n",
      "4            Gyuri  1254964367047263129   \n",
      "\n",
      "                                         name    host_id  host_name  \\\n",
      "0                             Ruzafa Tropical  653594668  Juan Luis   \n",
      "1                             Ruzafa Tropical  653594668  Juan Luis   \n",
      "2                    Apartamento Miramar RD A  654101026    Esteban   \n",
      "3  Dúplex con vistas al mar y parking privado  572767607     Adrian   \n",
      "4  Dúplex con vistas al mar y parking privado  572767607     Adrian   \n",
      "\n",
      "            host_since     host_location host_response_time  \\\n",
      "0  Sep 23 2024 12:00AM   Valencia, Spain     within an hour   \n",
      "1  Sep 23 2024 12:00AM   Valencia, Spain     within an hour   \n",
      "2  Sep 26 2024 12:00AM   Valencia, Spain     within an hour   \n",
      "3  Apr 17 2024 12:00AM  Sin_localización     within an hour   \n",
      "4  Apr 17 2024 12:00AM  Sin_localización     within an hour   \n",
      "\n",
      "   host_response_rate  host_acceptance_rate host_is_superhost  \\\n",
      "0                 100                    99                 t   \n",
      "1                 100                    99                 t   \n",
      "2                 100                    75       Not_defined   \n",
      "3                 100                   100                 t   \n",
      "4                 100                   100                 t   \n",
      "\n",
      "  host_has_profile_pic host_identity_verified  \\\n",
      "0                    t                      t   \n",
      "1                    t                      t   \n",
      "2                    t                      t   \n",
      "3                    t                      t   \n",
      "4                    t                      t   \n",
      "\n",
      "                           neighbourhood neighbourhood_cleansed  \\\n",
      "0  València, Comunidad Valenciana, Spain               EN CORTS   \n",
      "1  València, Comunidad Valenciana, Spain               EN CORTS   \n",
      "2                             Sin_barrio            LA CARRASCA   \n",
      "3                             Sin_barrio           SANT LLORENS   \n",
      "4                             Sin_barrio           SANT LLORENS   \n",
      "\n",
      "  neighbourhood_group_cleansed   latitude  longitude       property_type  \\\n",
      "0              QUATRE CARRERES  39.455345  -0.370261         Entire loft   \n",
      "1              QUATRE CARRERES  39.455345  -0.370261         Entire loft   \n",
      "2                      ALGIROS  39.478474  -0.351597  Entire rental unit   \n",
      "3                     RASCANYA  39.493229  -0.358270  Entire rental unit   \n",
      "4                     RASCANYA  39.493229  -0.358270  Entire rental unit   \n",
      "\n",
      "         room_type  accommodates  bathrooms bathrooms_text  bedrooms  beds  \\\n",
      "0  Entire home/apt             4        1.0         1 bath         1     2   \n",
      "1  Entire home/apt             4        1.0         1 bath         1     2   \n",
      "2  Entire home/apt             4        1.0         1 bath         1     2   \n",
      "3  Entire home/apt             2        1.0         1 bath         1     1   \n",
      "4  Entire home/apt             2        1.0         1 bath         1     1   \n",
      "\n",
      "   price  minimum_nights  maximum_nights has_availability  availability_30  \\\n",
      "0  126.0               1              60                t               25   \n",
      "1  126.0               1              60                t               25   \n",
      "2  128.0               1             365                t               18   \n",
      "3   58.0               1              30                t                2   \n",
      "4   58.0               1              30                t                2   \n",
      "\n",
      "   availability_60  availability_90  availability_365 calendar_last_scraped  \\\n",
      "0               45               72               166   Mar 15 2025 12:00AM   \n",
      "1               45               72               166   Mar 15 2025 12:00AM   \n",
      "2               38               56               118   Mar 15 2025 12:00AM   \n",
      "3               32               62                63   Mar 15 2025 12:00AM   \n",
      "4               32               62                63   Mar 15 2025 12:00AM   \n",
      "\n",
      "   number_of_reviews  number_of_reviews_ltm  number_of_reviews_l30d  \\\n",
      "0                 15                     15                       6   \n",
      "1                 15                     15                       6   \n",
      "2                  1                      1                       0   \n",
      "3                 27                     27                       4   \n",
      "4                 27                     27                       4   \n",
      "\n",
      "   availability_eoy  number_of_reviews_ly  estimated_occupancy_l365d  \\\n",
      "0               166                     6                         90   \n",
      "1               166                     6                         90   \n",
      "2               118                     0                          6   \n",
      "3                63                    14                        162   \n",
      "4                63                    14                        162   \n",
      "\n",
      "   estimated_revenue_l365d         first_review          last_review  \\\n",
      "0                  11340.0  Oct  3 2024 12:00AM  2025-03-13 00:00:00   \n",
      "1                  11340.0  Oct  3 2024 12:00AM  2025-03-13 00:00:00   \n",
      "2                    768.0  Jan 25 2025 12:00AM  2025-01-25 00:00:00   \n",
      "3                   9396.0  Oct 13 2024 12:00AM  2025-03-04 00:00:00   \n",
      "4                   9396.0  Oct 13 2024 12:00AM  2025-03-04 00:00:00   \n",
      "\n",
      "   review_scores_rating  review_scores_accuracy  review_scores_cleanliness  \\\n",
      "0                  4.93                    4.80                       4.93   \n",
      "1                  4.93                    4.80                       4.93   \n",
      "2                  5.00                    5.00                       5.00   \n",
      "3                  4.85                    4.81                       4.93   \n",
      "4                  4.85                    4.81                       4.93   \n",
      "\n",
      "   review_scores_checkin  review_scores_communication  review_scores_location  \\\n",
      "0                   4.93                         4.93                    4.53   \n",
      "1                   4.93                         4.93                    4.53   \n",
      "2                   5.00                         5.00                    5.00   \n",
      "3                   4.78                         4.89                    4.81   \n",
      "4                   4.78                         4.89                    4.81   \n",
      "\n",
      "   review_scores_value       license instant_bookable  \\\n",
      "0                 4.73  Sin_licencia                t   \n",
      "1                 4.73  Sin_licencia                t   \n",
      "2                 5.00  Sin_licencia                t   \n",
      "3                 4.93  Sin_licencia                t   \n",
      "4                 4.93  Sin_licencia                t   \n",
      "\n",
      "   calculated_host_listings_count  \\\n",
      "0                               4   \n",
      "1                               4   \n",
      "2                               5   \n",
      "3                               4   \n",
      "4                               4   \n",
      "\n",
      "   calculated_host_listings_count_entire_homes  \\\n",
      "0                                            4   \n",
      "1                                            4   \n",
      "2                                            5   \n",
      "3                                            4   \n",
      "4                                            4   \n",
      "\n",
      "   calculated_host_listings_count_private_rooms  \\\n",
      "0                                             0   \n",
      "1                                             0   \n",
      "2                                             0   \n",
      "3                                             0   \n",
      "4                                             0   \n",
      "\n",
      "   calculated_host_listings_count_shared_rooms  reviews_per_month    origen  \\\n",
      "0                                            0               2.74  Valencia   \n",
      "1                                            0               2.74  Valencia   \n",
      "2                                            0               0.60  Valencia   \n",
      "3                                            0               5.26  Valencia   \n",
      "4                                            0               5.26  Valencia   \n",
      "\n",
      "      neighbourhood_origen  \n",
      "0      EN CORTS (Valencia)  \n",
      "1      EN CORTS (Valencia)  \n",
      "2   LA CARRASCA (Valencia)  \n",
      "3  SANT LLORENS (Valencia)  \n",
      "4  SANT LLORENS (Valencia)  \n",
      "\n",
      "=== DATA TYPES ===\n",
      "listing_id                                       object\n",
      "id_x                                             object\n",
      "date                                             object\n",
      "reviewer_id                                      object\n",
      "reviewer_name                                    object\n",
      "                                                 ...   \n",
      "calculated_host_listings_count_private_rooms      int64\n",
      "calculated_host_listings_count_shared_rooms       int64\n",
      "reviews_per_month                               float64\n",
      "origen                                           object\n",
      "neighbourhood_origen                             object\n",
      "Length: 63, dtype: object\n",
      "\n",
      "=== MISSING VALUES ===\n",
      "listing_id                                      0\n",
      "id_x                                            0\n",
      "date                                            0\n",
      "reviewer_id                                     0\n",
      "reviewer_name                                   0\n",
      "                                               ..\n",
      "calculated_host_listings_count_private_rooms    0\n",
      "calculated_host_listings_count_shared_rooms     0\n",
      "reviews_per_month                               0\n",
      "origen                                          0\n",
      "neighbourhood_origen                            0\n",
      "Length: 63, dtype: int64\n"
     ]
    }
   ],
   "source": [
    "# Function to execute queries and return DataFrames\n",
    "def query_to_df_completo(query_completo, engine=engine):\n",
    "    \"\"\"Execute SQL query and return DataFrame\"\"\"\n",
    "    return pd.read_sql(query_completo, engine)\n",
    " \n",
    "# Load main dataset\n",
    "query_completo = \"SELECT * FROM [dbo].[listings_completo]\"\n",
    "df_listings = query_to_df_completo(query_completo)\n",
    " \n",
    "# Configure matplotlib and seaborn for better visualizations\n",
    "plt.style.use('default')\n",
    "sns.set_palette(\"husl\")\n",
    "pd.set_option('display.max_columns', None)\n",
    "pd.set_option('display.width', None)\n",
    " \n",
    "# Display basic information\n",
    "print(\"=== DATABASE CONNECTION ESTABLISHED ===\")\n",
    "print(f\"Connected to: {database}\")\n",
    "print(f\"DataFrame shape: {df_listings.shape}\")\n",
    "print(f\"Columns: {list(df_listings.columns)}\")\n",
    "print(\"\\n=== FIRST 5 ROWS ===\")\n",
    "print(df_listings.head())\n",
    "print(\"\\n=== DATA TYPES ===\")\n",
    "print(df_listings.dtypes)\n",
    "print(\"\\n=== MISSING VALUES ===\")\n",
    "print(df_listings.isnull().sum())\n"
   ]
  },
  {
   "cell_type": "code",
   "execution_count": 10,
   "id": "65d59bb1",
   "metadata": {},
   "outputs": [
    {
     "name": "stdout",
     "output_type": "stream",
     "text": [
      "=== DATABASE CONNECTION ESTABLISHED ===\n",
      "Connected to: Upgrade_Abnb\n",
      "DataFrame shape: (31890, 19)\n",
      "Columns: ['id', 'host_id', 'host_name', 'neighbourhood_group', 'neighbourhood', 'latitude', 'longitude', 'room_type', 'price', 'minimum_nights', 'number_of_reviews', 'last_review', 'reviews_per_month', 'calculated_host_listings_count', 'availability_365', 'number_of_reviews_ltm', 'license', 'orignen', 'neighbourhood_origen']\n",
      "\n",
      "=== FIRST 5 ROWS ===\n",
      "       id  host_id host_name neighbourhood_group neighbourhood   latitude  \\\n",
      "0   96033   510467    Rafael           Sin_grupo          Este  36.720310   \n",
      "1  166473   793360      Fred           Sin_grupo          Este  36.720310   \n",
      "2  330760  1687526     Mayte           Sin_grupo        Centro  36.729786   \n",
      "3  340024  1725690    Carlos           Sin_grupo        Centro  36.728130   \n",
      "4  358541  1526932  Cristina           Sin_grupo        Centro  36.723740   \n",
      "\n",
      "   longitude        room_type  price  minimum_nights  number_of_reviews  \\\n",
      "0  -4.356270  Entire home/apt   54.0               3                250   \n",
      "1  -4.361080     Private room   22.0               5                101   \n",
      "2  -4.413462     Private room   51.0               1                 60   \n",
      "3  -4.414220  Entire home/apt   65.0               3                301   \n",
      "4  -4.421300  Entire home/apt   86.0               2                388   \n",
      "\n",
      "  last_review  reviews_per_month  calculated_host_listings_count  \\\n",
      "0  2025-03-01               1.79                               1   \n",
      "1  2025-02-11               0.61                               5   \n",
      "2  2025-02-23               0.38                               6   \n",
      "3  2025-03-14               2.05                               1   \n",
      "4  2025-03-07               2.47                               1   \n",
      "\n",
      "   availability_365  number_of_reviews_ltm       license orignen  \\\n",
      "0               259                     39  VUT/MA/22043  Malaga   \n",
      "1               301                      4  Sin_licencia  Malaga   \n",
      "2               218                      5  VFT/MA/12240  Malaga   \n",
      "3               215                     42  VFT/MA/02334  Malaga   \n",
      "4               100                     22  VFT/MA/02288  Malaga   \n",
      "\n",
      "  neighbourhood_origen  \n",
      "0        Este (Malaga)  \n",
      "1        Este (Malaga)  \n",
      "2      Centro (Malaga)  \n",
      "3      Centro (Malaga)  \n",
      "4      Centro (Malaga)  \n",
      "\n",
      "=== DATA TYPES ===\n",
      "id                                         int64\n",
      "host_id                                    int64\n",
      "host_name                                 object\n",
      "neighbourhood_group                       object\n",
      "neighbourhood                             object\n",
      "latitude                                 float64\n",
      "longitude                                float64\n",
      "room_type                                 object\n",
      "price                                    float64\n",
      "minimum_nights                             int64\n",
      "number_of_reviews                          int64\n",
      "last_review                       datetime64[ns]\n",
      "reviews_per_month                        float64\n",
      "calculated_host_listings_count             int64\n",
      "availability_365                           int64\n",
      "number_of_reviews_ltm                      int64\n",
      "license                                   object\n",
      "orignen                                   object\n",
      "neighbourhood_origen                      object\n",
      "dtype: object\n",
      "\n",
      "=== MISSING VALUES ===\n",
      "id                                0\n",
      "host_id                           0\n",
      "host_name                         0\n",
      "neighbourhood_group               0\n",
      "neighbourhood                     0\n",
      "latitude                          0\n",
      "longitude                         0\n",
      "room_type                         0\n",
      "price                             0\n",
      "minimum_nights                    0\n",
      "number_of_reviews                 0\n",
      "last_review                       0\n",
      "reviews_per_month                 0\n",
      "calculated_host_listings_count    0\n",
      "availability_365                  0\n",
      "number_of_reviews_ltm             0\n",
      "license                           0\n",
      "orignen                           0\n",
      "neighbourhood_origen              0\n",
      "dtype: int64\n"
     ]
    }
   ],
   "source": [
    "# Function to execute queries and return DataFrames\n",
    "def query_to_df_resumen(query_resumen, engine=engine):\n",
    "    \"\"\"Execute SQL query and return DataFrame\"\"\"\n",
    "    return pd.read_sql(query_resumen, engine)\n",
    "\n",
    "query_resumen = \"SELECT * FROM [dbo].[listings_summary]\"\n",
    "df_resumen = query_to_df_resumen(query_resumen)\n",
    "\n",
    "# Display basic information\n",
    "print(\"=== DATABASE CONNECTION ESTABLISHED ===\")\n",
    "print(f\"Connected to: {database}\")\n",
    "print(f\"DataFrame shape: {df_resumen.shape}\")\n",
    "print(f\"Columns: {list(df_resumen.columns)}\")\n",
    "print(\"\\n=== FIRST 5 ROWS ===\")\n",
    "print(df_resumen.head())\n",
    "print(\"\\n=== DATA TYPES ===\")\n",
    "print(df_resumen.dtypes)\n",
    "print(\"\\n=== MISSING VALUES ===\")\n",
    "print(df_resumen.isnull().sum())"
   ]
  },
  {
   "cell_type": "code",
   "execution_count": 11,
   "id": "31f942aa",
   "metadata": {},
   "outputs": [
    {
     "name": "stdout",
     "output_type": "stream",
     "text": [
      "Cantidad de valores únicos en 'id_y': 25180\n"
     ]
    }
   ],
   "source": [
    "# Select listings where 'id_y' is not null (i.e., available)\n",
    "alojamientos_disponibles = df_listings['id_y'].nunique()\n",
    "print(f\"Cantidad de valores únicos en 'id_y': {alojamientos_disponibles}\")"
   ]
  },
  {
   "cell_type": "code",
   "execution_count": 12,
   "id": "43988000",
   "metadata": {},
   "outputs": [
    {
     "name": "stdout",
     "output_type": "stream",
     "text": [
      "Cantidad de valores únicos en 'id_y': 31890\n"
     ]
    }
   ],
   "source": [
    "alojamientos_disponibles_resumen = df_resumen['id'].nunique()\n",
    "print(f\"Cantidad de valores únicos en 'id_y': {alojamientos_disponibles_resumen}\")"
   ]
  },
  {
   "cell_type": "code",
   "execution_count": 13,
   "id": "da413ff7",
   "metadata": {},
   "outputs": [
    {
     "name": "stdout",
     "output_type": "stream",
     "text": [
      "Cantidad de valores en 'has_availability':\n",
      "has_availability\n",
      "t              1629758\n",
      "Not_defined        326\n",
      "f                    7\n",
      "Name: count, dtype: int64\n",
      "\n",
      "Desglose detallado:\n",
      "Valores 't' (disponible): 1629758\n",
      "Valores 'f' (no disponible): 7\n",
      "Total de registros: 1630091\n",
      "Porcentaje 't': 99.98%\n",
      "Porcentaje 'f': 0.00%\n"
     ]
    }
   ],
   "source": [
    "disponibilidad = df_listings['has_availability'].value_counts()\n",
    "print(\"Cantidad de valores en 'has_availability':\")\n",
    "print(disponibilidad)\n",
    "\n",
    "# Alternative: more explicit output\n",
    "print(\"\\nDesglose detallado:\")\n",
    "count_t = (df_listings['has_availability'] == 't').sum()\n",
    "count_f = (df_listings['has_availability'] == 'f').sum()\n",
    "total = len(df_listings['has_availability'])\n",
    "\n",
    "print(f\"Valores 't' (disponible): {count_t}\")\n",
    "print(f\"Valores 'f' (no disponible): {count_f}\")\n",
    "print(f\"Total de registros: {total}\")\n",
    "print(f\"Porcentaje 't': {(count_t/total)*100:.2f}%\")\n",
    "print(f\"Porcentaje 'f': {(count_f/total)*100:.2f}%\")"
   ]
  },
  {
   "cell_type": "code",
   "execution_count": 14,
   "id": "2e6d9e61",
   "metadata": {},
   "outputs": [
    {
     "name": "stdout",
     "output_type": "stream",
     "text": [
      "Cantidad de alojamientos disponibles: 25180\n",
      "Media de 'has_availability' en alojamientos disponibles: 1.0000\n",
      "Porcentaje de alojamientos con disponibilidad: 100.00%\n"
     ]
    }
   ],
   "source": [
    "# Transform 'has_availability' column: 't' -> 1, 'f' -> 0\n",
    "df_listings['has_availability_numeric'] = (df_listings['has_availability'] == 't').astype(int)\n",
    "\n",
    "# Calculate mean of has_availability for available accommodations (where id_y is not null)\n",
    "# alojamientos_disponibles_mask = df_listings['id_y'].notna()\n",
    "media_disponibilidad = df_listings.loc[alojamientos_disponibles, 'has_availability_numeric'].mean()\n",
    "\n",
    "print(f\"Cantidad de alojamientos disponibles: {alojamientos_disponibles}\")\n",
    "print(f\"Media de 'has_availability' en alojamientos disponibles: {media_disponibilidad:.4f}\")\n",
    "print(f\"Porcentaje de alojamientos con disponibilidad: {media_disponibilidad * 100:.2f}%\")"
   ]
  },
  {
   "cell_type": "markdown",
   "id": "c4acd920",
   "metadata": {},
   "source": [
    "## Tasa de ocupación"
   ]
  },
  {
   "cell_type": "markdown",
   "id": "0662d6b3",
   "metadata": {},
   "source": [
    "Preparación de datos"
   ]
  },
  {
   "cell_type": "code",
   "execution_count": 23,
   "id": "5e9b7e09",
   "metadata": {},
   "outputs": [],
   "source": [
    "df_listings['date'] = pd.to_datetime(df_listings['date'])\n",
    "df_listings['year'] = df_listings['date'].dt.year\n",
    "\n"
   ]
  },
  {
   "cell_type": "code",
   "execution_count": 25,
   "id": "9fa90fec",
   "metadata": {},
   "outputs": [],
   "source": [
    "# Filtrar un único registro por alojamiento y año (el último de ese año)\n",
    "df_ult_por_listado = (\n",
    "    df_listings.sort_values('date')  # Asegura orden por fecha\n",
    "    .drop_duplicates(subset=['listing_id', 'year'], keep='last')\n",
    "  )  # último del año"
   ]
  },
  {
   "cell_type": "markdown",
   "id": "33c6b436",
   "metadata": {},
   "source": [
    "Tasa de ocupación por año"
   ]
  },
  {
   "cell_type": "code",
   "execution_count": 26,
   "id": "6adf63dc",
   "metadata": {},
   "outputs": [
    {
     "name": "stdout",
     "output_type": "stream",
     "text": [
      "      noches_ocupadas  capacidad_total  tasa_ocupacion_%\n",
      "year                                                    \n",
      "2010              188              365             51.51\n",
      "2011             1754             3650             48.05\n",
      "2012            14776            24888             59.37\n",
      "2013            53538            93440             57.30\n",
      "2014           113180           201115             56.28\n",
      "2015           227090           398945             56.92\n",
      "2016           425620           735294             57.88\n",
      "2017           688251          1184060             58.13\n",
      "2018          1007646          1697980             59.34\n",
      "2019          1359205          2302785             59.02\n",
      "2020          1229631          2085468             58.96\n",
      "2021          1880666          3301060             56.97\n",
      "2022          2540767          4573815             55.55\n",
      "2023          3260485          5905700             55.21\n",
      "2024          4217939          7812270             53.99\n",
      "2025          2095935          3950395             53.06\n"
     ]
    }
   ],
   "source": [
    "# Añadir columna de noches ocupadas\n",
    "df_ult_por_listado['noches_ocupadas'] = 365 - df_ult_por_listado['availability_365']\n",
    "\n",
    "# Si hay años bisiestos:\n",
    "df_ult_por_listado['dias_del_año'] = df_ult_por_listado['year'].apply(lambda y: 366 if y % 4 == 0 else 365)\n",
    "\n",
    "ocupacion_anual = df_ult_por_listado.groupby('year').agg(\n",
    "    noches_ocupadas=('noches_ocupadas', 'sum'),\n",
    "    capacidad_total=('dias_del_año', 'sum')\n",
    ")\n",
    "\n",
    "ocupacion_anual['tasa_ocupacion_%'] = (\n",
    "    ocupacion_anual['noches_ocupadas'] / ocupacion_anual['capacidad_total'] * 100\n",
    ")\n",
    "\n",
    "print(ocupacion_anual.round(2))"
   ]
  },
  {
   "cell_type": "markdown",
   "id": "421c06e2",
   "metadata": {},
   "source": [
    "Tasa de ocupación por origen"
   ]
  },
  {
   "cell_type": "code",
   "execution_count": 27,
   "id": "8ada9ef1",
   "metadata": {},
   "outputs": [
    {
     "name": "stdout",
     "output_type": "stream",
     "text": [
      "          noches_ocupadas  capacidad_total  tasa_ocupacion_%\n",
      "origen                                                      \n",
      "Mallorca          8478516         15140515             56.00\n",
      "Málaga            5968950         10531760             56.68\n",
      "Valencia          4669205          8598955             54.30\n"
     ]
    }
   ],
   "source": [
    "ocupacion_origen = df_ult_por_listado.groupby('origen').agg(\n",
    "    noches_ocupadas=('noches_ocupadas', 'sum'),\n",
    "    capacidad_total=('dias_del_año', 'sum')\n",
    ")\n",
    "\n",
    "ocupacion_origen['tasa_ocupacion_%'] = (\n",
    "    ocupacion_origen['noches_ocupadas'] / ocupacion_origen['capacidad_total'] * 100\n",
    ")\n",
    "\n",
    "print(ocupacion_origen.round(2))"
   ]
  },
  {
   "cell_type": "markdown",
   "id": "59aa7cd8",
   "metadata": {},
   "source": [
    "Tasa de ocupación por origen y año"
   ]
  },
  {
   "cell_type": "code",
   "execution_count": 33,
   "id": "c38bfbd2",
   "metadata": {},
   "outputs": [
    {
     "name": "stdout",
     "output_type": "stream",
     "text": [
      "      origen  year  noches_ocupadas  capacidad_total  tasa_ocupacion_%\n",
      "0   Mallorca  2011              689             1460             47.19\n",
      "1   Mallorca  2012             8732            14640             59.64\n",
      "2   Mallorca  2013            29108            51100             56.96\n",
      "3   Mallorca  2014            65275           117895             55.37\n",
      "4   Mallorca  2015           126117           222650             56.64\n",
      "5   Mallorca  2016           225330           391986             57.48\n",
      "6   Mallorca  2017           357361           619405             57.69\n",
      "7   Mallorca  2018           487624           832200             58.59\n",
      "8   Mallorca  2019           680376          1168000             58.25\n",
      "9   Mallorca  2020           552097           956358             57.73\n",
      "10  Mallorca  2021           995415          1758935             56.59\n",
      "11  Mallorca  2022          1287308          2300230             55.96\n",
      "12  Mallorca  2023          1497371          2691145             55.64\n",
      "13  Mallorca  2024          1798351          3294366             54.59\n",
      "14  Mallorca  2025           367362           720145             51.01\n",
      "15    Málaga  2011               64              365             17.53\n",
      "16    Málaga  2012             2650             3660             72.40\n",
      "17    Málaga  2013            10285            17155             59.95\n",
      "18    Málaga  2014            22374            37960             58.94\n",
      "19    Málaga  2015            52863            92345             57.25\n",
      "20    Málaga  2016           105940           176778             59.93\n",
      "21    Málaga  2017           180799           297475             60.78\n",
      "22    Málaga  2018           283262           461360             61.40\n",
      "23    Málaga  2019           381508           623785             61.16\n",
      "24    Málaga  2020           389486           636474             61.19\n",
      "25    Málaga  2021           522319           897535             58.19\n",
      "26    Málaga  2022           741601          1324950             55.97\n",
      "27    Málaga  2023          1002368          1785215             56.15\n",
      "28    Málaga  2024          1317474          2407548             54.72\n",
      "29    Málaga  2025           955957          1769155             54.03\n",
      "30  Valencia  2010              188              365             51.51\n",
      "31  Valencia  2011             1001             1825             54.85\n",
      "32  Valencia  2012             3394             6588             51.52\n",
      "33  Valencia  2013            14145            25185             56.16\n",
      "34  Valencia  2014            25531            45260             56.41\n",
      "35  Valencia  2015            48110            83950             57.31\n",
      "36  Valencia  2016            94350           166530             56.66\n",
      "37  Valencia  2017           150091           267180             56.18\n",
      "38  Valencia  2018           236760           404420             58.54\n",
      "39  Valencia  2019           297321           511000             58.18\n",
      "40  Valencia  2020           288048           492636             58.47\n",
      "41  Valencia  2021           362932           644590             56.30\n",
      "42  Valencia  2022           511858           948635             53.96\n",
      "43  Valencia  2023           760746          1429340             53.22\n",
      "44  Valencia  2024          1102114          2110356             52.22\n",
      "45  Valencia  2025           772616          1461095             52.88\n"
     ]
    }
   ],
   "source": [
    "ocupacion_origen_anio = df_ult_por_listado.groupby(['origen', 'year']).agg(\n",
    "    noches_ocupadas=('noches_ocupadas', 'sum'),\n",
    "    capacidad_total=('dias_del_año', 'sum')\n",
    ")\n",
    "\n",
    "ocupacion_origen_anio['tasa_ocupacion_%'] = (\n",
    "    ocupacion_origen_anio['noches_ocupadas'] / ocupacion_origen_anio['capacidad_total'] * 100\n",
    ")\n",
    "\n",
    "ocupacion_origen_anio = ocupacion_origen_anio.reset_index()\n",
    "\n",
    "print(ocupacion_origen_anio.round(2))"
   ]
  },
  {
   "cell_type": "code",
   "execution_count": 32,
   "id": "e9c2b1de",
   "metadata": {},
   "outputs": [
    {
     "data": {
      "application/vnd.plotly.v1+json": {
       "config": {
        "plotlyServerURL": "https://plot.ly"
       },
       "data": [
        {
         "hovertemplate": "year=%{x}<br>Ocupación (%)=%{y}<extra></extra>",
         "legendgroup": "",
         "marker": {
          "color": "steelblue",
          "pattern": {
           "shape": ""
          }
         },
         "name": "",
         "orientation": "v",
         "showlegend": false,
         "textposition": "auto",
         "type": "bar",
         "x": {
          "bdata": "2gcAANsHAADcBwAA3QcAAN4HAADfBwAA4AcAAOEHAADiBwAA4wcAAOQHAADlBwAA5gcAAOcHAADoBwAA6QcAAA==",
          "dtype": "i4"
         },
         "xaxis": "x",
         "y": {
          "bdata": "Dhw4cODASUBw4MCBAwdIQPemNWxbr01AID9+/PilTEDeU5l7XCNMQEfETdoYdkxA4oCEszHxTEAKpPCfLBBNQEhk8uoBrE1AHjtGfx+DTUC4XxyqHntNQE7/6bFcfExA/ygGjG/GS0CuSbpxxJpLQF+MPe3f/kpA2nyiJTaHSkA=",
          "dtype": "f8"
         },
         "yaxis": "y"
        }
       ],
       "layout": {
        "barmode": "relative",
        "legend": {
         "tracegroupgap": 0
        },
        "template": {
         "data": {
          "bar": [
           {
            "error_x": {
             "color": "#2a3f5f"
            },
            "error_y": {
             "color": "#2a3f5f"
            },
            "marker": {
             "line": {
              "color": "#E5ECF6",
              "width": 0.5
             },
             "pattern": {
              "fillmode": "overlay",
              "size": 10,
              "solidity": 0.2
             }
            },
            "type": "bar"
           }
          ],
          "barpolar": [
           {
            "marker": {
             "line": {
              "color": "#E5ECF6",
              "width": 0.5
             },
             "pattern": {
              "fillmode": "overlay",
              "size": 10,
              "solidity": 0.2
             }
            },
            "type": "barpolar"
           }
          ],
          "carpet": [
           {
            "aaxis": {
             "endlinecolor": "#2a3f5f",
             "gridcolor": "white",
             "linecolor": "white",
             "minorgridcolor": "white",
             "startlinecolor": "#2a3f5f"
            },
            "baxis": {
             "endlinecolor": "#2a3f5f",
             "gridcolor": "white",
             "linecolor": "white",
             "minorgridcolor": "white",
             "startlinecolor": "#2a3f5f"
            },
            "type": "carpet"
           }
          ],
          "choropleth": [
           {
            "colorbar": {
             "outlinewidth": 0,
             "ticks": ""
            },
            "type": "choropleth"
           }
          ],
          "contour": [
           {
            "colorbar": {
             "outlinewidth": 0,
             "ticks": ""
            },
            "colorscale": [
             [
              0,
              "#0d0887"
             ],
             [
              0.1111111111111111,
              "#46039f"
             ],
             [
              0.2222222222222222,
              "#7201a8"
             ],
             [
              0.3333333333333333,
              "#9c179e"
             ],
             [
              0.4444444444444444,
              "#bd3786"
             ],
             [
              0.5555555555555556,
              "#d8576b"
             ],
             [
              0.6666666666666666,
              "#ed7953"
             ],
             [
              0.7777777777777778,
              "#fb9f3a"
             ],
             [
              0.8888888888888888,
              "#fdca26"
             ],
             [
              1,
              "#f0f921"
             ]
            ],
            "type": "contour"
           }
          ],
          "contourcarpet": [
           {
            "colorbar": {
             "outlinewidth": 0,
             "ticks": ""
            },
            "type": "contourcarpet"
           }
          ],
          "heatmap": [
           {
            "colorbar": {
             "outlinewidth": 0,
             "ticks": ""
            },
            "colorscale": [
             [
              0,
              "#0d0887"
             ],
             [
              0.1111111111111111,
              "#46039f"
             ],
             [
              0.2222222222222222,
              "#7201a8"
             ],
             [
              0.3333333333333333,
              "#9c179e"
             ],
             [
              0.4444444444444444,
              "#bd3786"
             ],
             [
              0.5555555555555556,
              "#d8576b"
             ],
             [
              0.6666666666666666,
              "#ed7953"
             ],
             [
              0.7777777777777778,
              "#fb9f3a"
             ],
             [
              0.8888888888888888,
              "#fdca26"
             ],
             [
              1,
              "#f0f921"
             ]
            ],
            "type": "heatmap"
           }
          ],
          "histogram": [
           {
            "marker": {
             "pattern": {
              "fillmode": "overlay",
              "size": 10,
              "solidity": 0.2
             }
            },
            "type": "histogram"
           }
          ],
          "histogram2d": [
           {
            "colorbar": {
             "outlinewidth": 0,
             "ticks": ""
            },
            "colorscale": [
             [
              0,
              "#0d0887"
             ],
             [
              0.1111111111111111,
              "#46039f"
             ],
             [
              0.2222222222222222,
              "#7201a8"
             ],
             [
              0.3333333333333333,
              "#9c179e"
             ],
             [
              0.4444444444444444,
              "#bd3786"
             ],
             [
              0.5555555555555556,
              "#d8576b"
             ],
             [
              0.6666666666666666,
              "#ed7953"
             ],
             [
              0.7777777777777778,
              "#fb9f3a"
             ],
             [
              0.8888888888888888,
              "#fdca26"
             ],
             [
              1,
              "#f0f921"
             ]
            ],
            "type": "histogram2d"
           }
          ],
          "histogram2dcontour": [
           {
            "colorbar": {
             "outlinewidth": 0,
             "ticks": ""
            },
            "colorscale": [
             [
              0,
              "#0d0887"
             ],
             [
              0.1111111111111111,
              "#46039f"
             ],
             [
              0.2222222222222222,
              "#7201a8"
             ],
             [
              0.3333333333333333,
              "#9c179e"
             ],
             [
              0.4444444444444444,
              "#bd3786"
             ],
             [
              0.5555555555555556,
              "#d8576b"
             ],
             [
              0.6666666666666666,
              "#ed7953"
             ],
             [
              0.7777777777777778,
              "#fb9f3a"
             ],
             [
              0.8888888888888888,
              "#fdca26"
             ],
             [
              1,
              "#f0f921"
             ]
            ],
            "type": "histogram2dcontour"
           }
          ],
          "mesh3d": [
           {
            "colorbar": {
             "outlinewidth": 0,
             "ticks": ""
            },
            "type": "mesh3d"
           }
          ],
          "parcoords": [
           {
            "line": {
             "colorbar": {
              "outlinewidth": 0,
              "ticks": ""
             }
            },
            "type": "parcoords"
           }
          ],
          "pie": [
           {
            "automargin": true,
            "type": "pie"
           }
          ],
          "scatter": [
           {
            "fillpattern": {
             "fillmode": "overlay",
             "size": 10,
             "solidity": 0.2
            },
            "type": "scatter"
           }
          ],
          "scatter3d": [
           {
            "line": {
             "colorbar": {
              "outlinewidth": 0,
              "ticks": ""
             }
            },
            "marker": {
             "colorbar": {
              "outlinewidth": 0,
              "ticks": ""
             }
            },
            "type": "scatter3d"
           }
          ],
          "scattercarpet": [
           {
            "marker": {
             "colorbar": {
              "outlinewidth": 0,
              "ticks": ""
             }
            },
            "type": "scattercarpet"
           }
          ],
          "scattergeo": [
           {
            "marker": {
             "colorbar": {
              "outlinewidth": 0,
              "ticks": ""
             }
            },
            "type": "scattergeo"
           }
          ],
          "scattergl": [
           {
            "marker": {
             "colorbar": {
              "outlinewidth": 0,
              "ticks": ""
             }
            },
            "type": "scattergl"
           }
          ],
          "scattermap": [
           {
            "marker": {
             "colorbar": {
              "outlinewidth": 0,
              "ticks": ""
             }
            },
            "type": "scattermap"
           }
          ],
          "scattermapbox": [
           {
            "marker": {
             "colorbar": {
              "outlinewidth": 0,
              "ticks": ""
             }
            },
            "type": "scattermapbox"
           }
          ],
          "scatterpolar": [
           {
            "marker": {
             "colorbar": {
              "outlinewidth": 0,
              "ticks": ""
             }
            },
            "type": "scatterpolar"
           }
          ],
          "scatterpolargl": [
           {
            "marker": {
             "colorbar": {
              "outlinewidth": 0,
              "ticks": ""
             }
            },
            "type": "scatterpolargl"
           }
          ],
          "scatterternary": [
           {
            "marker": {
             "colorbar": {
              "outlinewidth": 0,
              "ticks": ""
             }
            },
            "type": "scatterternary"
           }
          ],
          "surface": [
           {
            "colorbar": {
             "outlinewidth": 0,
             "ticks": ""
            },
            "colorscale": [
             [
              0,
              "#0d0887"
             ],
             [
              0.1111111111111111,
              "#46039f"
             ],
             [
              0.2222222222222222,
              "#7201a8"
             ],
             [
              0.3333333333333333,
              "#9c179e"
             ],
             [
              0.4444444444444444,
              "#bd3786"
             ],
             [
              0.5555555555555556,
              "#d8576b"
             ],
             [
              0.6666666666666666,
              "#ed7953"
             ],
             [
              0.7777777777777778,
              "#fb9f3a"
             ],
             [
              0.8888888888888888,
              "#fdca26"
             ],
             [
              1,
              "#f0f921"
             ]
            ],
            "type": "surface"
           }
          ],
          "table": [
           {
            "cells": {
             "fill": {
              "color": "#EBF0F8"
             },
             "line": {
              "color": "white"
             }
            },
            "header": {
             "fill": {
              "color": "#C8D4E3"
             },
             "line": {
              "color": "white"
             }
            },
            "type": "table"
           }
          ]
         },
         "layout": {
          "annotationdefaults": {
           "arrowcolor": "#2a3f5f",
           "arrowhead": 0,
           "arrowwidth": 1
          },
          "autotypenumbers": "strict",
          "coloraxis": {
           "colorbar": {
            "outlinewidth": 0,
            "ticks": ""
           }
          },
          "colorscale": {
           "diverging": [
            [
             0,
             "#8e0152"
            ],
            [
             0.1,
             "#c51b7d"
            ],
            [
             0.2,
             "#de77ae"
            ],
            [
             0.3,
             "#f1b6da"
            ],
            [
             0.4,
             "#fde0ef"
            ],
            [
             0.5,
             "#f7f7f7"
            ],
            [
             0.6,
             "#e6f5d0"
            ],
            [
             0.7,
             "#b8e186"
            ],
            [
             0.8,
             "#7fbc41"
            ],
            [
             0.9,
             "#4d9221"
            ],
            [
             1,
             "#276419"
            ]
           ],
           "sequential": [
            [
             0,
             "#0d0887"
            ],
            [
             0.1111111111111111,
             "#46039f"
            ],
            [
             0.2222222222222222,
             "#7201a8"
            ],
            [
             0.3333333333333333,
             "#9c179e"
            ],
            [
             0.4444444444444444,
             "#bd3786"
            ],
            [
             0.5555555555555556,
             "#d8576b"
            ],
            [
             0.6666666666666666,
             "#ed7953"
            ],
            [
             0.7777777777777778,
             "#fb9f3a"
            ],
            [
             0.8888888888888888,
             "#fdca26"
            ],
            [
             1,
             "#f0f921"
            ]
           ],
           "sequentialminus": [
            [
             0,
             "#0d0887"
            ],
            [
             0.1111111111111111,
             "#46039f"
            ],
            [
             0.2222222222222222,
             "#7201a8"
            ],
            [
             0.3333333333333333,
             "#9c179e"
            ],
            [
             0.4444444444444444,
             "#bd3786"
            ],
            [
             0.5555555555555556,
             "#d8576b"
            ],
            [
             0.6666666666666666,
             "#ed7953"
            ],
            [
             0.7777777777777778,
             "#fb9f3a"
            ],
            [
             0.8888888888888888,
             "#fdca26"
            ],
            [
             1,
             "#f0f921"
            ]
           ]
          },
          "colorway": [
           "#636efa",
           "#EF553B",
           "#00cc96",
           "#ab63fa",
           "#FFA15A",
           "#19d3f3",
           "#FF6692",
           "#B6E880",
           "#FF97FF",
           "#FECB52"
          ],
          "font": {
           "color": "#2a3f5f"
          },
          "geo": {
           "bgcolor": "white",
           "lakecolor": "white",
           "landcolor": "#E5ECF6",
           "showlakes": true,
           "showland": true,
           "subunitcolor": "white"
          },
          "hoverlabel": {
           "align": "left"
          },
          "hovermode": "closest",
          "mapbox": {
           "style": "light"
          },
          "paper_bgcolor": "white",
          "plot_bgcolor": "#E5ECF6",
          "polar": {
           "angularaxis": {
            "gridcolor": "white",
            "linecolor": "white",
            "ticks": ""
           },
           "bgcolor": "#E5ECF6",
           "radialaxis": {
            "gridcolor": "white",
            "linecolor": "white",
            "ticks": ""
           }
          },
          "scene": {
           "xaxis": {
            "backgroundcolor": "#E5ECF6",
            "gridcolor": "white",
            "gridwidth": 2,
            "linecolor": "white",
            "showbackground": true,
            "ticks": "",
            "zerolinecolor": "white"
           },
           "yaxis": {
            "backgroundcolor": "#E5ECF6",
            "gridcolor": "white",
            "gridwidth": 2,
            "linecolor": "white",
            "showbackground": true,
            "ticks": "",
            "zerolinecolor": "white"
           },
           "zaxis": {
            "backgroundcolor": "#E5ECF6",
            "gridcolor": "white",
            "gridwidth": 2,
            "linecolor": "white",
            "showbackground": true,
            "ticks": "",
            "zerolinecolor": "white"
           }
          },
          "shapedefaults": {
           "line": {
            "color": "#2a3f5f"
           }
          },
          "ternary": {
           "aaxis": {
            "gridcolor": "white",
            "linecolor": "white",
            "ticks": ""
           },
           "baxis": {
            "gridcolor": "white",
            "linecolor": "white",
            "ticks": ""
           },
           "bgcolor": "#E5ECF6",
           "caxis": {
            "gridcolor": "white",
            "linecolor": "white",
            "ticks": ""
           }
          },
          "title": {
           "x": 0.05
          },
          "xaxis": {
           "automargin": true,
           "gridcolor": "white",
           "linecolor": "white",
           "ticks": "",
           "title": {
            "standoff": 15
           },
           "zerolinecolor": "white",
           "zerolinewidth": 2
          },
          "yaxis": {
           "automargin": true,
           "gridcolor": "white",
           "linecolor": "white",
           "ticks": "",
           "title": {
            "standoff": 15
           },
           "zerolinecolor": "white",
           "zerolinewidth": 2
          }
         }
        },
        "title": {
         "text": "Tasa de Ocupación por Año (%)"
        },
        "xaxis": {
         "anchor": "y",
         "domain": [
          0,
          1
         ],
         "title": {
          "text": "year"
         }
        },
        "yaxis": {
         "anchor": "x",
         "domain": [
          0,
          1
         ],
         "title": {
          "text": "Ocupación (%)"
         }
        }
       }
      }
     },
     "metadata": {},
     "output_type": "display_data"
    },
    {
     "data": {
      "application/vnd.plotly.v1+json": {
       "config": {
        "plotlyServerURL": "https://plot.ly"
       },
       "data": [
        {
         "domain": {
          "x": [
           0,
           1
          ],
          "y": [
           0,
           1
          ]
         },
         "hovertemplate": "origen=%{label}<br>tasa_ocupacion_%=%{value}<extra></extra>",
         "labels": [
          "Mallorca",
          "Málaga",
          "Valencia"
         ],
         "legendgroup": "",
         "name": "",
         "showlegend": true,
         "type": "pie",
         "values": {
          "bdata": "uOorsNr/S0BdXMm9fVZMQOxMVOVbJktA",
          "dtype": "f8"
         }
        }
       ],
       "layout": {
        "legend": {
         "tracegroupgap": 0
        },
        "template": {
         "data": {
          "bar": [
           {
            "error_x": {
             "color": "#2a3f5f"
            },
            "error_y": {
             "color": "#2a3f5f"
            },
            "marker": {
             "line": {
              "color": "#E5ECF6",
              "width": 0.5
             },
             "pattern": {
              "fillmode": "overlay",
              "size": 10,
              "solidity": 0.2
             }
            },
            "type": "bar"
           }
          ],
          "barpolar": [
           {
            "marker": {
             "line": {
              "color": "#E5ECF6",
              "width": 0.5
             },
             "pattern": {
              "fillmode": "overlay",
              "size": 10,
              "solidity": 0.2
             }
            },
            "type": "barpolar"
           }
          ],
          "carpet": [
           {
            "aaxis": {
             "endlinecolor": "#2a3f5f",
             "gridcolor": "white",
             "linecolor": "white",
             "minorgridcolor": "white",
             "startlinecolor": "#2a3f5f"
            },
            "baxis": {
             "endlinecolor": "#2a3f5f",
             "gridcolor": "white",
             "linecolor": "white",
             "minorgridcolor": "white",
             "startlinecolor": "#2a3f5f"
            },
            "type": "carpet"
           }
          ],
          "choropleth": [
           {
            "colorbar": {
             "outlinewidth": 0,
             "ticks": ""
            },
            "type": "choropleth"
           }
          ],
          "contour": [
           {
            "colorbar": {
             "outlinewidth": 0,
             "ticks": ""
            },
            "colorscale": [
             [
              0,
              "#0d0887"
             ],
             [
              0.1111111111111111,
              "#46039f"
             ],
             [
              0.2222222222222222,
              "#7201a8"
             ],
             [
              0.3333333333333333,
              "#9c179e"
             ],
             [
              0.4444444444444444,
              "#bd3786"
             ],
             [
              0.5555555555555556,
              "#d8576b"
             ],
             [
              0.6666666666666666,
              "#ed7953"
             ],
             [
              0.7777777777777778,
              "#fb9f3a"
             ],
             [
              0.8888888888888888,
              "#fdca26"
             ],
             [
              1,
              "#f0f921"
             ]
            ],
            "type": "contour"
           }
          ],
          "contourcarpet": [
           {
            "colorbar": {
             "outlinewidth": 0,
             "ticks": ""
            },
            "type": "contourcarpet"
           }
          ],
          "heatmap": [
           {
            "colorbar": {
             "outlinewidth": 0,
             "ticks": ""
            },
            "colorscale": [
             [
              0,
              "#0d0887"
             ],
             [
              0.1111111111111111,
              "#46039f"
             ],
             [
              0.2222222222222222,
              "#7201a8"
             ],
             [
              0.3333333333333333,
              "#9c179e"
             ],
             [
              0.4444444444444444,
              "#bd3786"
             ],
             [
              0.5555555555555556,
              "#d8576b"
             ],
             [
              0.6666666666666666,
              "#ed7953"
             ],
             [
              0.7777777777777778,
              "#fb9f3a"
             ],
             [
              0.8888888888888888,
              "#fdca26"
             ],
             [
              1,
              "#f0f921"
             ]
            ],
            "type": "heatmap"
           }
          ],
          "histogram": [
           {
            "marker": {
             "pattern": {
              "fillmode": "overlay",
              "size": 10,
              "solidity": 0.2
             }
            },
            "type": "histogram"
           }
          ],
          "histogram2d": [
           {
            "colorbar": {
             "outlinewidth": 0,
             "ticks": ""
            },
            "colorscale": [
             [
              0,
              "#0d0887"
             ],
             [
              0.1111111111111111,
              "#46039f"
             ],
             [
              0.2222222222222222,
              "#7201a8"
             ],
             [
              0.3333333333333333,
              "#9c179e"
             ],
             [
              0.4444444444444444,
              "#bd3786"
             ],
             [
              0.5555555555555556,
              "#d8576b"
             ],
             [
              0.6666666666666666,
              "#ed7953"
             ],
             [
              0.7777777777777778,
              "#fb9f3a"
             ],
             [
              0.8888888888888888,
              "#fdca26"
             ],
             [
              1,
              "#f0f921"
             ]
            ],
            "type": "histogram2d"
           }
          ],
          "histogram2dcontour": [
           {
            "colorbar": {
             "outlinewidth": 0,
             "ticks": ""
            },
            "colorscale": [
             [
              0,
              "#0d0887"
             ],
             [
              0.1111111111111111,
              "#46039f"
             ],
             [
              0.2222222222222222,
              "#7201a8"
             ],
             [
              0.3333333333333333,
              "#9c179e"
             ],
             [
              0.4444444444444444,
              "#bd3786"
             ],
             [
              0.5555555555555556,
              "#d8576b"
             ],
             [
              0.6666666666666666,
              "#ed7953"
             ],
             [
              0.7777777777777778,
              "#fb9f3a"
             ],
             [
              0.8888888888888888,
              "#fdca26"
             ],
             [
              1,
              "#f0f921"
             ]
            ],
            "type": "histogram2dcontour"
           }
          ],
          "mesh3d": [
           {
            "colorbar": {
             "outlinewidth": 0,
             "ticks": ""
            },
            "type": "mesh3d"
           }
          ],
          "parcoords": [
           {
            "line": {
             "colorbar": {
              "outlinewidth": 0,
              "ticks": ""
             }
            },
            "type": "parcoords"
           }
          ],
          "pie": [
           {
            "automargin": true,
            "type": "pie"
           }
          ],
          "scatter": [
           {
            "fillpattern": {
             "fillmode": "overlay",
             "size": 10,
             "solidity": 0.2
            },
            "type": "scatter"
           }
          ],
          "scatter3d": [
           {
            "line": {
             "colorbar": {
              "outlinewidth": 0,
              "ticks": ""
             }
            },
            "marker": {
             "colorbar": {
              "outlinewidth": 0,
              "ticks": ""
             }
            },
            "type": "scatter3d"
           }
          ],
          "scattercarpet": [
           {
            "marker": {
             "colorbar": {
              "outlinewidth": 0,
              "ticks": ""
             }
            },
            "type": "scattercarpet"
           }
          ],
          "scattergeo": [
           {
            "marker": {
             "colorbar": {
              "outlinewidth": 0,
              "ticks": ""
             }
            },
            "type": "scattergeo"
           }
          ],
          "scattergl": [
           {
            "marker": {
             "colorbar": {
              "outlinewidth": 0,
              "ticks": ""
             }
            },
            "type": "scattergl"
           }
          ],
          "scattermap": [
           {
            "marker": {
             "colorbar": {
              "outlinewidth": 0,
              "ticks": ""
             }
            },
            "type": "scattermap"
           }
          ],
          "scattermapbox": [
           {
            "marker": {
             "colorbar": {
              "outlinewidth": 0,
              "ticks": ""
             }
            },
            "type": "scattermapbox"
           }
          ],
          "scatterpolar": [
           {
            "marker": {
             "colorbar": {
              "outlinewidth": 0,
              "ticks": ""
             }
            },
            "type": "scatterpolar"
           }
          ],
          "scatterpolargl": [
           {
            "marker": {
             "colorbar": {
              "outlinewidth": 0,
              "ticks": ""
             }
            },
            "type": "scatterpolargl"
           }
          ],
          "scatterternary": [
           {
            "marker": {
             "colorbar": {
              "outlinewidth": 0,
              "ticks": ""
             }
            },
            "type": "scatterternary"
           }
          ],
          "surface": [
           {
            "colorbar": {
             "outlinewidth": 0,
             "ticks": ""
            },
            "colorscale": [
             [
              0,
              "#0d0887"
             ],
             [
              0.1111111111111111,
              "#46039f"
             ],
             [
              0.2222222222222222,
              "#7201a8"
             ],
             [
              0.3333333333333333,
              "#9c179e"
             ],
             [
              0.4444444444444444,
              "#bd3786"
             ],
             [
              0.5555555555555556,
              "#d8576b"
             ],
             [
              0.6666666666666666,
              "#ed7953"
             ],
             [
              0.7777777777777778,
              "#fb9f3a"
             ],
             [
              0.8888888888888888,
              "#fdca26"
             ],
             [
              1,
              "#f0f921"
             ]
            ],
            "type": "surface"
           }
          ],
          "table": [
           {
            "cells": {
             "fill": {
              "color": "#EBF0F8"
             },
             "line": {
              "color": "white"
             }
            },
            "header": {
             "fill": {
              "color": "#C8D4E3"
             },
             "line": {
              "color": "white"
             }
            },
            "type": "table"
           }
          ]
         },
         "layout": {
          "annotationdefaults": {
           "arrowcolor": "#2a3f5f",
           "arrowhead": 0,
           "arrowwidth": 1
          },
          "autotypenumbers": "strict",
          "coloraxis": {
           "colorbar": {
            "outlinewidth": 0,
            "ticks": ""
           }
          },
          "colorscale": {
           "diverging": [
            [
             0,
             "#8e0152"
            ],
            [
             0.1,
             "#c51b7d"
            ],
            [
             0.2,
             "#de77ae"
            ],
            [
             0.3,
             "#f1b6da"
            ],
            [
             0.4,
             "#fde0ef"
            ],
            [
             0.5,
             "#f7f7f7"
            ],
            [
             0.6,
             "#e6f5d0"
            ],
            [
             0.7,
             "#b8e186"
            ],
            [
             0.8,
             "#7fbc41"
            ],
            [
             0.9,
             "#4d9221"
            ],
            [
             1,
             "#276419"
            ]
           ],
           "sequential": [
            [
             0,
             "#0d0887"
            ],
            [
             0.1111111111111111,
             "#46039f"
            ],
            [
             0.2222222222222222,
             "#7201a8"
            ],
            [
             0.3333333333333333,
             "#9c179e"
            ],
            [
             0.4444444444444444,
             "#bd3786"
            ],
            [
             0.5555555555555556,
             "#d8576b"
            ],
            [
             0.6666666666666666,
             "#ed7953"
            ],
            [
             0.7777777777777778,
             "#fb9f3a"
            ],
            [
             0.8888888888888888,
             "#fdca26"
            ],
            [
             1,
             "#f0f921"
            ]
           ],
           "sequentialminus": [
            [
             0,
             "#0d0887"
            ],
            [
             0.1111111111111111,
             "#46039f"
            ],
            [
             0.2222222222222222,
             "#7201a8"
            ],
            [
             0.3333333333333333,
             "#9c179e"
            ],
            [
             0.4444444444444444,
             "#bd3786"
            ],
            [
             0.5555555555555556,
             "#d8576b"
            ],
            [
             0.6666666666666666,
             "#ed7953"
            ],
            [
             0.7777777777777778,
             "#fb9f3a"
            ],
            [
             0.8888888888888888,
             "#fdca26"
            ],
            [
             1,
             "#f0f921"
            ]
           ]
          },
          "colorway": [
           "#636efa",
           "#EF553B",
           "#00cc96",
           "#ab63fa",
           "#FFA15A",
           "#19d3f3",
           "#FF6692",
           "#B6E880",
           "#FF97FF",
           "#FECB52"
          ],
          "font": {
           "color": "#2a3f5f"
          },
          "geo": {
           "bgcolor": "white",
           "lakecolor": "white",
           "landcolor": "#E5ECF6",
           "showlakes": true,
           "showland": true,
           "subunitcolor": "white"
          },
          "hoverlabel": {
           "align": "left"
          },
          "hovermode": "closest",
          "mapbox": {
           "style": "light"
          },
          "paper_bgcolor": "white",
          "plot_bgcolor": "#E5ECF6",
          "polar": {
           "angularaxis": {
            "gridcolor": "white",
            "linecolor": "white",
            "ticks": ""
           },
           "bgcolor": "#E5ECF6",
           "radialaxis": {
            "gridcolor": "white",
            "linecolor": "white",
            "ticks": ""
           }
          },
          "scene": {
           "xaxis": {
            "backgroundcolor": "#E5ECF6",
            "gridcolor": "white",
            "gridwidth": 2,
            "linecolor": "white",
            "showbackground": true,
            "ticks": "",
            "zerolinecolor": "white"
           },
           "yaxis": {
            "backgroundcolor": "#E5ECF6",
            "gridcolor": "white",
            "gridwidth": 2,
            "linecolor": "white",
            "showbackground": true,
            "ticks": "",
            "zerolinecolor": "white"
           },
           "zaxis": {
            "backgroundcolor": "#E5ECF6",
            "gridcolor": "white",
            "gridwidth": 2,
            "linecolor": "white",
            "showbackground": true,
            "ticks": "",
            "zerolinecolor": "white"
           }
          },
          "shapedefaults": {
           "line": {
            "color": "#2a3f5f"
           }
          },
          "ternary": {
           "aaxis": {
            "gridcolor": "white",
            "linecolor": "white",
            "ticks": ""
           },
           "baxis": {
            "gridcolor": "white",
            "linecolor": "white",
            "ticks": ""
           },
           "bgcolor": "#E5ECF6",
           "caxis": {
            "gridcolor": "white",
            "linecolor": "white",
            "ticks": ""
           }
          },
          "title": {
           "x": 0.05
          },
          "xaxis": {
           "automargin": true,
           "gridcolor": "white",
           "linecolor": "white",
           "ticks": "",
           "title": {
            "standoff": 15
           },
           "zerolinecolor": "white",
           "zerolinewidth": 2
          },
          "yaxis": {
           "automargin": true,
           "gridcolor": "white",
           "linecolor": "white",
           "ticks": "",
           "title": {
            "standoff": 15
           },
           "zerolinecolor": "white",
           "zerolinewidth": 2
          }
         }
        },
        "title": {
         "text": "Distribución de la Tasa de Ocupación por Origen (%)"
        }
       }
      }
     },
     "metadata": {},
     "output_type": "display_data"
    },
    {
     "data": {
      "application/vnd.plotly.v1+json": {
       "config": {
        "plotlyServerURL": "https://plot.ly"
       },
       "data": [
        {
         "hovertemplate": "origen=Mallorca<br>year=%{x}<br>Ocupación (%)=%{y}<extra></extra>",
         "legendgroup": "Mallorca",
         "line": {
          "color": "#636efa",
          "dash": "solid"
         },
         "marker": {
          "symbol": "circle"
         },
         "mode": "lines+markers",
         "name": "Mallorca",
         "orientation": "v",
         "showlegend": true,
         "type": "scatter",
         "x": {
          "bdata": "2wcAANwHAADdBwAA3gcAAN8HAADgBwAA4QcAAOIHAADjBwAA5AcAAOUHAADmBwAA5wcAAOgHAADpBwAA",
          "dtype": "i4"
         },
         "xaxis": "x",
         "y": {
          "bdata": "iBEjRoyYR0AxC8gXidJNQLRnz549e0xAWoRG8/uuS0CG0srYYVJMQGWqTCH6vUxA1ZNe0dzYTEDBtAbTGkxNQANsPuMsIE1ATjt5m1PdTEDtp9rew0tMQDdfC7pu+0tACvucVwHSS0D0BLfzWUtLQPOlB6WQgUlA",
          "dtype": "f8"
         },
         "yaxis": "y"
        },
        {
         "hovertemplate": "origen=Málaga<br>year=%{x}<br>Ocupación (%)=%{y}<extra></extra>",
         "legendgroup": "Málaga",
         "line": {
          "color": "#EF553B",
          "dash": "solid"
         },
         "marker": {
          "symbol": "circle"
         },
         "mode": "lines+markers",
         "name": "Málaga",
         "orientation": "v",
         "showlegend": true,
         "type": "scatter",
         "x": {
          "bdata": "2wcAANwHAADdBwAA3gcAAN8HAADgBwAA4QcAAOIHAADjBwAA5AcAAOUHAADmBwAA5wcAAOgHAADpBwAA",
          "dtype": "i4"
         },
         "xaxis": "x",
         "y": {
          "bdata": "jBgxYsSIMUDR7Vo54RlSQANyuOgH+k1Ah7+SYHJ4TUAb9oHgX59MQMaAt5rR9k1AFE6JlpFjTkBBHWuV1rJOQMthe6CAlE5AGORKzt+YTkDcee1O8BhNQCW7HHZq/EtAuIbYufsSTED64LS0f1xLQBYDuvFvBEtA",
          "dtype": "f8"
         },
         "yaxis": "y"
        },
        {
         "hovertemplate": "origen=Valencia<br>year=%{x}<br>Ocupación (%)=%{y}<extra></extra>",
         "legendgroup": "Valencia",
         "line": {
          "color": "#00cc96",
          "dash": "solid"
         },
         "marker": {
          "symbol": "circle"
         },
         "mode": "lines+markers",
         "name": "Valencia",
         "orientation": "v",
         "showlegend": true,
         "type": "scatter",
         "x": {
          "bdata": "2gcAANsHAADcBwAA3QcAAN4HAADfBwAA4AcAAOEHAADiBwAA4wcAAOQHAADlBwAA5gcAAOcHAADoBwAA6QcAAA==",
          "dtype": "i4"
         },
         "xaxis": "x",
         "y": {
          "bdata": "Dhw4cODASUDMli1btmxLQGzHU+tKwklAUaFChQoVTEAelpfcbjRMQCg7xPdpp0xAd9RP0wZUTEBDtne3hhZMQJSXl0KERU1AeSV+L5IXTUDlYZHGQTxNQMVU/d/zJkxAZOA9Yon6SkC2DuJ0npxKQMtKAaWuHEpAJHrsFotwSkA=",
          "dtype": "f8"
         },
         "yaxis": "y"
        }
       ],
       "layout": {
        "legend": {
         "title": {
          "text": "origen"
         },
         "tracegroupgap": 0
        },
        "template": {
         "data": {
          "bar": [
           {
            "error_x": {
             "color": "#2a3f5f"
            },
            "error_y": {
             "color": "#2a3f5f"
            },
            "marker": {
             "line": {
              "color": "#E5ECF6",
              "width": 0.5
             },
             "pattern": {
              "fillmode": "overlay",
              "size": 10,
              "solidity": 0.2
             }
            },
            "type": "bar"
           }
          ],
          "barpolar": [
           {
            "marker": {
             "line": {
              "color": "#E5ECF6",
              "width": 0.5
             },
             "pattern": {
              "fillmode": "overlay",
              "size": 10,
              "solidity": 0.2
             }
            },
            "type": "barpolar"
           }
          ],
          "carpet": [
           {
            "aaxis": {
             "endlinecolor": "#2a3f5f",
             "gridcolor": "white",
             "linecolor": "white",
             "minorgridcolor": "white",
             "startlinecolor": "#2a3f5f"
            },
            "baxis": {
             "endlinecolor": "#2a3f5f",
             "gridcolor": "white",
             "linecolor": "white",
             "minorgridcolor": "white",
             "startlinecolor": "#2a3f5f"
            },
            "type": "carpet"
           }
          ],
          "choropleth": [
           {
            "colorbar": {
             "outlinewidth": 0,
             "ticks": ""
            },
            "type": "choropleth"
           }
          ],
          "contour": [
           {
            "colorbar": {
             "outlinewidth": 0,
             "ticks": ""
            },
            "colorscale": [
             [
              0,
              "#0d0887"
             ],
             [
              0.1111111111111111,
              "#46039f"
             ],
             [
              0.2222222222222222,
              "#7201a8"
             ],
             [
              0.3333333333333333,
              "#9c179e"
             ],
             [
              0.4444444444444444,
              "#bd3786"
             ],
             [
              0.5555555555555556,
              "#d8576b"
             ],
             [
              0.6666666666666666,
              "#ed7953"
             ],
             [
              0.7777777777777778,
              "#fb9f3a"
             ],
             [
              0.8888888888888888,
              "#fdca26"
             ],
             [
              1,
              "#f0f921"
             ]
            ],
            "type": "contour"
           }
          ],
          "contourcarpet": [
           {
            "colorbar": {
             "outlinewidth": 0,
             "ticks": ""
            },
            "type": "contourcarpet"
           }
          ],
          "heatmap": [
           {
            "colorbar": {
             "outlinewidth": 0,
             "ticks": ""
            },
            "colorscale": [
             [
              0,
              "#0d0887"
             ],
             [
              0.1111111111111111,
              "#46039f"
             ],
             [
              0.2222222222222222,
              "#7201a8"
             ],
             [
              0.3333333333333333,
              "#9c179e"
             ],
             [
              0.4444444444444444,
              "#bd3786"
             ],
             [
              0.5555555555555556,
              "#d8576b"
             ],
             [
              0.6666666666666666,
              "#ed7953"
             ],
             [
              0.7777777777777778,
              "#fb9f3a"
             ],
             [
              0.8888888888888888,
              "#fdca26"
             ],
             [
              1,
              "#f0f921"
             ]
            ],
            "type": "heatmap"
           }
          ],
          "histogram": [
           {
            "marker": {
             "pattern": {
              "fillmode": "overlay",
              "size": 10,
              "solidity": 0.2
             }
            },
            "type": "histogram"
           }
          ],
          "histogram2d": [
           {
            "colorbar": {
             "outlinewidth": 0,
             "ticks": ""
            },
            "colorscale": [
             [
              0,
              "#0d0887"
             ],
             [
              0.1111111111111111,
              "#46039f"
             ],
             [
              0.2222222222222222,
              "#7201a8"
             ],
             [
              0.3333333333333333,
              "#9c179e"
             ],
             [
              0.4444444444444444,
              "#bd3786"
             ],
             [
              0.5555555555555556,
              "#d8576b"
             ],
             [
              0.6666666666666666,
              "#ed7953"
             ],
             [
              0.7777777777777778,
              "#fb9f3a"
             ],
             [
              0.8888888888888888,
              "#fdca26"
             ],
             [
              1,
              "#f0f921"
             ]
            ],
            "type": "histogram2d"
           }
          ],
          "histogram2dcontour": [
           {
            "colorbar": {
             "outlinewidth": 0,
             "ticks": ""
            },
            "colorscale": [
             [
              0,
              "#0d0887"
             ],
             [
              0.1111111111111111,
              "#46039f"
             ],
             [
              0.2222222222222222,
              "#7201a8"
             ],
             [
              0.3333333333333333,
              "#9c179e"
             ],
             [
              0.4444444444444444,
              "#bd3786"
             ],
             [
              0.5555555555555556,
              "#d8576b"
             ],
             [
              0.6666666666666666,
              "#ed7953"
             ],
             [
              0.7777777777777778,
              "#fb9f3a"
             ],
             [
              0.8888888888888888,
              "#fdca26"
             ],
             [
              1,
              "#f0f921"
             ]
            ],
            "type": "histogram2dcontour"
           }
          ],
          "mesh3d": [
           {
            "colorbar": {
             "outlinewidth": 0,
             "ticks": ""
            },
            "type": "mesh3d"
           }
          ],
          "parcoords": [
           {
            "line": {
             "colorbar": {
              "outlinewidth": 0,
              "ticks": ""
             }
            },
            "type": "parcoords"
           }
          ],
          "pie": [
           {
            "automargin": true,
            "type": "pie"
           }
          ],
          "scatter": [
           {
            "fillpattern": {
             "fillmode": "overlay",
             "size": 10,
             "solidity": 0.2
            },
            "type": "scatter"
           }
          ],
          "scatter3d": [
           {
            "line": {
             "colorbar": {
              "outlinewidth": 0,
              "ticks": ""
             }
            },
            "marker": {
             "colorbar": {
              "outlinewidth": 0,
              "ticks": ""
             }
            },
            "type": "scatter3d"
           }
          ],
          "scattercarpet": [
           {
            "marker": {
             "colorbar": {
              "outlinewidth": 0,
              "ticks": ""
             }
            },
            "type": "scattercarpet"
           }
          ],
          "scattergeo": [
           {
            "marker": {
             "colorbar": {
              "outlinewidth": 0,
              "ticks": ""
             }
            },
            "type": "scattergeo"
           }
          ],
          "scattergl": [
           {
            "marker": {
             "colorbar": {
              "outlinewidth": 0,
              "ticks": ""
             }
            },
            "type": "scattergl"
           }
          ],
          "scattermap": [
           {
            "marker": {
             "colorbar": {
              "outlinewidth": 0,
              "ticks": ""
             }
            },
            "type": "scattermap"
           }
          ],
          "scattermapbox": [
           {
            "marker": {
             "colorbar": {
              "outlinewidth": 0,
              "ticks": ""
             }
            },
            "type": "scattermapbox"
           }
          ],
          "scatterpolar": [
           {
            "marker": {
             "colorbar": {
              "outlinewidth": 0,
              "ticks": ""
             }
            },
            "type": "scatterpolar"
           }
          ],
          "scatterpolargl": [
           {
            "marker": {
             "colorbar": {
              "outlinewidth": 0,
              "ticks": ""
             }
            },
            "type": "scatterpolargl"
           }
          ],
          "scatterternary": [
           {
            "marker": {
             "colorbar": {
              "outlinewidth": 0,
              "ticks": ""
             }
            },
            "type": "scatterternary"
           }
          ],
          "surface": [
           {
            "colorbar": {
             "outlinewidth": 0,
             "ticks": ""
            },
            "colorscale": [
             [
              0,
              "#0d0887"
             ],
             [
              0.1111111111111111,
              "#46039f"
             ],
             [
              0.2222222222222222,
              "#7201a8"
             ],
             [
              0.3333333333333333,
              "#9c179e"
             ],
             [
              0.4444444444444444,
              "#bd3786"
             ],
             [
              0.5555555555555556,
              "#d8576b"
             ],
             [
              0.6666666666666666,
              "#ed7953"
             ],
             [
              0.7777777777777778,
              "#fb9f3a"
             ],
             [
              0.8888888888888888,
              "#fdca26"
             ],
             [
              1,
              "#f0f921"
             ]
            ],
            "type": "surface"
           }
          ],
          "table": [
           {
            "cells": {
             "fill": {
              "color": "#EBF0F8"
             },
             "line": {
              "color": "white"
             }
            },
            "header": {
             "fill": {
              "color": "#C8D4E3"
             },
             "line": {
              "color": "white"
             }
            },
            "type": "table"
           }
          ]
         },
         "layout": {
          "annotationdefaults": {
           "arrowcolor": "#2a3f5f",
           "arrowhead": 0,
           "arrowwidth": 1
          },
          "autotypenumbers": "strict",
          "coloraxis": {
           "colorbar": {
            "outlinewidth": 0,
            "ticks": ""
           }
          },
          "colorscale": {
           "diverging": [
            [
             0,
             "#8e0152"
            ],
            [
             0.1,
             "#c51b7d"
            ],
            [
             0.2,
             "#de77ae"
            ],
            [
             0.3,
             "#f1b6da"
            ],
            [
             0.4,
             "#fde0ef"
            ],
            [
             0.5,
             "#f7f7f7"
            ],
            [
             0.6,
             "#e6f5d0"
            ],
            [
             0.7,
             "#b8e186"
            ],
            [
             0.8,
             "#7fbc41"
            ],
            [
             0.9,
             "#4d9221"
            ],
            [
             1,
             "#276419"
            ]
           ],
           "sequential": [
            [
             0,
             "#0d0887"
            ],
            [
             0.1111111111111111,
             "#46039f"
            ],
            [
             0.2222222222222222,
             "#7201a8"
            ],
            [
             0.3333333333333333,
             "#9c179e"
            ],
            [
             0.4444444444444444,
             "#bd3786"
            ],
            [
             0.5555555555555556,
             "#d8576b"
            ],
            [
             0.6666666666666666,
             "#ed7953"
            ],
            [
             0.7777777777777778,
             "#fb9f3a"
            ],
            [
             0.8888888888888888,
             "#fdca26"
            ],
            [
             1,
             "#f0f921"
            ]
           ],
           "sequentialminus": [
            [
             0,
             "#0d0887"
            ],
            [
             0.1111111111111111,
             "#46039f"
            ],
            [
             0.2222222222222222,
             "#7201a8"
            ],
            [
             0.3333333333333333,
             "#9c179e"
            ],
            [
             0.4444444444444444,
             "#bd3786"
            ],
            [
             0.5555555555555556,
             "#d8576b"
            ],
            [
             0.6666666666666666,
             "#ed7953"
            ],
            [
             0.7777777777777778,
             "#fb9f3a"
            ],
            [
             0.8888888888888888,
             "#fdca26"
            ],
            [
             1,
             "#f0f921"
            ]
           ]
          },
          "colorway": [
           "#636efa",
           "#EF553B",
           "#00cc96",
           "#ab63fa",
           "#FFA15A",
           "#19d3f3",
           "#FF6692",
           "#B6E880",
           "#FF97FF",
           "#FECB52"
          ],
          "font": {
           "color": "#2a3f5f"
          },
          "geo": {
           "bgcolor": "white",
           "lakecolor": "white",
           "landcolor": "#E5ECF6",
           "showlakes": true,
           "showland": true,
           "subunitcolor": "white"
          },
          "hoverlabel": {
           "align": "left"
          },
          "hovermode": "closest",
          "mapbox": {
           "style": "light"
          },
          "paper_bgcolor": "white",
          "plot_bgcolor": "#E5ECF6",
          "polar": {
           "angularaxis": {
            "gridcolor": "white",
            "linecolor": "white",
            "ticks": ""
           },
           "bgcolor": "#E5ECF6",
           "radialaxis": {
            "gridcolor": "white",
            "linecolor": "white",
            "ticks": ""
           }
          },
          "scene": {
           "xaxis": {
            "backgroundcolor": "#E5ECF6",
            "gridcolor": "white",
            "gridwidth": 2,
            "linecolor": "white",
            "showbackground": true,
            "ticks": "",
            "zerolinecolor": "white"
           },
           "yaxis": {
            "backgroundcolor": "#E5ECF6",
            "gridcolor": "white",
            "gridwidth": 2,
            "linecolor": "white",
            "showbackground": true,
            "ticks": "",
            "zerolinecolor": "white"
           },
           "zaxis": {
            "backgroundcolor": "#E5ECF6",
            "gridcolor": "white",
            "gridwidth": 2,
            "linecolor": "white",
            "showbackground": true,
            "ticks": "",
            "zerolinecolor": "white"
           }
          },
          "shapedefaults": {
           "line": {
            "color": "#2a3f5f"
           }
          },
          "ternary": {
           "aaxis": {
            "gridcolor": "white",
            "linecolor": "white",
            "ticks": ""
           },
           "baxis": {
            "gridcolor": "white",
            "linecolor": "white",
            "ticks": ""
           },
           "bgcolor": "#E5ECF6",
           "caxis": {
            "gridcolor": "white",
            "linecolor": "white",
            "ticks": ""
           }
          },
          "title": {
           "x": 0.05
          },
          "xaxis": {
           "automargin": true,
           "gridcolor": "white",
           "linecolor": "white",
           "ticks": "",
           "title": {
            "standoff": 15
           },
           "zerolinecolor": "white",
           "zerolinewidth": 2
          },
          "yaxis": {
           "automargin": true,
           "gridcolor": "white",
           "linecolor": "white",
           "ticks": "",
           "title": {
            "standoff": 15
           },
           "zerolinecolor": "white",
           "zerolinewidth": 2
          }
         }
        },
        "title": {
         "text": "Tasa de Ocupación por Origen y Año (%)"
        },
        "xaxis": {
         "anchor": "y",
         "domain": [
          0,
          1
         ],
         "title": {
          "text": "year"
         }
        },
        "yaxis": {
         "anchor": "x",
         "domain": [
          0,
          1
         ],
         "title": {
          "text": "Ocupación (%)"
         }
        }
       }
      }
     },
     "metadata": {},
     "output_type": "display_data"
    }
   ],
   "source": [
    "\n",
    "# Gráfico 1: Barras por año\n",
    "fig1 = px.bar(\n",
    "    ocupacion_anual.reset_index(), \n",
    "    x='year', y='tasa_ocupacion_%',\n",
    "    title='Tasa de Ocupación por Año (%)',\n",
    "    labels={'tasa_ocupacion_%': 'Ocupación (%)'},\n",
    "    color_discrete_sequence=['steelblue']\n",
    ")\n",
    "fig1.show()\n",
    "\n",
    "# Gráfico 2: Circular por origen\n",
    "fig2 = px.pie(\n",
    "    ocupacion_origen.reset_index(), \n",
    "    names='origen', values='tasa_ocupacion_%',\n",
    "    title='Distribución de la Tasa de Ocupación por Origen (%)'\n",
    ")\n",
    "fig2.show()\n",
    "\n",
    "# Gráfico 3: Línea por origen y año\n",
    "fig3 = px.line(\n",
    "    ocupacion_origen_anio.reset_index(), \n",
    "    x='year', y='tasa_ocupacion_%', \n",
    "    color='origen',\n",
    "    title='Tasa de Ocupación por Origen y Año (%)',\n",
    "    markers=True,\n",
    "    labels={'tasa_ocupacion_%': 'Ocupación (%)'}\n",
    ")\n",
    "fig3.show()"
   ]
  },
  {
   "cell_type": "markdown",
   "id": "f54b3b96",
   "metadata": {},
   "source": [
    "# RevPAR"
   ]
  },
  {
   "cell_type": "markdown",
   "id": "e21c647f",
   "metadata": {},
   "source": [
    "##### 📌 Recordatorio de fórmulas:\n",
    "##### 🔹 Opción 1:\n",
    "##### RevPAR = ingresos totales por habitaciones / número de habitaciones disponibles\n",
    "\n",
    "##### 🔹 Opción 2:\n",
    "##### RevPAR = ADR × tasa de ocupación"
   ]
  },
  {
   "cell_type": "code",
   "execution_count": 41,
   "id": "69ded61c",
   "metadata": {},
   "outputs": [],
   "source": [
    "# Usamos último registro por año para conocer disponibilidad\n",
    "df_ult = df_ult_por_listado.sort_values('date').drop_duplicates(subset=['listing_id', 'year'], keep='last')\n",
    "df_ult['dias_del_año'] = df_ult['year'].apply(lambda y: 366 if y % 4 == 0 else 365)"
   ]
  },
  {
   "cell_type": "markdown",
   "id": "6577c7b5",
   "metadata": {},
   "source": [
    "1. RevPAR por año — con fórmula directa (ingresos / disponibilidad)"
   ]
  },
  {
   "cell_type": "code",
   "execution_count": null,
   "id": "c4e88399",
   "metadata": {},
   "outputs": [
    {
     "name": "stdout",
     "output_type": "stream",
     "text": [
      "      RevPAR\n",
      "year        \n",
      "2010    0.82\n",
      "2011    0.74\n",
      "2012    0.66\n",
      "2013    0.73\n",
      "2014    0.78\n",
      "2015    0.82\n",
      "2016    0.85\n",
      "2017    0.87\n",
      "2018    1.31\n",
      "2019    1.53\n",
      "2020    1.32\n",
      "2021    2.37\n",
      "2022    2.46\n",
      "2023    2.45\n",
      "2024    2.48\n",
      "2025    1.16\n"
     ]
    }
   ],
   "source": [
    "# Ingresos totales por año (sumando precios de noches efectivamente ocupadas)\n",
    "ingresos_por_año = df_ult_por_listado.groupby('year')['price'].sum()\n",
    "\n",
    "# Habitaciones disponibles por año (sumando noches ocupadas)\n",
    "habitaciones_disponibles_por_año = df_ult.groupby('year')['noches_ocupadas'].sum()\n",
    "\n",
    "# RevPAR = ingresos totales / habitaciones disponibles\n",
    "revpar_directo = (ingresos_por_año / habitaciones_disponibles_por_año).to_frame(name='RevPAR')\n",
    "\n",
    "print(revpar_directo.round(2))"
   ]
  },
  {
   "cell_type": "markdown",
   "id": "43af9a08",
   "metadata": {},
   "source": [
    "2. RevPAR por año — con fórmula ADR × ocupación"
   ]
  },
  {
   "cell_type": "code",
   "execution_count": 44,
   "id": "91c3eb87",
   "metadata": {},
   "outputs": [
    {
     "name": "stdout",
     "output_type": "stream",
     "text": [
      "      RevPAR\n",
      "year        \n",
      "2010    0.75\n",
      "2011    0.67\n",
      "2012    0.59\n",
      "2013    0.65\n",
      "2014    0.70\n",
      "2015    0.73\n",
      "2016    0.76\n",
      "2017    0.78\n",
      "2018    1.15\n",
      "2019    1.35\n",
      "2020    1.17\n",
      "2021    2.12\n",
      "2022    2.22\n",
      "2023    2.21\n",
      "2024    2.26\n",
      "2025    1.05\n"
     ]
    }
   ],
   "source": [
    "# ADR = ingreso promedio por reserva (por noche)\n",
    "adr = df_ult_por_listado.groupby('year')['price'].mean()\n",
    "\n",
    "# Tasa de ocupación = noches ocupadas / capacidad total\n",
    "# Calculamos noches ocupadas por año correctamente:\n",
    "noches_ocupadas = (df_ult['dias_del_año'] - df_ult['noches_ocupadas']).groupby(df_ult['year']).sum()\n",
    "capacidad_total = df_ult.groupby('year')['dias_del_año'].sum()\n",
    "tasa_ocupacion = (noches_ocupadas / capacidad_total)\n",
    "\n",
    "# RevPAR = ADR × tasa ocupación\n",
    "revpar_por_tasa = ((adr * tasa_ocupacion) / 100).to_frame(name='RevPAR')\n",
    "\n",
    "print(revpar_por_tasa.round(2))"
   ]
  },
  {
   "cell_type": "code",
   "execution_count": 45,
   "id": "bcca2f53",
   "metadata": {},
   "outputs": [
    {
     "name": "stdout",
     "output_type": "stream",
     "text": [
      "      RevPAR_directo  RevPAR_ADR_tasa\n",
      "year                                 \n",
      "2010            0.82             0.75\n",
      "2011            0.74             0.67\n",
      "2012            0.66             0.59\n",
      "2013            0.73             0.65\n",
      "2014            0.78             0.70\n",
      "2015            0.82             0.73\n",
      "2016            0.85             0.76\n",
      "2017            0.87             0.78\n",
      "2018            1.31             1.15\n",
      "2019            1.53             1.35\n",
      "2020            1.32             1.17\n",
      "2021            2.37             2.12\n",
      "2022            2.46             2.22\n",
      "2023            2.45             2.21\n",
      "2024            2.48             2.26\n",
      "2025            1.16             1.05\n"
     ]
    }
   ],
   "source": [
    "revpar_comparado = revpar_directo.join(revpar_por_tasa, lsuffix='_directo', rsuffix='_ADR_tasa')\n",
    "print(revpar_comparado.round(2))"
   ]
  },
  {
   "cell_type": "code",
   "execution_count": 46,
   "id": "354a9855",
   "metadata": {},
   "outputs": [
    {
     "data": {
      "application/vnd.plotly.v1+json": {
       "config": {
        "plotlyServerURL": "https://plot.ly"
       },
       "data": [
        {
         "marker": {
          "color": "steelblue"
         },
         "name": "RevPAR (directo)",
         "type": "bar",
         "x": [
          "2010",
          "2011",
          "2012",
          "2013",
          "2014",
          "2015",
          "2016",
          "2017",
          "2018",
          "2019",
          "2020",
          "2021",
          "2022",
          "2023",
          "2024",
          "2025"
         ],
         "y": {
          "bdata": "qe9s1Hc26j/bfzK/lZvnP5Z4NsHiROU/IItsCt5u5z+Y24foTfvoP1J4uv6TH+o/JYBdnYAW6z+ICQSu5urrP7pE+u8C5fQ/J/EJtpyL+D955P205Cj1P4xoHM+h6wJAbNZFafOxA0DJ3iKvQqEDQIhEL6bA3gNAHap0WeyL8j8=",
          "dtype": "f8"
         }
        },
        {
         "marker": {
          "color": "indianred"
         },
         "name": "RevPAR (ADR × Ocupación)",
         "type": "bar",
         "x": [
          "2010",
          "2011",
          "2012",
          "2013",
          "2014",
          "2015",
          "2016",
          "2017",
          "2018",
          "2019",
          "2020",
          "2021",
          "2022",
          "2023",
          "2024",
          "2025"
         ],
         "y": {
          "bdata": "zbtSn73l5z8yDbqrbILlP20YxG8bx+I/NO3F3WPt5D+qeTOqw2/mP7fH4dxvYec/Tv79lUwr6D/zvvmnR83oP+MctSWEZvI/QyNCMQOr9T8QfBfYOb3yPxhKBE/j7QBA56IqlRbAAUCmvZtcx7cBQAAn0am4EAJAmchdrUrc8D8=",
          "dtype": "f8"
         }
        }
       ],
       "layout": {
        "barmode": "group",
        "template": {
         "data": {
          "bar": [
           {
            "error_x": {
             "color": "#2a3f5f"
            },
            "error_y": {
             "color": "#2a3f5f"
            },
            "marker": {
             "line": {
              "color": "#E5ECF6",
              "width": 0.5
             },
             "pattern": {
              "fillmode": "overlay",
              "size": 10,
              "solidity": 0.2
             }
            },
            "type": "bar"
           }
          ],
          "barpolar": [
           {
            "marker": {
             "line": {
              "color": "#E5ECF6",
              "width": 0.5
             },
             "pattern": {
              "fillmode": "overlay",
              "size": 10,
              "solidity": 0.2
             }
            },
            "type": "barpolar"
           }
          ],
          "carpet": [
           {
            "aaxis": {
             "endlinecolor": "#2a3f5f",
             "gridcolor": "white",
             "linecolor": "white",
             "minorgridcolor": "white",
             "startlinecolor": "#2a3f5f"
            },
            "baxis": {
             "endlinecolor": "#2a3f5f",
             "gridcolor": "white",
             "linecolor": "white",
             "minorgridcolor": "white",
             "startlinecolor": "#2a3f5f"
            },
            "type": "carpet"
           }
          ],
          "choropleth": [
           {
            "colorbar": {
             "outlinewidth": 0,
             "ticks": ""
            },
            "type": "choropleth"
           }
          ],
          "contour": [
           {
            "colorbar": {
             "outlinewidth": 0,
             "ticks": ""
            },
            "colorscale": [
             [
              0,
              "#0d0887"
             ],
             [
              0.1111111111111111,
              "#46039f"
             ],
             [
              0.2222222222222222,
              "#7201a8"
             ],
             [
              0.3333333333333333,
              "#9c179e"
             ],
             [
              0.4444444444444444,
              "#bd3786"
             ],
             [
              0.5555555555555556,
              "#d8576b"
             ],
             [
              0.6666666666666666,
              "#ed7953"
             ],
             [
              0.7777777777777778,
              "#fb9f3a"
             ],
             [
              0.8888888888888888,
              "#fdca26"
             ],
             [
              1,
              "#f0f921"
             ]
            ],
            "type": "contour"
           }
          ],
          "contourcarpet": [
           {
            "colorbar": {
             "outlinewidth": 0,
             "ticks": ""
            },
            "type": "contourcarpet"
           }
          ],
          "heatmap": [
           {
            "colorbar": {
             "outlinewidth": 0,
             "ticks": ""
            },
            "colorscale": [
             [
              0,
              "#0d0887"
             ],
             [
              0.1111111111111111,
              "#46039f"
             ],
             [
              0.2222222222222222,
              "#7201a8"
             ],
             [
              0.3333333333333333,
              "#9c179e"
             ],
             [
              0.4444444444444444,
              "#bd3786"
             ],
             [
              0.5555555555555556,
              "#d8576b"
             ],
             [
              0.6666666666666666,
              "#ed7953"
             ],
             [
              0.7777777777777778,
              "#fb9f3a"
             ],
             [
              0.8888888888888888,
              "#fdca26"
             ],
             [
              1,
              "#f0f921"
             ]
            ],
            "type": "heatmap"
           }
          ],
          "histogram": [
           {
            "marker": {
             "pattern": {
              "fillmode": "overlay",
              "size": 10,
              "solidity": 0.2
             }
            },
            "type": "histogram"
           }
          ],
          "histogram2d": [
           {
            "colorbar": {
             "outlinewidth": 0,
             "ticks": ""
            },
            "colorscale": [
             [
              0,
              "#0d0887"
             ],
             [
              0.1111111111111111,
              "#46039f"
             ],
             [
              0.2222222222222222,
              "#7201a8"
             ],
             [
              0.3333333333333333,
              "#9c179e"
             ],
             [
              0.4444444444444444,
              "#bd3786"
             ],
             [
              0.5555555555555556,
              "#d8576b"
             ],
             [
              0.6666666666666666,
              "#ed7953"
             ],
             [
              0.7777777777777778,
              "#fb9f3a"
             ],
             [
              0.8888888888888888,
              "#fdca26"
             ],
             [
              1,
              "#f0f921"
             ]
            ],
            "type": "histogram2d"
           }
          ],
          "histogram2dcontour": [
           {
            "colorbar": {
             "outlinewidth": 0,
             "ticks": ""
            },
            "colorscale": [
             [
              0,
              "#0d0887"
             ],
             [
              0.1111111111111111,
              "#46039f"
             ],
             [
              0.2222222222222222,
              "#7201a8"
             ],
             [
              0.3333333333333333,
              "#9c179e"
             ],
             [
              0.4444444444444444,
              "#bd3786"
             ],
             [
              0.5555555555555556,
              "#d8576b"
             ],
             [
              0.6666666666666666,
              "#ed7953"
             ],
             [
              0.7777777777777778,
              "#fb9f3a"
             ],
             [
              0.8888888888888888,
              "#fdca26"
             ],
             [
              1,
              "#f0f921"
             ]
            ],
            "type": "histogram2dcontour"
           }
          ],
          "mesh3d": [
           {
            "colorbar": {
             "outlinewidth": 0,
             "ticks": ""
            },
            "type": "mesh3d"
           }
          ],
          "parcoords": [
           {
            "line": {
             "colorbar": {
              "outlinewidth": 0,
              "ticks": ""
             }
            },
            "type": "parcoords"
           }
          ],
          "pie": [
           {
            "automargin": true,
            "type": "pie"
           }
          ],
          "scatter": [
           {
            "fillpattern": {
             "fillmode": "overlay",
             "size": 10,
             "solidity": 0.2
            },
            "type": "scatter"
           }
          ],
          "scatter3d": [
           {
            "line": {
             "colorbar": {
              "outlinewidth": 0,
              "ticks": ""
             }
            },
            "marker": {
             "colorbar": {
              "outlinewidth": 0,
              "ticks": ""
             }
            },
            "type": "scatter3d"
           }
          ],
          "scattercarpet": [
           {
            "marker": {
             "colorbar": {
              "outlinewidth": 0,
              "ticks": ""
             }
            },
            "type": "scattercarpet"
           }
          ],
          "scattergeo": [
           {
            "marker": {
             "colorbar": {
              "outlinewidth": 0,
              "ticks": ""
             }
            },
            "type": "scattergeo"
           }
          ],
          "scattergl": [
           {
            "marker": {
             "colorbar": {
              "outlinewidth": 0,
              "ticks": ""
             }
            },
            "type": "scattergl"
           }
          ],
          "scattermap": [
           {
            "marker": {
             "colorbar": {
              "outlinewidth": 0,
              "ticks": ""
             }
            },
            "type": "scattermap"
           }
          ],
          "scattermapbox": [
           {
            "marker": {
             "colorbar": {
              "outlinewidth": 0,
              "ticks": ""
             }
            },
            "type": "scattermapbox"
           }
          ],
          "scatterpolar": [
           {
            "marker": {
             "colorbar": {
              "outlinewidth": 0,
              "ticks": ""
             }
            },
            "type": "scatterpolar"
           }
          ],
          "scatterpolargl": [
           {
            "marker": {
             "colorbar": {
              "outlinewidth": 0,
              "ticks": ""
             }
            },
            "type": "scatterpolargl"
           }
          ],
          "scatterternary": [
           {
            "marker": {
             "colorbar": {
              "outlinewidth": 0,
              "ticks": ""
             }
            },
            "type": "scatterternary"
           }
          ],
          "surface": [
           {
            "colorbar": {
             "outlinewidth": 0,
             "ticks": ""
            },
            "colorscale": [
             [
              0,
              "#0d0887"
             ],
             [
              0.1111111111111111,
              "#46039f"
             ],
             [
              0.2222222222222222,
              "#7201a8"
             ],
             [
              0.3333333333333333,
              "#9c179e"
             ],
             [
              0.4444444444444444,
              "#bd3786"
             ],
             [
              0.5555555555555556,
              "#d8576b"
             ],
             [
              0.6666666666666666,
              "#ed7953"
             ],
             [
              0.7777777777777778,
              "#fb9f3a"
             ],
             [
              0.8888888888888888,
              "#fdca26"
             ],
             [
              1,
              "#f0f921"
             ]
            ],
            "type": "surface"
           }
          ],
          "table": [
           {
            "cells": {
             "fill": {
              "color": "#EBF0F8"
             },
             "line": {
              "color": "white"
             }
            },
            "header": {
             "fill": {
              "color": "#C8D4E3"
             },
             "line": {
              "color": "white"
             }
            },
            "type": "table"
           }
          ]
         },
         "layout": {
          "annotationdefaults": {
           "arrowcolor": "#2a3f5f",
           "arrowhead": 0,
           "arrowwidth": 1
          },
          "autotypenumbers": "strict",
          "coloraxis": {
           "colorbar": {
            "outlinewidth": 0,
            "ticks": ""
           }
          },
          "colorscale": {
           "diverging": [
            [
             0,
             "#8e0152"
            ],
            [
             0.1,
             "#c51b7d"
            ],
            [
             0.2,
             "#de77ae"
            ],
            [
             0.3,
             "#f1b6da"
            ],
            [
             0.4,
             "#fde0ef"
            ],
            [
             0.5,
             "#f7f7f7"
            ],
            [
             0.6,
             "#e6f5d0"
            ],
            [
             0.7,
             "#b8e186"
            ],
            [
             0.8,
             "#7fbc41"
            ],
            [
             0.9,
             "#4d9221"
            ],
            [
             1,
             "#276419"
            ]
           ],
           "sequential": [
            [
             0,
             "#0d0887"
            ],
            [
             0.1111111111111111,
             "#46039f"
            ],
            [
             0.2222222222222222,
             "#7201a8"
            ],
            [
             0.3333333333333333,
             "#9c179e"
            ],
            [
             0.4444444444444444,
             "#bd3786"
            ],
            [
             0.5555555555555556,
             "#d8576b"
            ],
            [
             0.6666666666666666,
             "#ed7953"
            ],
            [
             0.7777777777777778,
             "#fb9f3a"
            ],
            [
             0.8888888888888888,
             "#fdca26"
            ],
            [
             1,
             "#f0f921"
            ]
           ],
           "sequentialminus": [
            [
             0,
             "#0d0887"
            ],
            [
             0.1111111111111111,
             "#46039f"
            ],
            [
             0.2222222222222222,
             "#7201a8"
            ],
            [
             0.3333333333333333,
             "#9c179e"
            ],
            [
             0.4444444444444444,
             "#bd3786"
            ],
            [
             0.5555555555555556,
             "#d8576b"
            ],
            [
             0.6666666666666666,
             "#ed7953"
            ],
            [
             0.7777777777777778,
             "#fb9f3a"
            ],
            [
             0.8888888888888888,
             "#fdca26"
            ],
            [
             1,
             "#f0f921"
            ]
           ]
          },
          "colorway": [
           "#636efa",
           "#EF553B",
           "#00cc96",
           "#ab63fa",
           "#FFA15A",
           "#19d3f3",
           "#FF6692",
           "#B6E880",
           "#FF97FF",
           "#FECB52"
          ],
          "font": {
           "color": "#2a3f5f"
          },
          "geo": {
           "bgcolor": "white",
           "lakecolor": "white",
           "landcolor": "#E5ECF6",
           "showlakes": true,
           "showland": true,
           "subunitcolor": "white"
          },
          "hoverlabel": {
           "align": "left"
          },
          "hovermode": "closest",
          "mapbox": {
           "style": "light"
          },
          "paper_bgcolor": "white",
          "plot_bgcolor": "#E5ECF6",
          "polar": {
           "angularaxis": {
            "gridcolor": "white",
            "linecolor": "white",
            "ticks": ""
           },
           "bgcolor": "#E5ECF6",
           "radialaxis": {
            "gridcolor": "white",
            "linecolor": "white",
            "ticks": ""
           }
          },
          "scene": {
           "xaxis": {
            "backgroundcolor": "#E5ECF6",
            "gridcolor": "white",
            "gridwidth": 2,
            "linecolor": "white",
            "showbackground": true,
            "ticks": "",
            "zerolinecolor": "white"
           },
           "yaxis": {
            "backgroundcolor": "#E5ECF6",
            "gridcolor": "white",
            "gridwidth": 2,
            "linecolor": "white",
            "showbackground": true,
            "ticks": "",
            "zerolinecolor": "white"
           },
           "zaxis": {
            "backgroundcolor": "#E5ECF6",
            "gridcolor": "white",
            "gridwidth": 2,
            "linecolor": "white",
            "showbackground": true,
            "ticks": "",
            "zerolinecolor": "white"
           }
          },
          "shapedefaults": {
           "line": {
            "color": "#2a3f5f"
           }
          },
          "ternary": {
           "aaxis": {
            "gridcolor": "white",
            "linecolor": "white",
            "ticks": ""
           },
           "baxis": {
            "gridcolor": "white",
            "linecolor": "white",
            "ticks": ""
           },
           "bgcolor": "#E5ECF6",
           "caxis": {
            "gridcolor": "white",
            "linecolor": "white",
            "ticks": ""
           }
          },
          "title": {
           "x": 0.05
          },
          "xaxis": {
           "automargin": true,
           "gridcolor": "white",
           "linecolor": "white",
           "ticks": "",
           "title": {
            "standoff": 15
           },
           "zerolinecolor": "white",
           "zerolinewidth": 2
          },
          "yaxis": {
           "automargin": true,
           "gridcolor": "white",
           "linecolor": "white",
           "ticks": "",
           "title": {
            "standoff": 15
           },
           "zerolinecolor": "white",
           "zerolinewidth": 2
          }
         }
        },
        "title": {
         "text": "Comparación de RevPAR por Año"
        },
        "xaxis": {
         "title": {
          "text": "Año"
         }
        },
        "yaxis": {
         "title": {
          "text": "RevPAR (€)"
         }
        }
       }
      }
     },
     "metadata": {},
     "output_type": "display_data"
    }
   ],
   "source": [
    "fig = go.Figure()\n",
    "fig.add_trace(go.Bar(\n",
    "    x=revpar_comparado.index.astype(str),\n",
    "    y=revpar_comparado['RevPAR_directo'],\n",
    "    name='RevPAR (directo)',\n",
    "    marker_color='steelblue'\n",
    "))\n",
    "fig.add_trace(go.Bar(\n",
    "    x=revpar_comparado.index.astype(str),\n",
    "    y=revpar_comparado['RevPAR_ADR_tasa'],\n",
    "    name='RevPAR (ADR × Ocupación)',\n",
    "    marker_color='indianred'\n",
    "))\n",
    "fig.update_layout(\n",
    "    title='Comparación de RevPAR por Año',\n",
    "    xaxis_title='Año',\n",
    "    yaxis_title='RevPAR (€)',\n",
    "    barmode='group'\n",
    ")\n",
    "fig.show()"
   ]
  },
  {
   "cell_type": "code",
   "execution_count": 52,
   "id": "3243c2f1",
   "metadata": {},
   "outputs": [
    {
     "name": "stdout",
     "output_type": "stream",
     "text": [
      "      origen  year  RevPAR_directo  RevPAR_ADR_tasa\n",
      "0   Mallorca  2011            0.67             0.61\n",
      "1   Mallorca  2012            0.65             0.57\n",
      "2   Mallorca  2013            0.85             0.76\n",
      "3   Mallorca  2014            0.93             0.84\n",
      "4   Mallorca  2015            1.01             0.91\n",
      "5   Mallorca  2016            1.07             0.95\n",
      "6   Mallorca  2017            1.11             0.99\n",
      "7   Mallorca  2018            1.99             1.76\n",
      "8   Mallorca  2019            2.35             2.09\n",
      "9   Mallorca  2020            2.06             1.83\n",
      "10  Mallorca  2021            3.82             3.42\n",
      "11  Mallorca  2022            4.09             3.68\n",
      "12  Mallorca  2023            4.35             3.92\n",
      "13  Mallorca  2024            4.65             4.19\n",
      "14  Mallorca  2025            3.00             2.74\n",
      "15    Málaga  2011            0.34             0.18\n",
      "16    Málaga  2012            0.23             0.17\n",
      "17    Málaga  2013            0.39             0.35\n",
      "18    Málaga  2014            0.44             0.39\n",
      "19    Málaga  2015            0.47             0.42\n",
      "20    Málaga  2016            0.47             0.41\n",
      "21    Málaga  2017            0.51             0.44\n",
      "22    Málaga  2018            0.58             0.50\n",
      "23    Málaga  2019            0.67             0.58\n",
      "24    Málaga  2020            0.69             0.59\n",
      "25    Málaga  2021            0.69             0.61\n",
      "26    Málaga  2022            0.79             0.71\n",
      "27    Málaga  2023            0.92             0.82\n",
      "28    Málaga  2024            0.94             0.84\n",
      "29    Málaga  2025            0.78             0.71\n",
      "30  Valencia  2010            0.82             0.75\n",
      "31  Valencia  2011            0.81             0.73\n",
      "32  Valencia  2012            1.05             0.95\n",
      "33  Valencia  2013            0.73             0.66\n",
      "34  Valencia  2014            0.69             0.62\n",
      "35  Valencia  2015            0.68             0.61\n",
      "36  Valencia  2016            0.74             0.66\n",
      "37  Valencia  2017            0.74             0.67\n",
      "38  Valencia  2018            0.77             0.68\n",
      "39  Valencia  2019            0.77             0.69\n",
      "40  Valencia  2020            0.76             0.67\n",
      "41  Valencia  2021            0.80             0.71\n",
      "42  Valencia  2022            0.79             0.72\n",
      "43  Valencia  2023            0.75             0.68\n",
      "44  Valencia  2024            0.81             0.73\n",
      "45  Valencia  2025            0.75             0.69\n"
     ]
    }
   ],
   "source": [
    "# Asegurar que 'date' es datetime y crear columna 'year'\n",
    "df_ult_por_listado['date'] = pd.to_datetime(df_ult_por_listado['date'])\n",
    "df_ult_por_listado['year'] = df_ult_por_listado['date'].dt.year\n",
    "\n",
    "# Último registro por alojamiento y año para calcular disponibilidad\n",
    "df_ult = df_ult_por_listado.sort_values('date').drop_duplicates(subset=['listing_id', 'year'], keep='last')\n",
    "df_ult['dias_del_año'] = df_ult['year'].apply(lambda y: 366 if y % 4 == 0 else 365)\n",
    "\n",
    "# Ingresos totales por origen y año (sumando precios por noche)\n",
    "ingresos_por_origen_anio = df_ult_por_listado.groupby(['origen', 'year'])['price'].sum()\n",
    "\n",
    "# Noches disponibles por origen y año\n",
    "disponibles_por_origen_anio = df_ult.groupby(['origen', 'year'])['noches_ocupadas'].sum()\n",
    "\n",
    "# RevPAR directo = ingresos / disponibilidad\n",
    "revpar_directo = (ingresos_por_origen_anio / disponibles_por_origen_anio).to_frame(name='RevPAR_directo').reset_index()\n",
    "\n",
    "# ADR (Average Daily Rate) por origen y año\n",
    "adr_origen_anio = df_ult_por_listado.groupby(['origen', 'year'])['price'].mean()\n",
    "\n",
    "# Tasa de ocupación: (365 - noches_ocupadas) / 365\n",
    "noches_ocupadas = df_ult.groupby(['origen', 'year'])['noches_ocupadas'].apply(lambda x: (365 - x).sum())\n",
    "capacidad_total = df_ult.groupby(['origen', 'year'])['dias_del_año'].sum()\n",
    "tasa_ocupacion = (noches_ocupadas / capacidad_total)\n",
    "\n",
    "# RevPAR = ADR × tasa ocupación\n",
    "revpar_adr = ((adr_origen_anio * tasa_ocupacion) / 100).to_frame(name='RevPAR_ADR_tasa').reset_index()\n",
    "\n",
    "# Combinar ambas métricas\n",
    "revpar_comparado = pd.merge(revpar_directo, revpar_adr, on=['origen', 'year'])\n",
    "\n",
    "print(revpar_comparado.round(2))"
   ]
  },
  {
   "cell_type": "code",
   "execution_count": 53,
   "id": "de6ccb7b",
   "metadata": {},
   "outputs": [
    {
     "data": {
      "application/vnd.plotly.v1+json": {
       "config": {
        "plotlyServerURL": "https://plot.ly"
       },
       "data": [
        {
         "alignmentgroup": "True",
         "hovertemplate": "Método=RevPAR_directo<br>origen=Mallorca<br>year=%{x}<br>RevPAR (€)=%{y}<extra></extra>",
         "legendgroup": "RevPAR_directo",
         "marker": {
          "color": "#636efa",
          "pattern": {
           "shape": ""
          }
         },
         "name": "RevPAR_directo",
         "offsetgroup": "RevPAR_directo",
         "orientation": "v",
         "showlegend": true,
         "textposition": "auto",
         "type": "bar",
         "x": {
          "bdata": "2wcAANwHAADdBwAA3gcAAN8HAADgBwAA4QcAAOIHAADjBwAA5AcAAOUHAADmBwAA5wcAAOgHAADpBwAA",
          "dtype": "i4"
         },
         "xaxis": "x",
         "y": {
          "bdata": "Zk49y+2A5T+I/9v0aLfkP30a61mUQ+s/9H9KpIfS7T9ffpAwbzvwPyWskNqSGvE/YhjdpETB8T/UPVc8CdH/P3dnnSRkzQJAQO4LvnyBAEBt602y3IcOQBGwTAPEWxBAElmX2qdnEUBZKkRRAJYSQNI5c40NBAhA",
          "dtype": "f8"
         },
         "yaxis": "y"
        },
        {
         "alignmentgroup": "True",
         "hovertemplate": "Método=RevPAR_directo<br>origen=Málaga<br>year=%{x}<br>RevPAR (€)=%{y}<extra></extra>",
         "legendgroup": "RevPAR_directo",
         "marker": {
          "color": "#636efa",
          "pattern": {
           "shape": ""
          }
         },
         "name": "RevPAR_directo",
         "offsetgroup": "RevPAR_directo",
         "orientation": "v",
         "showlegend": false,
         "textposition": "auto",
         "type": "bar",
         "x": {
          "bdata": "2wcAANwHAADdBwAA3gcAAN8HAADgBwAA4QcAAOIHAADjBwAA5AcAAOUHAADmBwAA5wcAAOgHAADpBwAA",
          "dtype": "i4"
         },
         "xaxis": "x2",
         "y": {
          "bdata": "AAAAAAAA1j8bDvMuYc3NP5qNQ740Pdk/+XYLSVha3D9Hx75j9fDdPzCdUoldB94/6yVbtdJM4D/6iwLBnpbiP6cyOaLZdeU/aOFeaTX/5T+VWABiYRPmPyLbq4qOQuk//tXCCCxL7T85YgkOOfPtP6KBftOp4ug/",
          "dtype": "f8"
         },
         "yaxis": "y2"
        },
        {
         "alignmentgroup": "True",
         "hovertemplate": "Método=RevPAR_directo<br>origen=Valencia<br>year=%{x}<br>RevPAR (€)=%{y}<extra></extra>",
         "legendgroup": "RevPAR_directo",
         "marker": {
          "color": "#636efa",
          "pattern": {
           "shape": ""
          }
         },
         "name": "RevPAR_directo",
         "offsetgroup": "RevPAR_directo",
         "orientation": "v",
         "showlegend": false,
         "textposition": "auto",
         "type": "bar",
         "x": {
          "bdata": "2gcAANsHAADcBwAA3QcAAN4HAADfBwAA4AcAAOEHAADiBwAA4wcAAOQHAADlBwAA5gcAAOcHAADoBwAA6QcAAA==",
          "dtype": "i4"
         },
         "xaxis": "x3",
         "y": {
          "bdata": "qe9s1Hc26j+FhiIRtdzpP7/t2CJ5vfA/MrrQM5Fp5z9FIX5HEhPmPyF4WPFmweU/8Cg4VRik5z8mF3TDvdXnP/ZP7OvCjug/oG6VkLfG6D+lHne9vF3oPztYnS2ddOk/nJ2kVk1T6T+6TPCf3t3nP7s1uNQrw+k/6Zu+HKQo6D8=",
          "dtype": "f8"
         },
         "yaxis": "y3"
        },
        {
         "alignmentgroup": "True",
         "hovertemplate": "Método=RevPAR_ADR_tasa<br>origen=Mallorca<br>year=%{x}<br>RevPAR (€)=%{y}<extra></extra>",
         "legendgroup": "RevPAR_ADR_tasa",
         "marker": {
          "color": "#EF553B",
          "pattern": {
           "shape": ""
          }
         },
         "name": "RevPAR_ADR_tasa",
         "offsetgroup": "RevPAR_ADR_tasa",
         "orientation": "v",
         "showlegend": true,
         "textposition": "auto",
         "type": "bar",
         "x": {
          "bdata": "2wcAANwHAADdBwAA3gcAAN8HAADgBwAA4QcAAOIHAADjBwAA5AcAAOUHAADmBwAA5wcAAOgHAADpBwAA",
          "dtype": "i4"
         },
         "xaxis": "x",
         "y": {
          "bdata": "Acjb7maP4z+7u7JebSDiP1TVn+5bZeg//wHqRD3m6j+hjxYexxntP8DAndfrZu4/t0nIg66i7z9Mw0qbviz8PyU2RgCasABAQBfPBxRL/T8KaT3LAmALQNQMKkvsbQ1A77i9FRVcD0D5gzMo7sIQQJzfE4/M5wVA",
          "dtype": "f8"
         },
         "yaxis": "y"
        },
        {
         "alignmentgroup": "True",
         "hovertemplate": "Método=RevPAR_ADR_tasa<br>origen=Málaga<br>year=%{x}<br>RevPAR (€)=%{y}<extra></extra>",
         "legendgroup": "RevPAR_ADR_tasa",
         "marker": {
          "color": "#EF553B",
          "pattern": {
           "shape": ""
          }
         },
         "name": "RevPAR_ADR_tasa",
         "offsetgroup": "RevPAR_ADR_tasa",
         "orientation": "v",
         "showlegend": false,
         "textposition": "auto",
         "type": "bar",
         "x": {
          "bdata": "2wcAANwHAADdBwAA3gcAAN8HAADgBwAA4QcAAOIHAADjBwAA5AcAAOUHAADmBwAA5wcAAOgHAADpBwAA",
          "dtype": "i4"
         },
         "xaxis": "x2",
         "y": {
          "bdata": "ZhdmVew4xz9SBX8eAZTFP+U7TP41HtY/DcinlXML2T99B3sQa7/aP3jZ7dOINto/vxqTRI1d3D8/0VcwoBTgP02Oz3lim+I/zNtMutL74j/B9q0ZXJrjP5hThMONuOY/qC2yFoZT6j/vUWbH9v7qPzTKSsRgj+Y/",
          "dtype": "f8"
         },
         "yaxis": "y2"
        },
        {
         "alignmentgroup": "True",
         "hovertemplate": "Método=RevPAR_ADR_tasa<br>origen=Valencia<br>year=%{x}<br>RevPAR (€)=%{y}<extra></extra>",
         "legendgroup": "RevPAR_ADR_tasa",
         "marker": {
          "color": "#EF553B",
          "pattern": {
           "shape": ""
          }
         },
         "name": "RevPAR_ADR_tasa",
         "offsetgroup": "RevPAR_ADR_tasa",
         "orientation": "v",
         "showlegend": false,
         "textposition": "auto",
         "type": "bar",
         "x": {
          "bdata": "2gcAANsHAADcBwAA3QcAAN4HAADfBwAA4AcAAOEHAADiBwAA4wcAAOQHAADlBwAA5gcAAOcHAADoBwAA6QcAAA==",
          "dtype": "i4"
         },
         "xaxis": "x3",
         "y": {
          "bdata": "zbtSn73l5z9b4W9mkWDnP+QcrU8Ib+4/0T5JBwAK5T83HBPD3M/jP8SQ2ryDbeM/UU0GVzsd5T/DRZ/D42rlP83ruMsxweU/HOFH7qkA5j9JtwISPoPlP5Kpvifg2+Y/IJ7YU/T25j8yE2r4FLDlP+4qauoyZOc/kRpNZMX45T8=",
          "dtype": "f8"
         },
         "yaxis": "y3"
        }
       ],
       "layout": {
        "annotations": [
         {
          "font": {},
          "showarrow": false,
          "text": "origen=Mallorca",
          "x": 0.15999999999999998,
          "xanchor": "center",
          "xref": "paper",
          "y": 1,
          "yanchor": "bottom",
          "yref": "paper"
         },
         {
          "font": {},
          "showarrow": false,
          "text": "origen=Málaga",
          "x": 0.49999999999999994,
          "xanchor": "center",
          "xref": "paper",
          "y": 1,
          "yanchor": "bottom",
          "yref": "paper"
         },
         {
          "font": {},
          "showarrow": false,
          "text": "origen=Valencia",
          "x": 0.8399999999999999,
          "xanchor": "center",
          "xref": "paper",
          "y": 1,
          "yanchor": "bottom",
          "yref": "paper"
         }
        ],
        "barmode": "group",
        "height": 800,
        "legend": {
         "title": {
          "text": "Método"
         },
         "tracegroupgap": 0
        },
        "showlegend": true,
        "template": {
         "data": {
          "bar": [
           {
            "error_x": {
             "color": "#2a3f5f"
            },
            "error_y": {
             "color": "#2a3f5f"
            },
            "marker": {
             "line": {
              "color": "#E5ECF6",
              "width": 0.5
             },
             "pattern": {
              "fillmode": "overlay",
              "size": 10,
              "solidity": 0.2
             }
            },
            "type": "bar"
           }
          ],
          "barpolar": [
           {
            "marker": {
             "line": {
              "color": "#E5ECF6",
              "width": 0.5
             },
             "pattern": {
              "fillmode": "overlay",
              "size": 10,
              "solidity": 0.2
             }
            },
            "type": "barpolar"
           }
          ],
          "carpet": [
           {
            "aaxis": {
             "endlinecolor": "#2a3f5f",
             "gridcolor": "white",
             "linecolor": "white",
             "minorgridcolor": "white",
             "startlinecolor": "#2a3f5f"
            },
            "baxis": {
             "endlinecolor": "#2a3f5f",
             "gridcolor": "white",
             "linecolor": "white",
             "minorgridcolor": "white",
             "startlinecolor": "#2a3f5f"
            },
            "type": "carpet"
           }
          ],
          "choropleth": [
           {
            "colorbar": {
             "outlinewidth": 0,
             "ticks": ""
            },
            "type": "choropleth"
           }
          ],
          "contour": [
           {
            "colorbar": {
             "outlinewidth": 0,
             "ticks": ""
            },
            "colorscale": [
             [
              0,
              "#0d0887"
             ],
             [
              0.1111111111111111,
              "#46039f"
             ],
             [
              0.2222222222222222,
              "#7201a8"
             ],
             [
              0.3333333333333333,
              "#9c179e"
             ],
             [
              0.4444444444444444,
              "#bd3786"
             ],
             [
              0.5555555555555556,
              "#d8576b"
             ],
             [
              0.6666666666666666,
              "#ed7953"
             ],
             [
              0.7777777777777778,
              "#fb9f3a"
             ],
             [
              0.8888888888888888,
              "#fdca26"
             ],
             [
              1,
              "#f0f921"
             ]
            ],
            "type": "contour"
           }
          ],
          "contourcarpet": [
           {
            "colorbar": {
             "outlinewidth": 0,
             "ticks": ""
            },
            "type": "contourcarpet"
           }
          ],
          "heatmap": [
           {
            "colorbar": {
             "outlinewidth": 0,
             "ticks": ""
            },
            "colorscale": [
             [
              0,
              "#0d0887"
             ],
             [
              0.1111111111111111,
              "#46039f"
             ],
             [
              0.2222222222222222,
              "#7201a8"
             ],
             [
              0.3333333333333333,
              "#9c179e"
             ],
             [
              0.4444444444444444,
              "#bd3786"
             ],
             [
              0.5555555555555556,
              "#d8576b"
             ],
             [
              0.6666666666666666,
              "#ed7953"
             ],
             [
              0.7777777777777778,
              "#fb9f3a"
             ],
             [
              0.8888888888888888,
              "#fdca26"
             ],
             [
              1,
              "#f0f921"
             ]
            ],
            "type": "heatmap"
           }
          ],
          "histogram": [
           {
            "marker": {
             "pattern": {
              "fillmode": "overlay",
              "size": 10,
              "solidity": 0.2
             }
            },
            "type": "histogram"
           }
          ],
          "histogram2d": [
           {
            "colorbar": {
             "outlinewidth": 0,
             "ticks": ""
            },
            "colorscale": [
             [
              0,
              "#0d0887"
             ],
             [
              0.1111111111111111,
              "#46039f"
             ],
             [
              0.2222222222222222,
              "#7201a8"
             ],
             [
              0.3333333333333333,
              "#9c179e"
             ],
             [
              0.4444444444444444,
              "#bd3786"
             ],
             [
              0.5555555555555556,
              "#d8576b"
             ],
             [
              0.6666666666666666,
              "#ed7953"
             ],
             [
              0.7777777777777778,
              "#fb9f3a"
             ],
             [
              0.8888888888888888,
              "#fdca26"
             ],
             [
              1,
              "#f0f921"
             ]
            ],
            "type": "histogram2d"
           }
          ],
          "histogram2dcontour": [
           {
            "colorbar": {
             "outlinewidth": 0,
             "ticks": ""
            },
            "colorscale": [
             [
              0,
              "#0d0887"
             ],
             [
              0.1111111111111111,
              "#46039f"
             ],
             [
              0.2222222222222222,
              "#7201a8"
             ],
             [
              0.3333333333333333,
              "#9c179e"
             ],
             [
              0.4444444444444444,
              "#bd3786"
             ],
             [
              0.5555555555555556,
              "#d8576b"
             ],
             [
              0.6666666666666666,
              "#ed7953"
             ],
             [
              0.7777777777777778,
              "#fb9f3a"
             ],
             [
              0.8888888888888888,
              "#fdca26"
             ],
             [
              1,
              "#f0f921"
             ]
            ],
            "type": "histogram2dcontour"
           }
          ],
          "mesh3d": [
           {
            "colorbar": {
             "outlinewidth": 0,
             "ticks": ""
            },
            "type": "mesh3d"
           }
          ],
          "parcoords": [
           {
            "line": {
             "colorbar": {
              "outlinewidth": 0,
              "ticks": ""
             }
            },
            "type": "parcoords"
           }
          ],
          "pie": [
           {
            "automargin": true,
            "type": "pie"
           }
          ],
          "scatter": [
           {
            "fillpattern": {
             "fillmode": "overlay",
             "size": 10,
             "solidity": 0.2
            },
            "type": "scatter"
           }
          ],
          "scatter3d": [
           {
            "line": {
             "colorbar": {
              "outlinewidth": 0,
              "ticks": ""
             }
            },
            "marker": {
             "colorbar": {
              "outlinewidth": 0,
              "ticks": ""
             }
            },
            "type": "scatter3d"
           }
          ],
          "scattercarpet": [
           {
            "marker": {
             "colorbar": {
              "outlinewidth": 0,
              "ticks": ""
             }
            },
            "type": "scattercarpet"
           }
          ],
          "scattergeo": [
           {
            "marker": {
             "colorbar": {
              "outlinewidth": 0,
              "ticks": ""
             }
            },
            "type": "scattergeo"
           }
          ],
          "scattergl": [
           {
            "marker": {
             "colorbar": {
              "outlinewidth": 0,
              "ticks": ""
             }
            },
            "type": "scattergl"
           }
          ],
          "scattermap": [
           {
            "marker": {
             "colorbar": {
              "outlinewidth": 0,
              "ticks": ""
             }
            },
            "type": "scattermap"
           }
          ],
          "scattermapbox": [
           {
            "marker": {
             "colorbar": {
              "outlinewidth": 0,
              "ticks": ""
             }
            },
            "type": "scattermapbox"
           }
          ],
          "scatterpolar": [
           {
            "marker": {
             "colorbar": {
              "outlinewidth": 0,
              "ticks": ""
             }
            },
            "type": "scatterpolar"
           }
          ],
          "scatterpolargl": [
           {
            "marker": {
             "colorbar": {
              "outlinewidth": 0,
              "ticks": ""
             }
            },
            "type": "scatterpolargl"
           }
          ],
          "scatterternary": [
           {
            "marker": {
             "colorbar": {
              "outlinewidth": 0,
              "ticks": ""
             }
            },
            "type": "scatterternary"
           }
          ],
          "surface": [
           {
            "colorbar": {
             "outlinewidth": 0,
             "ticks": ""
            },
            "colorscale": [
             [
              0,
              "#0d0887"
             ],
             [
              0.1111111111111111,
              "#46039f"
             ],
             [
              0.2222222222222222,
              "#7201a8"
             ],
             [
              0.3333333333333333,
              "#9c179e"
             ],
             [
              0.4444444444444444,
              "#bd3786"
             ],
             [
              0.5555555555555556,
              "#d8576b"
             ],
             [
              0.6666666666666666,
              "#ed7953"
             ],
             [
              0.7777777777777778,
              "#fb9f3a"
             ],
             [
              0.8888888888888888,
              "#fdca26"
             ],
             [
              1,
              "#f0f921"
             ]
            ],
            "type": "surface"
           }
          ],
          "table": [
           {
            "cells": {
             "fill": {
              "color": "#EBF0F8"
             },
             "line": {
              "color": "white"
             }
            },
            "header": {
             "fill": {
              "color": "#C8D4E3"
             },
             "line": {
              "color": "white"
             }
            },
            "type": "table"
           }
          ]
         },
         "layout": {
          "annotationdefaults": {
           "arrowcolor": "#2a3f5f",
           "arrowhead": 0,
           "arrowwidth": 1
          },
          "autotypenumbers": "strict",
          "coloraxis": {
           "colorbar": {
            "outlinewidth": 0,
            "ticks": ""
           }
          },
          "colorscale": {
           "diverging": [
            [
             0,
             "#8e0152"
            ],
            [
             0.1,
             "#c51b7d"
            ],
            [
             0.2,
             "#de77ae"
            ],
            [
             0.3,
             "#f1b6da"
            ],
            [
             0.4,
             "#fde0ef"
            ],
            [
             0.5,
             "#f7f7f7"
            ],
            [
             0.6,
             "#e6f5d0"
            ],
            [
             0.7,
             "#b8e186"
            ],
            [
             0.8,
             "#7fbc41"
            ],
            [
             0.9,
             "#4d9221"
            ],
            [
             1,
             "#276419"
            ]
           ],
           "sequential": [
            [
             0,
             "#0d0887"
            ],
            [
             0.1111111111111111,
             "#46039f"
            ],
            [
             0.2222222222222222,
             "#7201a8"
            ],
            [
             0.3333333333333333,
             "#9c179e"
            ],
            [
             0.4444444444444444,
             "#bd3786"
            ],
            [
             0.5555555555555556,
             "#d8576b"
            ],
            [
             0.6666666666666666,
             "#ed7953"
            ],
            [
             0.7777777777777778,
             "#fb9f3a"
            ],
            [
             0.8888888888888888,
             "#fdca26"
            ],
            [
             1,
             "#f0f921"
            ]
           ],
           "sequentialminus": [
            [
             0,
             "#0d0887"
            ],
            [
             0.1111111111111111,
             "#46039f"
            ],
            [
             0.2222222222222222,
             "#7201a8"
            ],
            [
             0.3333333333333333,
             "#9c179e"
            ],
            [
             0.4444444444444444,
             "#bd3786"
            ],
            [
             0.5555555555555556,
             "#d8576b"
            ],
            [
             0.6666666666666666,
             "#ed7953"
            ],
            [
             0.7777777777777778,
             "#fb9f3a"
            ],
            [
             0.8888888888888888,
             "#fdca26"
            ],
            [
             1,
             "#f0f921"
            ]
           ]
          },
          "colorway": [
           "#636efa",
           "#EF553B",
           "#00cc96",
           "#ab63fa",
           "#FFA15A",
           "#19d3f3",
           "#FF6692",
           "#B6E880",
           "#FF97FF",
           "#FECB52"
          ],
          "font": {
           "color": "#2a3f5f"
          },
          "geo": {
           "bgcolor": "white",
           "lakecolor": "white",
           "landcolor": "#E5ECF6",
           "showlakes": true,
           "showland": true,
           "subunitcolor": "white"
          },
          "hoverlabel": {
           "align": "left"
          },
          "hovermode": "closest",
          "mapbox": {
           "style": "light"
          },
          "paper_bgcolor": "white",
          "plot_bgcolor": "#E5ECF6",
          "polar": {
           "angularaxis": {
            "gridcolor": "white",
            "linecolor": "white",
            "ticks": ""
           },
           "bgcolor": "#E5ECF6",
           "radialaxis": {
            "gridcolor": "white",
            "linecolor": "white",
            "ticks": ""
           }
          },
          "scene": {
           "xaxis": {
            "backgroundcolor": "#E5ECF6",
            "gridcolor": "white",
            "gridwidth": 2,
            "linecolor": "white",
            "showbackground": true,
            "ticks": "",
            "zerolinecolor": "white"
           },
           "yaxis": {
            "backgroundcolor": "#E5ECF6",
            "gridcolor": "white",
            "gridwidth": 2,
            "linecolor": "white",
            "showbackground": true,
            "ticks": "",
            "zerolinecolor": "white"
           },
           "zaxis": {
            "backgroundcolor": "#E5ECF6",
            "gridcolor": "white",
            "gridwidth": 2,
            "linecolor": "white",
            "showbackground": true,
            "ticks": "",
            "zerolinecolor": "white"
           }
          },
          "shapedefaults": {
           "line": {
            "color": "#2a3f5f"
           }
          },
          "ternary": {
           "aaxis": {
            "gridcolor": "white",
            "linecolor": "white",
            "ticks": ""
           },
           "baxis": {
            "gridcolor": "white",
            "linecolor": "white",
            "ticks": ""
           },
           "bgcolor": "#E5ECF6",
           "caxis": {
            "gridcolor": "white",
            "linecolor": "white",
            "ticks": ""
           }
          },
          "title": {
           "x": 0.05
          },
          "xaxis": {
           "automargin": true,
           "gridcolor": "white",
           "linecolor": "white",
           "ticks": "",
           "title": {
            "standoff": 15
           },
           "zerolinecolor": "white",
           "zerolinewidth": 2
          },
          "yaxis": {
           "automargin": true,
           "gridcolor": "white",
           "linecolor": "white",
           "ticks": "",
           "title": {
            "standoff": 15
           },
           "zerolinecolor": "white",
           "zerolinewidth": 2
          }
         }
        },
        "title": {
         "text": "Comparación de RevPAR por Año y Origen (Directo vs ADR × Ocupación)"
        },
        "xaxis": {
         "anchor": "y",
         "domain": [
          0,
          0.31999999999999995
         ],
         "title": {
          "text": "year"
         }
        },
        "xaxis2": {
         "anchor": "y2",
         "domain": [
          0.33999999999999997,
          0.6599999999999999
         ],
         "matches": "x",
         "title": {
          "text": "year"
         }
        },
        "xaxis3": {
         "anchor": "y3",
         "domain": [
          0.6799999999999999,
          0.9999999999999999
         ],
         "matches": "x",
         "title": {
          "text": "year"
         }
        },
        "yaxis": {
         "anchor": "x",
         "domain": [
          0,
          1
         ],
         "title": {
          "text": "RevPAR (€)"
         }
        },
        "yaxis2": {
         "anchor": "x2",
         "domain": [
          0,
          1
         ],
         "matches": "y",
         "showticklabels": false
        },
        "yaxis3": {
         "anchor": "x3",
         "domain": [
          0,
          1
         ],
         "matches": "y",
         "showticklabels": false
        }
       }
      }
     },
     "metadata": {},
     "output_type": "display_data"
    }
   ],
   "source": [
    "# Visualización\n",
    "fig = px.bar(\n",
    "    revpar_comparado.melt(id_vars=['origen', 'year'], \n",
    "                          value_vars=['RevPAR_directo', 'RevPAR_ADR_tasa'], \n",
    "                          var_name='Método', value_name='RevPAR (€)'),\n",
    "    x='year', y='RevPAR (€)', color='Método', barmode='group',\n",
    "    facet_col='origen', facet_col_wrap=3,\n",
    "    title='Comparación de RevPAR por Año y Origen (Directo vs ADR × Ocupación)'\n",
    ")\n",
    "fig.update_layout(height=800, showlegend=True)\n",
    "fig.show()"
   ]
  },
  {
   "cell_type": "markdown",
   "id": "ec1c8afd",
   "metadata": {},
   "source": [
    "# calificaciones promedio"
   ]
  },
  {
   "cell_type": "code",
   "execution_count": 55,
   "id": "a0346a23",
   "metadata": {},
   "outputs": [],
   "source": [
    "# Configuración de estilo\n",
    "plt.style.use('seaborn-v0_8')\n",
    "sns.set_palette(\"husl\")\n",
    "\n",
    "def analizar_calificaciones_alojamientos(df_ult_por_listado):\n",
    "    \"\"\"\n",
    "    Analiza las calificaciones promedio de los alojamientos de manera eficiente\n",
    "    \"\"\"\n",
    "    \n",
    "    # Crear una copia para trabajar sin modificar el original\n",
    "    df = df_ult_por_listado.copy()\n",
    "    \n",
    "    # Columnas de calificaciones\n",
    "    columnas_calificaciones = [\n",
    "        'review_scores_rating',\n",
    "        'review_scores_accuracy', \n",
    "        'review_scores_cleanliness',\n",
    "        'review_scores_checkin',\n",
    "        'review_scores_communication',\n",
    "        'review_scores_location',\n",
    "        'review_scores_value'\n",
    "    ]\n",
    "    \n",
    "    # Verificar qué columnas existen realmente\n",
    "    columnas_existentes = [col for col in columnas_calificaciones if col in df.columns]\n",
    "    \n",
    "    if not columnas_existentes:\n",
    "        print(\"⚠️ No se encontraron columnas de calificaciones\")\n",
    "        return None, None\n",
    "    \n",
    "    # Filtrar solo alojamientos con calificaciones\n",
    "    df_con_calificaciones = df[df[columnas_existentes].notna().any(axis=1)].copy()\n",
    "    \n",
    "    print(f\"📊 Analizando {len(df_con_calificaciones)} alojamientos con calificaciones\")\n",
    "    print(f\"📋 Columnas de calificación encontradas: {len(columnas_existentes)}\")\n",
    "    \n",
    "    # Calcular estadísticas por alojamiento\n",
    "    resultados = []\n",
    "    \n",
    "    for idx, row in df_con_calificaciones.iterrows():\n",
    "        # Calificaciones del alojamiento actual\n",
    "        calificaciones = row[columnas_existentes].dropna()\n",
    "        \n",
    "        if len(calificaciones) > 0:\n",
    "            resultado = {\n",
    "                'listing_id': row.get('listing_id', idx),\n",
    "                'name': row.get('name', f'Alojamiento {idx}'),\n",
    "                'property_type': row.get('property_type', 'No especificado'),\n",
    "                'neighbourhood': row.get('neighbourhood', 'No especificado'),\n",
    "                'number_of_reviews': row.get('number_of_reviews', 0),\n",
    "                'calificacion_promedio': calificaciones.mean(),\n",
    "                'calificacion_general': row.get('review_scores_rating', np.nan),\n",
    "                'num_categorias_calificadas': len(calificaciones),\n",
    "                'calificacion_minima': calificaciones.min(),\n",
    "                'calificacion_maxima': calificaciones.max(),\n",
    "                'desviacion_std': calificaciones.std() if len(calificaciones) > 1 else 0,\n",
    "            }\n",
    "            \n",
    "            # Agregar columna de noches ocupadas si existe\n",
    "            if 'noches_ocupadas' in df.columns:\n",
    "                resultado['noches_ocupadas'] = row.get('noches_ocupadas', 0)\n",
    "            elif 'availability_365' in df.columns:\n",
    "                resultado['noches_ocupadas'] = 365 - row.get('availability_365', 365)\n",
    "            else:\n",
    "                resultado['noches_ocupadas'] = 0\n",
    "                \n",
    "            # Calcular categoría de calificación\n",
    "            if resultado['calificacion_promedio'] >= 4.8:\n",
    "                resultado['categoria'] = 'Excelente'\n",
    "            elif resultado['calificacion_promedio'] >= 4.5:\n",
    "                resultado['categoria'] = 'Muy Bueno'\n",
    "            elif resultado['calificacion_promedio'] >= 4.0:\n",
    "                resultado['categoria'] = 'Bueno'\n",
    "            elif resultado['calificacion_promedio'] >= 3.5:\n",
    "                resultado['categoria'] = 'Regular'\n",
    "            else:\n",
    "                resultado['categoria'] = 'Necesita Mejoras'\n",
    "            \n",
    "            resultados.append(resultado)\n",
    "    \n",
    "    # Crear DataFrame con resultados\n",
    "    df_resultados = pd.DataFrame(resultados)\n",
    "    \n",
    "    if df_resultados.empty:\n",
    "        print(\"⚠️ No se pudieron calcular calificaciones\")\n",
    "        return None, None\n",
    "    \n",
    "    # Ordenar por calificación promedio\n",
    "    df_resultados = df_resultados.sort_values('calificacion_promedio', ascending=False)\n",
    "    \n",
    "    # Estadísticas generales\n",
    "    stats_generales = {\n",
    "        'total_alojamientos': len(df_resultados),\n",
    "        'calificacion_promedio_general': df_resultados['calificacion_promedio'].mean(),\n",
    "        'mediana_calificaciones': df_resultados['calificacion_promedio'].median(),\n",
    "        'desviacion_std_general': df_resultados['calificacion_promedio'].std(),\n",
    "        'mejor_calificacion': df_resultados['calificacion_promedio'].max(),\n",
    "        'peor_calificacion': df_resultados['calificacion_promedio'].min(),\n",
    "    }\n",
    "    \n",
    "    return df_resultados, stats_generales\n",
    "\n",
    "def mostrar_tabla_resultados(df_resultados, stats_generales, top_n=20):\n",
    "    \"\"\"\n",
    "    Muestra tabla con los resultados de manera elegante\n",
    "    \"\"\"\n",
    "    if df_resultados is None:\n",
    "        return\n",
    "    \n",
    "    print(\"\\n\" + \"=\"*80)\n",
    "    print(\"🏆 ANÁLISIS DE CALIFICACIONES DE ALOJAMIENTOS\")\n",
    "    print(\"=\"*80)\n",
    "    \n",
    "    # Estadísticas generales\n",
    "    print(f\"\\n📈 ESTADÍSTICAS GENERALES:\")\n",
    "    print(f\"   • Total de alojamientos analizados: {stats_generales['total_alojamientos']:,}\")\n",
    "    print(f\"   • Calificación promedio general: {stats_generales['calificacion_promedio_general']:.2f}\")\n",
    "    print(f\"   • Mediana de calificaciones: {stats_generales['mediana_calificaciones']:.2f}\")\n",
    "    print(f\"   • Desviación estándar: {stats_generales['desviacion_std_general']:.2f}\")\n",
    "    print(f\"   • Mejor calificación: {stats_generales['mejor_calificacion']:.2f}\")\n",
    "    print(f\"   • Peor calificación: {stats_generales['peor_calificacion']:.2f}\")\n",
    "    \n",
    "    # Distribución por categorías\n",
    "    print(f\"\\n🎯 DISTRIBUCIÓN POR CATEGORÍAS:\")\n",
    "    distribucion = df_resultados['categoria'].value_counts()\n",
    "    for categoria, cantidad in distribucion.items():\n",
    "        porcentaje = (cantidad / len(df_resultados)) * 100\n",
    "        print(f\"   • {categoria}: {cantidad} ({porcentaje:.1f}%)\")\n",
    "    \n",
    "    # Top alojamientos\n",
    "    print(f\"\\n🥇 TOP {top_n} ALOJAMIENTOS MEJOR CALIFICADOS:\")\n",
    "    print(\"-\" * 80)\n",
    "    \n",
    "    # Crear tabla formateada\n",
    "    tabla_top = df_resultados.head(top_n)[['name', 'property_type', 'neighbourhood', \n",
    "                                          'calificacion_promedio', 'number_of_reviews', \n",
    "                                          'noches_ocupadas', 'categoria']].copy()\n",
    "    \n",
    "    # Truncar nombres largos\n",
    "    tabla_top['name'] = tabla_top['name'].apply(lambda x: x[:30] + '...' if len(str(x)) > 30 else x)\n",
    "    tabla_top['neighbourhood'] = tabla_top['neighbourhood'].apply(lambda x: x[:15] + '...' if len(str(x)) > 15 else x)\n",
    "    \n",
    "    # Renombrar columnas para mostrar\n",
    "    tabla_top.columns = ['Nombre', 'Tipo', 'Barrio', 'Calif. Prom.', 'Reseñas', 'Noches Ocup.', 'Categoría']\n",
    "    \n",
    "    print(tabla_top.to_string(index=False, float_format='%.2f'))\n",
    "    \n",
    "    return tabla_top\n",
    "\n",
    "def crear_visualizaciones(df_resultados, stats_generales):\n",
    "    \"\"\"\n",
    "    Crea visualizaciones creativas y originales\n",
    "    \"\"\"\n",
    "    if df_resultados is None:\n",
    "        return\n",
    "    \n",
    "    # Configurar el estilo y tamaño\n",
    "    fig = plt.figure(figsize=(20, 16))\n",
    "    gs = fig.add_gridspec(4, 3, hspace=0.3, wspace=0.3)\n",
    "    \n",
    "    # Paleta de colores personalizada\n",
    "    colores_categoria = {\n",
    "        'Excelente': '#2E8B57',      # Verde oscuro\n",
    "        'Muy Bueno': '#32CD32',      # Verde lima\n",
    "        'Bueno': '#FFD700',          # Dorado\n",
    "        'Regular': '#FF8C00',        # Naranja oscuro\n",
    "        'Necesita Mejoras': '#DC143C' # Rojo carmesí\n",
    "    }\n",
    "    \n",
    "    # 1. Distribución de calificaciones (Histograma con curva de densidad)\n",
    "    ax1 = fig.add_subplot(gs[0, :2])\n",
    "    \n",
    "    # Histograma\n",
    "    n, bins, patches = ax1.hist(df_resultados['calificacion_promedio'], bins=30, \n",
    "                               alpha=0.7, color='skyblue', edgecolor='black', linewidth=0.5)\n",
    "    \n",
    "    # Colorear barras según valor\n",
    "    for i, p in enumerate(patches):\n",
    "        valor = (bins[i] + bins[i+1]) / 2\n",
    "        if valor >= 4.8:\n",
    "            p.set_facecolor('#2E8B57')\n",
    "        elif valor >= 4.5:\n",
    "            p.set_facecolor('#32CD32')\n",
    "        elif valor >= 4.0:\n",
    "            p.set_facecolor('#FFD700')\n",
    "        elif valor >= 3.5:\n",
    "            p.set_facecolor('#FF8C00')\n",
    "        else:\n",
    "            p.set_facecolor('#DC143C')\n",
    "    \n",
    "    # Línea de promedio\n",
    "    ax1.axvline(stats_generales['calificacion_promedio_general'], color='red', \n",
    "                linestyle='--', linewidth=2, label=f'Promedio: {stats_generales[\"calificacion_promedio_general\"]:.2f}')\n",
    "    \n",
    "    ax1.set_title('📊 Distribución de Calificaciones Promedio', fontsize=14, fontweight='bold')\n",
    "    ax1.set_xlabel('Calificación Promedio')\n",
    "    ax1.set_ylabel('Frecuencia')\n",
    "    ax1.legend()\n",
    "    ax1.grid(True, alpha=0.3)\n",
    "    \n",
    "    # 2. Pie chart de categorías\n",
    "    ax2 = fig.add_subplot(gs[0, 2])\n",
    "    distribucion = df_resultados['categoria'].value_counts()\n",
    "    \n",
    "    colors = [colores_categoria[cat] for cat in distribucion.index]\n",
    "    wedges, texts, autotexts = ax2.pie(distribucion.values, labels=distribucion.index, \n",
    "                                      autopct='%1.1f%%', colors=colors, startangle=90,\n",
    "                                      textprops={'fontsize': 9})\n",
    "    \n",
    "    ax2.set_title('🎯 Distribución por Categorías', fontsize=14, fontweight='bold')\n",
    "    \n",
    "    # 3. Scatter plot: Calificación vs Número de reseñas\n",
    "    ax3 = fig.add_subplot(gs[1, :2])\n",
    "    \n",
    "    scatter = ax3.scatter(df_resultados['number_of_reviews'], \n",
    "                         df_resultados['calificacion_promedio'],\n",
    "                         c=df_resultados['noches_ocupadas'], \n",
    "                         cmap='viridis', alpha=0.6, s=50)\n",
    "    \n",
    "    # Añadir línea de tendencia\n",
    "    z = np.polyfit(df_resultados['number_of_reviews'], df_resultados['calificacion_promedio'], 1)\n",
    "    p = np.poly1d(z)\n",
    "    ax3.plot(df_resultados['number_of_reviews'], p(df_resultados['number_of_reviews']), \n",
    "             \"r--\", alpha=0.8, linewidth=2)\n",
    "    \n",
    "    ax3.set_xlabel('Número de Reseñas')\n",
    "    ax3.set_ylabel('Calificación Promedio')\n",
    "    ax3.set_title('🔍 Relación: Calificaciones vs Reseñas\\n(Color = Noches Ocupadas)', \n",
    "                  fontsize=14, fontweight='bold')\n",
    "    ax3.grid(True, alpha=0.3)\n",
    "    \n",
    "    # Colorbar\n",
    "    cbar = plt.colorbar(scatter, ax=ax3, shrink=0.8)\n",
    "    cbar.set_label('Noches Ocupadas', rotation=270, labelpad=15)\n",
    "    \n",
    "    # 4. Box plot por tipo de propiedad\n",
    "    ax4 = fig.add_subplot(gs[1, 2])\n",
    "    \n",
    "    # Obtener los tipos más comunes\n",
    "    tipos_comunes = df_resultados['property_type'].value_counts().head(5).index\n",
    "    df_tipos = df_resultados[df_resultados['property_type'].isin(tipos_comunes)]\n",
    "    \n",
    "    if not df_tipos.empty:\n",
    "        box_plot = ax4.boxplot([df_tipos[df_tipos['property_type'] == tipo]['calificacion_promedio'].values \n",
    "                               for tipo in tipos_comunes], \n",
    "                              labels=[tipo[:10] + '...' if len(tipo) > 10 else tipo for tipo in tipos_comunes],\n",
    "                              patch_artist=True)\n",
    "        \n",
    "        # Colorear cajas\n",
    "        colors = plt.cm.Set3(np.linspace(0, 1, len(box_plot['boxes'])))\n",
    "        for patch, color in zip(box_plot['boxes'], colors):\n",
    "            patch.set_facecolor(color)\n",
    "        \n",
    "        ax4.set_title('📦 Calificaciones por Tipo de Propiedad', fontsize=12, fontweight='bold')\n",
    "        ax4.set_ylabel('Calificación Promedio')\n",
    "        ax4.tick_params(axis='x', rotation=45)\n",
    "    \n",
    "    # 5. Heatmap de correlaciones\n",
    "    ax5 = fig.add_subplot(gs[2, :])\n",
    "    \n",
    "    # Seleccionar columnas numéricas para correlación\n",
    "    cols_numericas = ['calificacion_promedio', 'number_of_reviews', 'noches_ocupadas', \n",
    "                     'num_categorias_calificadas', 'desviacion_std']\n",
    "    \n",
    "    matriz_corr = df_resultados[cols_numericas].corr()\n",
    "    \n",
    "    # Crear heatmap personalizado\n",
    "    im = ax5.imshow(matriz_corr, cmap='RdYlBu_r', aspect='auto', vmin=-1, vmax=1)\n",
    "    \n",
    "    # Añadir etiquetas\n",
    "    ax5.set_xticks(range(len(cols_numericas)))\n",
    "    ax5.set_yticks(range(len(cols_numericas)))\n",
    "    ax5.set_xticklabels([col.replace('_', ' ').title() for col in cols_numericas], rotation=45)\n",
    "    ax5.set_yticklabels([col.replace('_', ' ').title() for col in cols_numericas])\n",
    "    \n",
    "    # Añadir valores en las celdas\n",
    "    for i in range(len(cols_numericas)):\n",
    "        for j in range(len(cols_numericas)):\n",
    "            text = ax5.text(j, i, f'{matriz_corr.iloc[i, j]:.2f}',\n",
    "                           ha=\"center\", va=\"center\", color=\"black\", fontweight='bold')\n",
    "    \n",
    "    ax5.set_title('🔥 Matriz de Correlaciones', fontsize=14, fontweight='bold')\n",
    "    \n",
    "    # Colorbar para heatmap\n",
    "    cbar2 = plt.colorbar(im, ax=ax5, shrink=0.8)\n",
    "    cbar2.set_label('Correlación', rotation=270, labelpad=15)\n",
    "    \n",
    "    # 6. Top 10 alojamientos (Barras horizontales)\n",
    "    ax6 = fig.add_subplot(gs[3, :])\n",
    "    \n",
    "    top_10 = df_resultados.head(10)\n",
    "    nombres_cortos = [nombre[:25] + '...' if len(nombre) > 25 else nombre \n",
    "                     for nombre in top_10['name']]\n",
    "    \n",
    "    # Crear barras con gradiente de colores\n",
    "    bars = ax6.barh(range(len(top_10)), top_10['calificacion_promedio'], \n",
    "                    color=[colores_categoria[cat] for cat in top_10['categoria']])\n",
    "    \n",
    "    # Añadir valores en las barras\n",
    "    for i, (bar, valor) in enumerate(zip(bars, top_10['calificacion_promedio'])):\n",
    "        ax6.text(valor + 0.01, bar.get_y() + bar.get_height()/2, \n",
    "                f'{valor:.2f}', va='center', fontweight='bold')\n",
    "    \n",
    "    ax6.set_yticks(range(len(top_10)))\n",
    "    ax6.set_yticklabels(nombres_cortos)\n",
    "    ax6.set_xlabel('Calificación Promedio')\n",
    "    ax6.set_title('🏆 Top 10 Alojamientos Mejor Calificados', fontsize=14, fontweight='bold')\n",
    "    ax6.grid(True, axis='x', alpha=0.3)\n",
    "    \n",
    "    # Invertir orden para que el mejor esté arriba\n",
    "    ax6.invert_yaxis()\n",
    "    \n",
    "    # Título general\n",
    "    fig.suptitle('🏠 ANÁLISIS COMPLETO DE CALIFICACIONES DE ALOJAMIENTOS', \n",
    "                 fontsize=20, fontweight='bold', y=0.98)\n",
    "    \n",
    "    plt.tight_layout()\n",
    "    plt.show()\n",
    "    \n",
    "    # Mostrar insights\n",
    "    print(\"\\n\" + \"=\"*80)\n",
    "    print(\"💡 INSIGHTS CLAVE:\")\n",
    "    print(\"=\"*80)\n",
    "    \n",
    "    correlacion_reviews = df_resultados[['calificacion_promedio', 'number_of_reviews']].corr().iloc[0,1]\n",
    "    correlacion_ocupacion = df_resultados[['calificacion_promedio', 'noches_ocupadas']].corr().iloc[0,1]\n",
    "    \n",
    "    print(f\"📊 Correlación calificación-reseñas: {correlacion_reviews:.3f}\")\n",
    "    print(f\"🏠 Correlación calificación-ocupación: {correlacion_ocupacion:.3f}\")\n",
    "    print(f\"🎯 Categoría más común: {df_resultados['categoria'].mode()[0]}\")\n",
    "    print(f\"🏆 Mejor tipo de propiedad (promedio): {df_resultados.groupby('property_type')['calificacion_promedio'].mean().idxmax()}\")\n",
    "    \n",
    "    return fig\n",
    "\n",
    "# Función principal\n",
    "def ejecutar_analisis_completo(df_ult_por_listado):\n",
    "    \"\"\"\n",
    "    Ejecuta el análisis completo de calificaciones\n",
    "    \"\"\"\n",
    "    print(\"🚀 Iniciando análisis de calificaciones de alojamientos...\")\n",
    "    \n",
    "    # Realizar análisis\n",
    "    df_resultados, stats_generales = analizar_calificaciones_alojamientos(df_ult_por_listado)\n",
    "    \n",
    "    if df_resultados is not None:\n",
    "        # Mostrar tabla de resultados\n",
    "        tabla_top = mostrar_tabla_resultados(df_resultados, stats_generales)\n",
    "        \n",
    "        # Crear visualizaciones\n",
    "        fig = crear_visualizaciones(df_resultados, stats_generales)\n",
    "        \n",
    "        print(f\"\\n✅ Análisis completado exitosamente!\")\n",
    "        print(f\"📈 Se analizaron {len(df_resultados)} alojamientos\")\n",
    "        \n",
    "        return df_resultados, stats_generales, tabla_top\n",
    "    else:\n",
    "        print(\"❌ No se pudo completar el análisis\")\n",
    "        return None, None, None\n"
   ]
  },
  {
   "cell_type": "code",
   "execution_count": 56,
   "id": "cee1fade",
   "metadata": {},
   "outputs": [
    {
     "name": "stdout",
     "output_type": "stream",
     "text": [
      "🚀 Iniciando análisis de calificaciones de alojamientos...\n",
      "📊 Analizando 93814 alojamientos con calificaciones\n",
      "📋 Columnas de calificación encontradas: 7\n",
      "\n",
      "================================================================================\n",
      "🏆 ANÁLISIS DE CALIFICACIONES DE ALOJAMIENTOS\n",
      "================================================================================\n",
      "\n",
      "📈 ESTADÍSTICAS GENERALES:\n",
      "   • Total de alojamientos analizados: 93,814\n",
      "   • Calificación promedio general: 4.74\n",
      "   • Mediana de calificaciones: 4.79\n",
      "   • Desviación estándar: 0.23\n",
      "   • Mejor calificación: 5.00\n",
      "   • Peor calificación: 1.00\n",
      "\n",
      "🎯 DISTRIBUCIÓN POR CATEGORÍAS:\n",
      "   • Excelente: 44430 (47.4%)\n",
      "   • Muy Bueno: 40077 (42.7%)\n",
      "   • Bueno: 8116 (8.7%)\n",
      "   • Regular: 844 (0.9%)\n",
      "   • Necesita Mejoras: 347 (0.4%)\n",
      "\n",
      "🥇 TOP 20 ALOJAMIENTOS MEJOR CALIFICADOS:\n",
      "--------------------------------------------------------------------------------\n",
      "                           Nombre                              Tipo             Barrio  Calif. Prom.  Reseñas  Noches Ocup. Categoría\n",
      "     1 Ayora suite mediterránea 1                Entire rental unit         Sin_barrio          5.00        1           284 Excelente\n",
      "              Disfruta de Málaga. Private room in bed and breakfast         Sin_barrio          5.00        7           100 Excelente\n",
      "Golondrinas del museo: Van Gog...                Entire rental unit Málaga, Andaluc...          5.00        1           353 Excelente\n",
      "reizendes Landhaus mit Pool in...                      Entire villa Pollença, Illes...          5.00       11           354 Excelente\n",
      "         Modern Finca Es Capdella                       Entire home         Sin_barrio          5.00        2            35 Excelente\n",
      "      Apart centro grupos parking                Entire rental unit         Sin_barrio          5.00        1            39 Excelente\n",
      "Spacious Cortes Valencianas ba...                Entire rental unit         Sin_barrio          5.00        2           232 Excelente\n",
      "Moderno apartamento cerca del ...                Entire rental unit         Sin_barrio          5.00        1             0 Excelente\n",
      "                     CityRoomWifi       Private room in rental unit         Sin_barrio          5.00        1           355 Excelente\n",
      "                         El Ancla         Private room in tiny home         Sin_barrio          5.00        2            17 Excelente\n",
      "         Apartamento Mefistofeles                Entire rental unit         Sin_barrio          5.00        2            14 Excelente\n",
      "Ecopausa Beatas - Exterior Stu...                Entire rental unit         Sin_barrio          5.00        1           253 Excelente\n",
      "Suite con terraza - MAR CALMA ...                     Room in hotel         Sin_barrio          5.00        2           221 Excelente\n",
      "Gorgeous Villa-only 15 min wal...                      Entire villa         Sin_barrio          5.00        2           351 Excelente\n",
      "                   Villa Son Sard                       Entire home         Sin_barrio          5.00        1             6 Excelente\n",
      "       Habitación Doble Benicalap              Private room in home         Sin_barrio          5.00        1             4 Excelente\n",
      "Casa vacacional con piscina en...                       Entire home         Sin_barrio          5.00        1           362 Excelente\n",
      "Loft Colours 7 Cerca Estación ...                Entire rental unit         Sin_barrio          5.00        1           323 Excelente\n",
      "                    Finca Son Pol                      Entire villa         Sin_barrio          5.00        4           363 Excelente\n",
      "   Individual Guesthouse Mallorca                       Entire home         Sin_barrio          5.00        3           365 Excelente\n"
     ]
    },
    {
     "data": {
      "image/png": "[encoded data removed]",
      "text/plain": [
       "<Figure size 2000x1600 with 8 Axes>"
      ]
     },
     "metadata": {},
     "output_type": "display_data"
    },
    {
     "name": "stdout",
     "output_type": "stream",
     "text": [
      "\n",
      "================================================================================\n",
      "💡 INSIGHTS CLAVE:\n",
      "================================================================================\n",
      "📊 Correlación calificación-reseñas: 0.172\n",
      "🏠 Correlación calificación-ocupación: 0.074\n",
      "🎯 Categoría más común: Excelente\n",
      "🏆 Mejor tipo de propiedad (promedio): Private room in tiny home\n",
      "\n",
      "✅ Análisis completado exitosamente!\n",
      "📈 Se analizaron 93814 alojamientos\n"
     ]
    }
   ],
   "source": [
    "df_resultados, stats_generales, tabla_top = ejecutar_analisis_completo(df_ult_por_listado)"
   ]
  },
  {
   "cell_type": "markdown",
   "id": "cb823623",
   "metadata": {},
   "source": [
    "# performance de hosts"
   ]
  },
  {
   "cell_type": "code",
   "execution_count": 71,
   "id": "96df9d6e",
   "metadata": {},
   "outputs": [
    {
     "name": "stdout",
     "output_type": "stream",
     "text": [
      "🎯 INICIANDO ANÁLISIS COMPLETO DE PERFORMANCE DE HOSTS\n",
      "============================================================\n",
      "🚀 Iniciando análisis de performance de hosts...\n",
      "📊 Datos disponibles: 93814 listados de 10031 hosts únicos\n",
      "❌ Error durante el análisis: unsupported operand type(s) for /: 'str' and 'int'\n"
     ]
    },
    {
     "name": "stderr",
     "output_type": "stream",
     "text": [
      "Traceback (most recent call last):\n",
      "  File \"C:\\Users\\Victor\\AppData\\Local\\Temp\\ipykernel_35592\\2975492778.py\", line 445, in ejecutar_analisis_completo_hosts\n",
      "    df_performance, stats_generales, _ = analizar_performance_hosts_v2(df_ult_por_listado)\n",
      "                                         ^^^^^^^^^^^^^^^^^^^^^^^^^^^^^^^^^^^^^^^^^^^^^^^^^\n",
      "  File \"C:\\Users\\Victor\\AppData\\Local\\Temp\\ipykernel_35592\\2975492778.py\", line 184, in analizar_performance_hosts_v2\n",
      "    'porcentaje_superhosts': round((df_performance['is_superhost'].sum() / len(df_performance)) * 100, 1),\n",
      "                                    ~~~~~~~~~~~~~~~~~~~~~~~~~~~~~~~~~~~~~^~~~~~~~~~~~~~~~~~~~~\n",
      "TypeError: unsupported operand type(s) for /: 'str' and 'int'\n"
     ]
    }
   ],
   "source": [
    "# Configuración de estilo\n",
    "plt.style.use('seaborn-v0_8')\n",
    "sns.set_palette(\"husl\")\n",
    "\n",
    "def analizar_performance_hosts_v2(df_ult_por_listado):\n",
    "    \"\"\"\n",
    "    Análisis completo de performance de hosts - Versión mejorada\n",
    "    \"\"\"\n",
    "    print(\"🚀 Iniciando análisis de performance de hosts...\")\n",
    "    \n",
    "    # Crear copia del dataframe\n",
    "    df = df_ult_por_listado.copy()\n",
    "\n",
    "    columnas_numericas = [\n",
    "        'availability_365', 'price', 'number_of_reviews', 'review_scores_rating', 'noches_ocupadas'\n",
    "    ]\n",
    "    for col in columnas_numericas:\n",
    "        if col in df.columns:\n",
    "            df[col] = pd.to_numeric(df[col], errors='coerce')\n",
    "    \n",
    "    # Verificar columnas necesarias\n",
    "    columnas_requeridas = ['host_id']\n",
    "    columnas_faltantes = [col for col in columnas_requeridas if col not in df.columns]\n",
    "    \n",
    "    if columnas_faltantes:\n",
    "        print(f\"❌ Faltan columnas requeridas: {columnas_faltantes}\")\n",
    "        return None, None, None\n",
    "    \n",
    "    # Filtrar solo hosts válidos\n",
    "    df_hosts = df[df['host_id'].notna()].copy()\n",
    "    \n",
    "    print(f\"📊 Datos disponibles: {len(df_hosts)} listados de {df_hosts['host_id'].nunique()} hosts únicos\")\n",
    "    \n",
    "    # Preparar datos numéricos de forma segura\n",
    "    def convertir_a_numerico(serie, default=0):\n",
    "        \"\"\"Convierte una serie a numérico de forma segura\"\"\"\n",
    "        return pd.to_numeric(serie, errors='coerce').fillna(default)\n",
    "    \n",
    "    def convertir_porcentaje(serie):\n",
    "        \"\"\"Convierte porcentajes en string a float\"\"\"\n",
    "        if serie.dtype == 'object':\n",
    "            return serie.str.replace('%', '').pipe(pd.to_numeric, errors='coerce').fillna(0) / 100\n",
    "        return convertir_a_numerico(serie, 0)\n",
    "    \n",
    "    # Convertir columnas relevantes\n",
    "    if 'host_response_rate' in df_hosts.columns:\n",
    "        df_hosts['host_response_rate_num'] = convertir_porcentaje(df_hosts['host_response_rate'])\n",
    "    else:\n",
    "        df_hosts['host_response_rate_num'] = 0\n",
    "        \n",
    "    if 'host_acceptance_rate' in df_hosts.columns:\n",
    "        df_hosts['host_acceptance_rate_num'] = convertir_porcentaje(df_hosts['host_acceptance_rate'])\n",
    "    else:\n",
    "        df_hosts['host_acceptance_rate_num'] = 0\n",
    "    \n",
    "    # Asegurar columna de noches ocupadas\n",
    "    if 'noches_ocupadas' not in df_hosts.columns:\n",
    "        if 'availability_365' in df_hosts.columns:\n",
    "            df_hosts['noches_ocupadas'] = 365 - convertir_a_numerico(df_hosts['availability_365'], 365)\n",
    "        else:\n",
    "            df_hosts['noches_ocupadas'] = 0\n",
    "    \n",
    "    # Convertir columnas numéricas\n",
    "    df_hosts['number_of_reviews'] = convertir_a_numerico(df_hosts['number_of_reviews'], 0)\n",
    "    df_hosts['review_scores_rating'] = convertir_a_numerico(df_hosts['review_scores_rating'], 0)\n",
    "    df_hosts['price'] = convertir_a_numerico(df_hosts['price'], 0)\n",
    "    \n",
    "    # Convertir columnas booleanas\n",
    "    df_hosts['host_is_superhost'] = df_hosts.get('host_is_superhost', False).fillna(False)\n",
    "    df_hosts['host_identity_verified'] = df_hosts.get('host_identity_verified', False).fillna(False)\n",
    "    df_hosts['host_has_profile_pic'] = df_hosts.get('host_has_profile_pic', False).fillna(False)\n",
    "    \n",
    "    # Agrupar por host y calcular métricas\n",
    "    metricas_host = []\n",
    "    \n",
    "    for host_id, grupo in df_hosts.groupby('host_id'):\n",
    "        host_info = grupo.iloc[0]\n",
    "        \n",
    "        # Métricas básicas\n",
    "        num_propiedades = len(grupo)\n",
    "        total_reviews = grupo['number_of_reviews'].sum()\n",
    "        promedio_reviews = grupo['number_of_reviews'].mean()\n",
    "        total_noches_ocupadas = grupo['noches_ocupadas'].sum()\n",
    "        promedio_noches_ocupadas = grupo['noches_ocupadas'].mean()\n",
    "        \n",
    "        # Calificaciones\n",
    "        calificaciones = grupo['review_scores_rating'][grupo['review_scores_rating'] > 0]\n",
    "        calificacion_promedio = calificaciones.mean() if len(calificaciones) > 0 else 0\n",
    "        \n",
    "        # Ingresos estimados\n",
    "        ingreso_total = (grupo['price'] * grupo['noches_ocupadas']).sum()\n",
    "        ingreso_promedio = ingreso_total / num_propiedades if num_propiedades > 0 else 0\n",
    "        \n",
    "        # Diversidad\n",
    "        tipos_propiedad = grupo['property_type'].nunique() if 'property_type' in grupo.columns else 1\n",
    "        barrios = grupo['neighbourhood'].nunique() if 'neighbourhood' in grupo.columns else 1\n",
    "        \n",
    "        # Calcular score de performance\n",
    "        score_components = []\n",
    "        \n",
    "        # Componente 1: Calificaciones (30%)\n",
    "        if calificacion_promedio > 0:\n",
    "            score_calificacion = (calificacion_promedio / 5) * 30\n",
    "            score_components.append(score_calificacion)\n",
    "        \n",
    "        # Componente 2: Tasa de respuesta (20%)\n",
    "        response_rate = host_info['host_response_rate_num']\n",
    "        if response_rate > 0:\n",
    "            score_components.append(response_rate * 20)\n",
    "        \n",
    "        # Componente 3: Superhost (15%)\n",
    "        if host_info['host_is_superhost']:\n",
    "            score_components.append(15)\n",
    "        \n",
    "        # Componente 4: Ocupación (20%)\n",
    "        if promedio_noches_ocupadas > 0:\n",
    "            ocupacion_score = min(promedio_noches_ocupadas / 250, 1) * 20  # Max 250 noches/año\n",
    "            score_components.append(ocupacion_score)\n",
    "        \n",
    "        # Componente 5: Número de reseñas (10%)\n",
    "        if promedio_reviews > 0:\n",
    "            reviews_score = min(promedio_reviews / 50, 1) * 10  # Max 50 reviews promedio\n",
    "            score_components.append(reviews_score)\n",
    "        \n",
    "        # Componente 6: Verificaciones (5%)\n",
    "        verificaciones = 0\n",
    "        if host_info['host_identity_verified']:\n",
    "            verificaciones += 2.5\n",
    "        if host_info['host_has_profile_pic']:\n",
    "            verificaciones += 2.5\n",
    "        score_components.append(verificaciones)\n",
    "        \n",
    "        # Score final\n",
    "        performance_score = sum(score_components) if score_components else 0\n",
    "        \n",
    "        # Categorizar performance\n",
    "        if performance_score >= 80:\n",
    "            categoria = 'Elite'\n",
    "        elif performance_score >= 70:\n",
    "            categoria = 'Excelente'\n",
    "        elif performance_score >= 60:\n",
    "            categoria = 'Muy Bueno'\n",
    "        elif performance_score >= 50:\n",
    "            categoria = 'Bueno'\n",
    "        elif performance_score >= 40:\n",
    "            categoria = 'Regular'\n",
    "        else:\n",
    "            categoria = 'Necesita Mejorar'\n",
    "        \n",
    "        # Agregar métrica del host\n",
    "        metrica = {\n",
    "            'host_id': host_id,\n",
    "            'host_name': str(host_info.get('host_name', f'Host {host_id}'))[:50],\n",
    "            'is_superhost': host_info['host_is_superhost'],\n",
    "            'host_response_rate': response_rate,\n",
    "            'host_acceptance_rate': host_info['host_acceptance_rate_num'],\n",
    "            'host_identity_verified': host_info['host_identity_verified'],\n",
    "            'host_has_profile_pic': host_info['host_has_profile_pic'],\n",
    "            'num_propiedades': num_propiedades,\n",
    "            'total_reviews': int(total_reviews),\n",
    "            'promedio_reviews': round(promedio_reviews, 1),\n",
    "            'total_noches_ocupadas': int(total_noches_ocupadas),\n",
    "            'promedio_noches_ocupadas': round(promedio_noches_ocupadas, 1),\n",
    "            'calificacion_promedio': round(calificacion_promedio, 2),\n",
    "            'ingreso_total_estimado': round(ingreso_total, 2),\n",
    "            'ingreso_promedio_propiedad': round(ingreso_promedio, 2),\n",
    "            'tipos_propiedad_diferentes': tipos_propiedad,\n",
    "            'barrios_diferentes': barrios,\n",
    "            'performance_score': round(performance_score, 1),\n",
    "            'categoria_performance': categoria\n",
    "        }\n",
    "        \n",
    "        metricas_host.append(metrica)\n",
    "    \n",
    "    # Crear DataFrame\n",
    "    df_performance = pd.DataFrame(metricas_host)\n",
    "    df_performance = df_performance.sort_values('performance_score', ascending=False)\n",
    "    \n",
    "    # Estadísticas generales\n",
    "    stats_generales = {\n",
    "        'total_hosts': len(df_performance),\n",
    "        'total_propiedades': df_performance['num_propiedades'].sum(),\n",
    "        'promedio_propiedades_por_host': round(df_performance['num_propiedades'].mean(), 1),\n",
    "        'porcentaje_superhosts': round((df_performance['is_superhost'].sum() / len(df_performance)) * 100, 1),\n",
    "        'performance_promedio': round(df_performance['performance_score'].mean(), 1),\n",
    "        'mejor_performance': df_performance['performance_score'].max(),\n",
    "        'peor_performance': df_performance['performance_score'].min(),\n",
    "        'host_mas_propiedades': df_performance.loc[df_performance['num_propiedades'].idxmax(), 'host_name'],\n",
    "        'max_propiedades': df_performance['num_propiedades'].max()\n",
    "    }\n",
    "    \n",
    "    return df_performance, stats_generales, df_hosts\n",
    "\n",
    "def mostrar_tablas_performance(df_performance, stats_generales):\n",
    "    \"\"\"\n",
    "    Muestra tablas con los resultados del análisis\n",
    "    \"\"\"\n",
    "    print(\"\\n\" + \"=\"*100)\n",
    "    print(\"🏆 ANÁLISIS DE PERFORMANCE DE HOSTS\")\n",
    "    print(\"=\"*100)\n",
    "    \n",
    "    # Estadísticas generales\n",
    "    print(f\"\\n📈 ESTADÍSTICAS GENERALES:\")\n",
    "    print(f\"   • Total de hosts analizados: {stats_generales['total_hosts']:,}\")\n",
    "    print(f\"   • Total de propiedades gestionadas: {stats_generales['total_propiedades']:,}\")\n",
    "    print(f\"   • Promedio de propiedades por host: {stats_generales['promedio_propiedades_por_host']}\")\n",
    "    print(f\"   • Porcentaje de Superhosts: {stats_generales['porcentaje_superhosts']}%\")\n",
    "    print(f\"   • Score de performance promedio: {stats_generales['performance_promedio']}\")\n",
    "    print(f\"   • Mejor performance: {stats_generales['mejor_performance']}\")\n",
    "    print(f\"   • Host con más propiedades: {stats_generales['host_mas_propiedades']} ({stats_generales['max_propiedades']} propiedades)\")\n",
    "    \n",
    "    # Distribución por categorías\n",
    "    print(f\"\\n🎯 DISTRIBUCIÓN POR CATEGORÍAS DE PERFORMANCE:\")\n",
    "    distribucion = df_performance['categoria_performance'].value_counts()\n",
    "    for categoria, cantidad in distribucion.items():\n",
    "        porcentaje = (cantidad / len(df_performance)) * 100\n",
    "        print(f\"   • {categoria}: {cantidad} hosts ({porcentaje:.1f}%)\")\n",
    "    \n",
    "    # Top 20 hosts\n",
    "    print(f\"\\n🥇 TOP 20 HOSTS CON MEJOR PERFORMANCE:\")\n",
    "    print(\"-\" * 100)\n",
    "    \n",
    "    top_20 = df_performance.head(20)[['host_name', 'categoria_performance', 'performance_score', \n",
    "                                     'is_superhost', 'num_propiedades', 'calificacion_promedio',\n",
    "                                     'total_reviews', 'promedio_noches_ocupadas']].copy()\n",
    "    \n",
    "    top_20['is_superhost'] = top_20['is_superhost'].apply(lambda x: '✓' if x else '✗')\n",
    "    top_20['host_name'] = top_20['host_name'].apply(lambda x: x[:30] + '...' if len(x) > 30 else x)\n",
    "    \n",
    "    # Renombrar columnas para mostrar\n",
    "    top_20.columns = ['Host', 'Categoría', 'Score', 'Superhost', 'Propiedades', \n",
    "                     'Calificación', 'Reviews', 'Noches Ocup.']\n",
    "    \n",
    "    print(top_20.to_string(index=False, float_format='%.1f'))\n",
    "    \n",
    "    # Tabla de hosts por categoría\n",
    "    print(f\"\\n📊 MEJORES HOSTS POR CATEGORÍA:\")\n",
    "    print(\"-\" * 100)\n",
    "    \n",
    "    for categoria in ['Elite', 'Excelente', 'Muy Bueno']:\n",
    "        hosts_categoria = df_performance[df_performance['categoria_performance'] == categoria]\n",
    "        if not hosts_categoria.empty:\n",
    "            print(f\"\\n{categoria.upper()} - Top 5:\")\n",
    "            top_categoria = hosts_categoria.head(5)[['host_name', 'performance_score', \n",
    "                                                   'num_propiedades', 'calificacion_promedio']]\n",
    "            top_categoria['host_name'] = top_categoria['host_name'].apply(lambda x: x[:35] + '...' if len(x) > 35 else x)\n",
    "            top_categoria.columns = ['Host', 'Score', 'Propiedades', 'Calificación']\n",
    "            print(top_categoria.to_string(index=False, float_format='%.1f'))\n",
    "    \n",
    "    return top_20\n",
    "\n",
    "def crear_visualizaciones_performance(df_performance, stats_generales):\n",
    "    \"\"\"\n",
    "    Crea visualizaciones del performance de hosts\n",
    "    \"\"\"\n",
    "    # Configurar subplots\n",
    "    fig = make_subplots(\n",
    "        rows=3, cols=2,\n",
    "        subplot_titles=['Distribución de Performance Scores', 'Categorías de Performance',\n",
    "                       'Performance vs Número de Propiedades', 'Superhosts vs Performance',\n",
    "                       'Top 10 Hosts por Performance', 'Calificación vs Performance'],\n",
    "        specs=[[{\"type\": \"histogram\"}, {\"type\": \"pie\"}],\n",
    "               [{\"type\": \"scatter\"}, {\"type\": \"box\"}],\n",
    "               [{\"type\": \"bar\", \"colspan\": 2}, None]],\n",
    "        vertical_spacing=0.12,\n",
    "        horizontal_spacing=0.1\n",
    "    )\n",
    "    \n",
    "    # 1. Histograma de performance scores\n",
    "    fig.add_trace(\n",
    "        go.Histogram(x=df_performance['performance_score'], \n",
    "                    nbinsx=20, name='Performance Score',\n",
    "                    marker_color='skyblue'),\n",
    "        row=1, col=1\n",
    "    )\n",
    "    \n",
    "    # 2. Pie chart de categorías\n",
    "    distribucion = df_performance['categoria_performance'].value_counts()\n",
    "    colors = ['#FF6B6B', '#4ECDC4', '#45B7D1', '#96CEB4', '#FFEAA7', '#DDA0DD']\n",
    "    \n",
    "    fig.add_trace(\n",
    "        go.Pie(labels=distribucion.index, values=distribucion.values,\n",
    "               marker_colors=colors[:len(distribucion)]),\n",
    "        row=1, col=2\n",
    "    )\n",
    "    \n",
    "    # 3. Scatter: Performance vs Propiedades\n",
    "    fig.add_trace(\n",
    "        go.Scatter(x=df_performance['num_propiedades'],\n",
    "                  y=df_performance['performance_score'],\n",
    "                  mode='markers',\n",
    "                  marker=dict(size=8, color=df_performance['total_reviews'],\n",
    "                            colorscale='Viridis', showscale=True,\n",
    "                            colorbar=dict(title=\"Total Reviews\")),\n",
    "                  text=df_performance['host_name'],\n",
    "                  hovertemplate='<b>%{text}</b><br>Propiedades: %{x}<br>Performance: %{y:.1f}<extra></extra>'),\n",
    "        row=2, col=1\n",
    "    )\n",
    "    \n",
    "    # 4. Box plot: Superhosts vs Performance\n",
    "    superhosts = df_performance[df_performance['is_superhost'] == True]['performance_score']\n",
    "    no_superhosts = df_performance[df_performance['is_superhost'] == False]['performance_score']\n",
    "    \n",
    "    fig.add_trace(\n",
    "        go.Box(y=superhosts, name='Superhosts', marker_color='gold'),\n",
    "        row=2, col=2\n",
    "    )\n",
    "    fig.add_trace(\n",
    "        go.Box(y=no_superhosts, name='No Superhosts', marker_color='lightblue'),\n",
    "        row=2, col=2\n",
    "    )\n",
    "    \n",
    "    # 5. Top 10 hosts\n",
    "    top_10 = df_performance.head(10)\n",
    "    fig.add_trace(\n",
    "        go.Bar(x=top_10['performance_score'],\n",
    "               y=[name[:25] + '...' if len(name) > 25 else name for name in top_10['host_name']],\n",
    "               orientation='h',\n",
    "               marker_color=top_10['performance_score'],\n",
    "               colorscale='RdYlGn',\n",
    "               text=top_10['performance_score'],\n",
    "               textposition='inside'),\n",
    "        row=3, col=1\n",
    "    )\n",
    "    \n",
    "    # 6. Scatter: Calificación vs Performance\n",
    "    valid_ratings = df_performance[df_performance['calificacion_promedio'] > 0]\n",
    "    fig.add_trace(\n",
    "        go.Scatter(x=valid_ratings['calificacion_promedio'],\n",
    "                  y=valid_ratings['performance_score'],\n",
    "                  mode='markers',\n",
    "                  marker=dict(size=8, color='coral'),\n",
    "                  text=valid_ratings['host_name'],\n",
    "                  hovertemplate='<b>%{text}</b><br>Calificación: %{x:.2f}<br>Performance: %{y:.1f}<extra></extra>'),\n",
    "        row=2, col=2\n",
    "    )\n",
    "    \n",
    "    # Actualizar layout\n",
    "    fig.update_layout(\n",
    "        height=1200,\n",
    "        title_text=f\"🏠 ANÁLISIS DE PERFORMANCE DE HOSTS - {stats_generales['total_hosts']} Hosts Analizados\",\n",
    "        title_x=0.5,\n",
    "        title_font_size=20,\n",
    "        showlegend=False\n",
    "    )\n",
    "    \n",
    "    # Actualizar ejes\n",
    "    fig.update_xaxes(title_text=\"Performance Score\", row=1, col=1)\n",
    "    fig.update_yaxes(title_text=\"Frecuencia\", row=1, col=1)\n",
    "    fig.update_xaxes(title_text=\"Número de Propiedades\", row=2, col=1)\n",
    "    fig.update_yaxes(title_text=\"Performance Score\", row=2, col=1)\n",
    "    fig.update_yaxes(title_text=\"Performance Score\", row=2, col=2)\n",
    "    fig.update_xaxes(title_text=\"Performance Score\", row=3, col=1)\n",
    "    fig.update_yaxes(title_text=\"Host\", row=3, col=1)\n",
    "    \n",
    "    fig.show()\n",
    "    \n",
    "    # Crear segundo gráfico: Análisis detallado\n",
    "    crear_grafico_detallado(df_performance, stats_generales)\n",
    "    \n",
    "    return fig\n",
    "\n",
    "def crear_grafico_detallado(df_performance, stats_generales):\n",
    "    \"\"\"\n",
    "    Crea gráfico detallado adicional\n",
    "    \"\"\"\n",
    "    fig, axes = plt.subplots(2, 2, figsize=(16, 12))\n",
    "    fig.suptitle('📊 ANÁLISIS DETALLADO DE PERFORMANCE DE HOSTS', fontsize=16, fontweight='bold')\n",
    "    \n",
    "    # 1. Distribución de performance por número de propiedades\n",
    "    ax1 = axes[0, 0]\n",
    "    bins = [1, 2, 3, 5, 10, float('inf')]\n",
    "    labels = ['1', '2', '3-4', '5-9', '10+']\n",
    "    df_performance['prop_group'] = pd.cut(df_performance['num_propiedades'], bins=bins, labels=labels, right=False)\n",
    "    \n",
    "    prop_performance = df_performance.groupby('prop_group')['performance_score'].mean()\n",
    "    bars = ax1.bar(prop_performance.index, prop_performance.values, color='steelblue', alpha=0.7)\n",
    "    ax1.set_title('Performance Promedio por Número de Propiedades')\n",
    "    ax1.set_xlabel('Número de Propiedades')\n",
    "    ax1.set_ylabel('Performance Score Promedio')\n",
    "    \n",
    "    # Añadir valores en las barras\n",
    "    for bar in bars:\n",
    "        height = bar.get_height()\n",
    "        ax1.text(bar.get_x() + bar.get_width()/2., height + 1,\n",
    "                f'{height:.1f}', ha='center', va='bottom')\n",
    "    \n",
    "    # 2. Heatmap de correlaciones\n",
    "    ax2 = axes[0, 1]\n",
    "    corr_cols = ['performance_score', 'num_propiedades', 'total_reviews', \n",
    "                'promedio_noches_ocupadas', 'calificacion_promedio']\n",
    "    \n",
    "    corr_data = df_performance[corr_cols].corr()\n",
    "    ax2.imshow(corr_data, cmap='coolwarm', aspect='auto', vmin=-1, vmax=1)\n",
    "    \n",
    "    ax2.set_xticks(range(len(corr_cols)))\n",
    "    ax2.set_yticks(range(len(corr_cols)))\n",
    "    ax2.set_xticklabels([col.replace('_', ' ').title() for col in corr_cols], rotation=45)\n",
    "    ax2.set_yticklabels([col.replace('_', ' ').title() for col in corr_cols])\n",
    "    ax2.set_title('Matriz de Correlaciones')\n",
    "    \n",
    "    # Añadir valores de correlación\n",
    "    for i in range(len(corr_cols)):\n",
    "        for j in range(len(corr_cols)):\n",
    "            ax2.text(j, i, f'{corr_data.iloc[i, j]:.2f}',\n",
    "                     ha=\"center\", va=\"center\", color=\"black\", fontweight='bold')\n",
    "    \n",
    "    # 3. Performance por categoría de superhost\n",
    "    ax3 = axes[1, 0]\n",
    "    performance_by_superhost = df_performance.groupby('is_superhost')['performance_score'].mean()\n",
    "    colors = ['lightcoral', 'gold']\n",
    "    bars = ax3.bar(['No Superhost', 'Superhost'], performance_by_superhost.values, color=colors)\n",
    "    ax3.set_title('Performance Promedio: Superhosts vs No Superhosts')\n",
    "    ax3.set_ylabel('Performance Score Promedio')\n",
    "    \n",
    "    for bar in bars:\n",
    "        height = bar.get_height()\n",
    "        ax3.text(bar.get_x() + bar.get_width()/2., height + 1,\n",
    "                f'{height:.1f}', ha='center', va='bottom')\n",
    "    \n",
    "    # 4. Distribución de ingresos estimados (top 20%)\n",
    "    ax4 = axes[1, 1]\n",
    "    top_20_percent = int(len(df_performance) * 0.2)\n",
    "    top_earners = df_performance.head(top_20_percent)\n",
    "    \n",
    "    ax4.hist(top_earners['ingreso_total_estimado'], bins=15, alpha=0.7, color='green', edgecolor='black')\n",
    "    ax4.set_title('Distribución de Ingresos Estimados (Top 20%)')\n",
    "    ax4.set_xlabel('Ingreso Total Estimado')\n",
    "    ax4.set_ylabel('Frecuencia')\n",
    "    \n",
    "    plt.tight_layout()\n",
    "    plt.show()\n",
    "    \n",
    "    return fig\n",
    "\n",
    "def ejecutar_analisis_completo_hosts(df_ult_por_listado):\n",
    "    \"\"\"\n",
    "    Función principal que ejecuta todo el análisis\n",
    "    \"\"\"\n",
    "    print(\"🎯 INICIANDO ANÁLISIS COMPLETO DE PERFORMANCE DE HOSTS\")\n",
    "    print(\"=\"*60)\n",
    "    \n",
    "    try:\n",
    "        # Realizar análisis\n",
    "        df_performance, stats_generales, _ = analizar_performance_hosts_v2(df_ult_por_listado)\n",
    "        \n",
    "        if df_performance is not None and not df_performance.empty:\n",
    "            # Mostrar tablas\n",
    "            tabla_top = mostrar_tablas_performance(df_performance, stats_generales)\n",
    "            \n",
    "            # Crear visualizaciones\n",
    "            crear_visualizaciones_performance(df_performance, stats_generales)\n",
    "            \n",
    "            print(f\"\\n✅ ANÁLISIS COMPLETADO EXITOSAMENTE!\")\n",
    "            print(f\"📈 Hosts analizados: {len(df_performance)}\")\n",
    "            print(f\"🏠 Propiedades totales: {stats_generales['total_propiedades']}\")\n",
    "            print(f\"⭐ Performance promedio: {stats_generales['performance_promedio']}\")\n",
    "            \n",
    "            return df_performance, stats_generales, tabla_top\n",
    "        else:\n",
    "            print(\"❌ No se pudo completar el análisis\")\n",
    "            return None, None, None\n",
    "            \n",
    "    except Exception as e:\n",
    "        print(f\"❌ Error durante el análisis: {str(e)}\")\n",
    "        import traceback\n",
    "        traceback.print_exc()\n",
    "        return None, None, None\n",
    "\n",
    "# Asegurarse de que df_ult_por_listado está definido antes de ejecutar el análisis\n",
    "if 'df_ult_por_listado' not in locals():\n",
    "    import pandas as pd\n",
    "    # Crear un DataFrame de ejemplo mínimo para evitar errores\n",
    "    df_ult_por_listado = pd.DataFrame({\n",
    "        'host_id': [1],\n",
    "        'host_name': ['Ejemplo'],\n",
    "        'host_is_superhost': [True],\n",
    "        'host_response_rate': ['100%'],\n",
    "        'host_acceptance_rate': ['100%'],\n",
    "        'host_identity_verified': [True],\n",
    "        'host_has_profile_pic': [True],\n",
    "        'number_of_reviews': [10],\n",
    "        'review_scores_rating': [4.8],\n",
    "        'price': [100],\n",
    "        'availability_365': [100],\n",
    "        'property_type': ['Apartamento'],\n",
    "        'neighbourhood': ['Centro']\n",
    "    })\n",
    "\n",
    "# Ejecutar el análisis\n",
    "_ = ejecutar_analisis_completo_hosts(df_ult_por_listado)"
   ]
  }
 ],
 "metadata": {
  "kernelspec": {
   "display_name": "Python 3",
   "language": "python",
   "name": "python3"
  },
  "language_info": {
   "codemirror_mode": {
    "name": "ipython",
    "version": 3
   },
   "file_extension": ".py",
   "mimetype": "text/x-python",
   "name": "python",
   "nbconvert_exporter": "python",
   "pygments_lexer": "ipython3",
   "version": "3.12.4"
  }
 },
 "nbformat": 4,
 "nbformat_minor": 5
}
